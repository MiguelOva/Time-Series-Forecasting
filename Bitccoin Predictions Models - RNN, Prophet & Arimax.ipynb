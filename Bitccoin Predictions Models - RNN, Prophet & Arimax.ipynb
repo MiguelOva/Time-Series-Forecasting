{
 "cells": [
  {
   "cell_type": "markdown",
   "metadata": {},
   "source": [
    "# Bitcoin USD - Time Series Forecasting"
   ]
  },
  {
   "cell_type": "markdown",
   "metadata": {},
   "source": [
    "# <font color='blue'>0. Identification for Business Requirements</font> <a class=\"anchor\" id=\"first-bullet\"></a>"
   ]
  },
  {
   "cell_type": "markdown",
   "metadata": {},
   "source": [
    "### A Short Description About the Dataset & It's Source\n",
    "\n",
    "\n",
    "####  Dataset of Bitcoin Historical Data\n",
    "The dataset is a mix of CSV files for select bitcoin exchanges for the time period of Jan 2012 to December March 2021, with minute to minute updates of OHLC (Open, High, Low, Close), Volume in BTC and indicated currency, and weighted bitcoin price. \n",
    "\n",
    "Source of Datasets:\n",
    "\n",
    "Created by Zielak,\n",
    "Neuroscience Ph.D. - Data Scientist <br>\n",
    "https://www.kaggle.com/datasets/mczielinski/bitcoin-historical-data"
   ]
  },
  {
   "cell_type": "markdown",
   "metadata": {},
   "source": [
    "## <font color= blue >1. Importing the Necessary Libraries</font> <a class=\"anchor\" id=\"second-bullet\"></a>"
   ]
  },
  {
   "cell_type": "code",
   "execution_count": 48,
   "metadata": {},
   "outputs": [],
   "source": [
    "import tensorflow as tf"
   ]
  },
  {
   "cell_type": "code",
   "execution_count": 49,
   "metadata": {},
   "outputs": [
    {
     "name": "stdout",
     "output_type": "stream",
     "text": [
      "Num GPUs Available:  1\n"
     ]
    }
   ],
   "source": [
    "print(\"Num GPUs Available: \", len(tf.config.list_physical_devices('GPU')))"
   ]
  },
  {
   "cell_type": "code",
   "execution_count": 50,
   "metadata": {},
   "outputs": [
    {
     "data": {
      "text/html": [
       "        <script type=\"text/javascript\">\n",
       "        window.PlotlyConfig = {MathJaxConfig: 'local'};\n",
       "        if (window.MathJax) {MathJax.Hub.Config({SVG: {font: \"STIX-Web\"}});}\n",
       "        if (typeof require !== 'undefined') {\n",
       "        require.undef(\"plotly\");\n",
       "        requirejs.config({\n",
       "            paths: {\n",
       "                'plotly': ['https://cdn.plot.ly/plotly-2.11.1.min']\n",
       "            }\n",
       "        });\n",
       "        require(['plotly'], function(Plotly) {\n",
       "            window._Plotly = Plotly;\n",
       "        });\n",
       "        }\n",
       "        </script>\n",
       "        "
      ]
     },
     "metadata": {},
     "output_type": "display_data"
    }
   ],
   "source": [
    "#########BASIC\n",
    "import numpy as np \n",
    "import pandas as pd\n",
    "import matplotlib.pyplot as plt\n",
    "import seaborn as sns\n",
    "from sklearn.metrics import r2_score\n",
    "from sklearn.metrics import accuracy_score\n",
    "\n",
    "######## GRAPHICAL\n",
    "from plotly import tools\n",
    "from plotly.offline import init_notebook_mode, iplot\n",
    "init_notebook_mode(connected=True)\n",
    "import plotly.graph_objs as go\n",
    "import gc\n",
    "import matplotlib.pyplot as plt\n",
    "\n",
    "######## STATISTICAL\n",
    "from statsmodels.graphics.tsaplots import plot_acf\n",
    "from statsmodels.graphics.tsaplots import plot_pacf\n",
    "from matplotlib import pyplot\n",
    "import matplotlib.pyplot as plt\n",
    "\n",
    "######### RNN\n",
    "from tensorflow.keras.models import Sequential\n",
    "from tensorflow.keras.layers import Dense\n",
    "from tensorflow.keras.layers import LSTM\n",
    "from tensorflow.keras.layers import Dropout\n",
    "from tensorflow.keras.layers import Activation\n",
    "\n",
    "######## FB PROPHET\n",
    "from prophet import Prophet\n",
    "from prophet.utilities import regressor_coefficients\n",
    "from prophet.diagnostics import cross_validation, performance_metrics\n",
    "from prophet.plot import add_changepoints_to_plot, plot_cross_validation_metric\n",
    "\n",
    "########ARIMAX\n",
    "import pmdarima as pm\n",
    "\n",
    "######### WARNINGS\n",
    "import warnings\n",
    "warnings.filterwarnings('ignore')"
   ]
  },
  {
   "cell_type": "code",
   "execution_count": 51,
   "metadata": {},
   "outputs": [],
   "source": [
    "from cryptocmd import CmcScraper"
   ]
  },
  {
   "cell_type": "markdown",
   "metadata": {},
   "source": [
    "## <font color= blue >2. Loading the dataset </font> <a class=\"anchor\" id=\"third-bullet\"></a>"
   ]
  },
  {
   "cell_type": "code",
   "execution_count": 52,
   "metadata": {},
   "outputs": [],
   "source": [
    "# Block 1\n",
    "# load data with CmC Scrapper\n",
    "class CryptoData:\n",
    "    \"\"\"\n",
    "    This class is responsible for fetching and formatting cryptocurrency data.\n",
    "    \n",
    "    Input:\n",
    "        crypto_symbol (str): The symbol of the cryptocurrency, e.g., \"BTC\" for Bitcoin.\n",
    "        \n",
    "    Methods:\n",
    "        get_cryptocmd_data: Fetches cryptocurrency data and returns a formatted DataFrame.\n",
    "        get_display_data: Fetches and formats cryptocurrency data for display purposes.\n",
    "    \"\"\"\n",
    "    def __init__(self, crypto_symbol: str):\n",
    "        self.crypto_symbol = crypto_symbol\n",
    "\n",
    "    def _fetch_cryptocmd_data(self) -> pd.DataFrame:\n",
    "        try:\n",
    "            scraper = CmcScraper(self.crypto_symbol)\n",
    "            return scraper.get_dataframe()\n",
    "        except Exception as e:\n",
    "            print(f'An error occurred while fetching data: {e}')\n",
    "            return pd.DataFrame()  # Return an empty DataFrame when an error occurs\n",
    "\n",
    "    def get_cryptocmd_data(self) -> pd.DataFrame:\n",
    "        df = self._fetch_cryptocmd_data()\n",
    "        df.set_index('Date', inplace=True)\n",
    "        df.index = pd.to_datetime(df.index)\n",
    "        return df.round(2)\n",
    "\n",
    "    @staticmethod\n",
    "    def _format_monetary_value(value: float) -> str:\n",
    "        return \"${:,.2f}\".format(value)\n",
    "\n",
    "    @staticmethod\n",
    "    def _format_volume_value(value: float) -> str:\n",
    "        return \"{:,.2f}\".format(value)\n",
    "\n",
    "    def get_display_data(self) -> pd.DataFrame:\n",
    "        display_df = self.get_cryptocmd_data().copy()\n",
    "        monetary_columns = ['Open', 'High', 'Low', 'Close', 'Market Cap']\n",
    "        display_df[monetary_columns] = display_df[monetary_columns].applymap(self._format_monetary_value)\n",
    "        display_df['Volume'] = display_df['Volume'].apply(self._format_volume_value)\n",
    "        return display_df"
   ]
  },
  {
   "cell_type": "markdown",
   "metadata": {},
   "source": [
    "# -------------------------------------------------------------------------------------"
   ]
  },
  {
   "cell_type": "markdown",
   "metadata": {},
   "source": [
    "## <font color= blue >3. Exploratory Data Analysis </font> <a class=\"anchor\" id=\"fourth-bullet\"></a>"
   ]
  },
  {
   "cell_type": "markdown",
   "metadata": {},
   "source": [
    "#### Data Exploration\n",
    "\n",
    "In this section we will explore the Historic Bitcoin Prices and try to find some insights. We will be using the Coinbase dataset as it is one of the mostly used Bitcoin Exchange/Wallet in the world."
   ]
  },
  {
   "cell_type": "code",
   "execution_count": 53,
   "metadata": {},
   "outputs": [],
   "source": [
    "crypto = CryptoData(\"BTC\")\n",
    "data = crypto.get_cryptocmd_data()"
   ]
  },
  {
   "cell_type": "code",
   "execution_count": 54,
   "metadata": {},
   "outputs": [
    {
     "name": "stdout",
     "output_type": "stream",
     "text": [
      "<class 'pandas.core.frame.DataFrame'>\n",
      "DatetimeIndex: 3699 entries, 2023-06-13 to 2013-04-28\n",
      "Data columns (total 6 columns):\n",
      " #   Column      Non-Null Count  Dtype  \n",
      "---  ------      --------------  -----  \n",
      " 0   Open        3699 non-null   float64\n",
      " 1   High        3699 non-null   float64\n",
      " 2   Low         3699 non-null   float64\n",
      " 3   Close       3699 non-null   float64\n",
      " 4   Volume      3699 non-null   float64\n",
      " 5   Market Cap  3699 non-null   float64\n",
      "dtypes: float64(6)\n",
      "memory usage: 202.3 KB\n"
     ]
    }
   ],
   "source": [
    "data.info()"
   ]
  },
  {
   "cell_type": "code",
   "execution_count": 55,
   "metadata": {},
   "outputs": [
    {
     "data": {
      "text/html": [
       "<div>\n",
       "<style scoped>\n",
       "    .dataframe tbody tr th:only-of-type {\n",
       "        vertical-align: middle;\n",
       "    }\n",
       "\n",
       "    .dataframe tbody tr th {\n",
       "        vertical-align: top;\n",
       "    }\n",
       "\n",
       "    .dataframe thead th {\n",
       "        text-align: right;\n",
       "    }\n",
       "</style>\n",
       "<table border=\"1\" class=\"dataframe\">\n",
       "  <thead>\n",
       "    <tr style=\"text-align: right;\">\n",
       "      <th></th>\n",
       "      <th>Open</th>\n",
       "      <th>High</th>\n",
       "      <th>Low</th>\n",
       "      <th>Close</th>\n",
       "      <th>Volume</th>\n",
       "      <th>Market Cap</th>\n",
       "    </tr>\n",
       "  </thead>\n",
       "  <tbody>\n",
       "    <tr>\n",
       "      <th>count</th>\n",
       "      <td>3699.000000</td>\n",
       "      <td>3699.000000</td>\n",
       "      <td>3699.000000</td>\n",
       "      <td>3699.000000</td>\n",
       "      <td>3.699000e+03</td>\n",
       "      <td>3.699000e+03</td>\n",
       "    </tr>\n",
       "    <tr>\n",
       "      <th>mean</th>\n",
       "      <td>11696.259973</td>\n",
       "      <td>11983.796088</td>\n",
       "      <td>11379.636175</td>\n",
       "      <td>11702.022736</td>\n",
       "      <td>1.430764e+10</td>\n",
       "      <td>2.171024e+11</td>\n",
       "    </tr>\n",
       "    <tr>\n",
       "      <th>std</th>\n",
       "      <td>15542.631015</td>\n",
       "      <td>15932.258681</td>\n",
       "      <td>15097.066122</td>\n",
       "      <td>15540.158858</td>\n",
       "      <td>1.906682e+10</td>\n",
       "      <td>2.942832e+11</td>\n",
       "    </tr>\n",
       "    <tr>\n",
       "      <th>min</th>\n",
       "      <td>68.500000</td>\n",
       "      <td>74.560000</td>\n",
       "      <td>65.530000</td>\n",
       "      <td>68.430000</td>\n",
       "      <td>0.000000e+00</td>\n",
       "      <td>7.784112e+08</td>\n",
       "    </tr>\n",
       "    <tr>\n",
       "      <th>25%</th>\n",
       "      <td>538.960000</td>\n",
       "      <td>572.790000</td>\n",
       "      <td>521.810000</td>\n",
       "      <td>546.490000</td>\n",
       "      <td>4.788520e+07</td>\n",
       "      <td>7.144724e+09</td>\n",
       "    </tr>\n",
       "    <tr>\n",
       "      <th>50%</th>\n",
       "      <td>6239.250000</td>\n",
       "      <td>6374.980000</td>\n",
       "      <td>6103.330000</td>\n",
       "      <td>6242.190000</td>\n",
       "      <td>5.002962e+09</td>\n",
       "      <td>1.083385e+11</td>\n",
       "    </tr>\n",
       "    <tr>\n",
       "      <th>75%</th>\n",
       "      <td>16688.380000</td>\n",
       "      <td>16938.980000</td>\n",
       "      <td>16499.665000</td>\n",
       "      <td>16704.665000</td>\n",
       "      <td>2.501136e+10</td>\n",
       "      <td>3.191867e+11</td>\n",
       "    </tr>\n",
       "    <tr>\n",
       "      <th>max</th>\n",
       "      <td>67549.740000</td>\n",
       "      <td>68789.630000</td>\n",
       "      <td>66382.060000</td>\n",
       "      <td>67566.830000</td>\n",
       "      <td>3.509679e+11</td>\n",
       "      <td>1.274831e+12</td>\n",
       "    </tr>\n",
       "  </tbody>\n",
       "</table>\n",
       "</div>"
      ],
      "text/plain": [
       "               Open          High           Low         Close        Volume  \\\n",
       "count   3699.000000   3699.000000   3699.000000   3699.000000  3.699000e+03   \n",
       "mean   11696.259973  11983.796088  11379.636175  11702.022736  1.430764e+10   \n",
       "std    15542.631015  15932.258681  15097.066122  15540.158858  1.906682e+10   \n",
       "min       68.500000     74.560000     65.530000     68.430000  0.000000e+00   \n",
       "25%      538.960000    572.790000    521.810000    546.490000  4.788520e+07   \n",
       "50%     6239.250000   6374.980000   6103.330000   6242.190000  5.002962e+09   \n",
       "75%    16688.380000  16938.980000  16499.665000  16704.665000  2.501136e+10   \n",
       "max    67549.740000  68789.630000  66382.060000  67566.830000  3.509679e+11   \n",
       "\n",
       "         Market Cap  \n",
       "count  3.699000e+03  \n",
       "mean   2.171024e+11  \n",
       "std    2.942832e+11  \n",
       "min    7.784112e+08  \n",
       "25%    7.144724e+09  \n",
       "50%    1.083385e+11  \n",
       "75%    3.191867e+11  \n",
       "max    1.274831e+12  "
      ]
     },
     "execution_count": 55,
     "metadata": {},
     "output_type": "execute_result"
    }
   ],
   "source": [
    "data.describe()"
   ]
  },
  {
   "cell_type": "code",
   "execution_count": 56,
   "metadata": {},
   "outputs": [
    {
     "data": {
      "text/html": [
       "<div>\n",
       "<style scoped>\n",
       "    .dataframe tbody tr th:only-of-type {\n",
       "        vertical-align: middle;\n",
       "    }\n",
       "\n",
       "    .dataframe tbody tr th {\n",
       "        vertical-align: top;\n",
       "    }\n",
       "\n",
       "    .dataframe thead th {\n",
       "        text-align: right;\n",
       "    }\n",
       "</style>\n",
       "<table border=\"1\" class=\"dataframe\">\n",
       "  <thead>\n",
       "    <tr style=\"text-align: right;\">\n",
       "      <th></th>\n",
       "      <th>Open</th>\n",
       "      <th>High</th>\n",
       "      <th>Low</th>\n",
       "      <th>Close</th>\n",
       "      <th>Volume</th>\n",
       "      <th>Market Cap</th>\n",
       "    </tr>\n",
       "    <tr>\n",
       "      <th>Date</th>\n",
       "      <th></th>\n",
       "      <th></th>\n",
       "      <th></th>\n",
       "      <th></th>\n",
       "      <th></th>\n",
       "      <th></th>\n",
       "    </tr>\n",
       "  </thead>\n",
       "  <tbody>\n",
       "    <tr>\n",
       "      <th>2023-06-13</th>\n",
       "      <td>25902.94</td>\n",
       "      <td>26376.35</td>\n",
       "      <td>25728.37</td>\n",
       "      <td>25918.73</td>\n",
       "      <td>1.414347e+10</td>\n",
       "      <td>5.028638e+11</td>\n",
       "    </tr>\n",
       "    <tr>\n",
       "      <th>2023-06-12</th>\n",
       "      <td>25934.29</td>\n",
       "      <td>26087.92</td>\n",
       "      <td>25675.20</td>\n",
       "      <td>25902.50</td>\n",
       "      <td>1.167789e+10</td>\n",
       "      <td>5.025237e+11</td>\n",
       "    </tr>\n",
       "    <tr>\n",
       "      <th>2023-06-11</th>\n",
       "      <td>25854.03</td>\n",
       "      <td>26203.44</td>\n",
       "      <td>25668.99</td>\n",
       "      <td>25940.17</td>\n",
       "      <td>1.073261e+10</td>\n",
       "      <td>5.032310e+11</td>\n",
       "    </tr>\n",
       "    <tr>\n",
       "      <th>2023-06-10</th>\n",
       "      <td>26481.76</td>\n",
       "      <td>26531.05</td>\n",
       "      <td>25501.84</td>\n",
       "      <td>25851.24</td>\n",
       "      <td>1.987293e+10</td>\n",
       "      <td>5.014774e+11</td>\n",
       "    </tr>\n",
       "    <tr>\n",
       "      <th>2023-06-09</th>\n",
       "      <td>26505.92</td>\n",
       "      <td>26770.29</td>\n",
       "      <td>26339.32</td>\n",
       "      <td>26480.38</td>\n",
       "      <td>1.101555e+10</td>\n",
       "      <td>5.136570e+11</td>\n",
       "    </tr>\n",
       "  </tbody>\n",
       "</table>\n",
       "</div>"
      ],
      "text/plain": [
       "                Open      High       Low     Close        Volume    Market Cap\n",
       "Date                                                                          \n",
       "2023-06-13  25902.94  26376.35  25728.37  25918.73  1.414347e+10  5.028638e+11\n",
       "2023-06-12  25934.29  26087.92  25675.20  25902.50  1.167789e+10  5.025237e+11\n",
       "2023-06-11  25854.03  26203.44  25668.99  25940.17  1.073261e+10  5.032310e+11\n",
       "2023-06-10  26481.76  26531.05  25501.84  25851.24  1.987293e+10  5.014774e+11\n",
       "2023-06-09  26505.92  26770.29  26339.32  26480.38  1.101555e+10  5.136570e+11"
      ]
     },
     "metadata": {},
     "output_type": "display_data"
    },
    {
     "data": {
      "text/html": [
       "<div>\n",
       "<style scoped>\n",
       "    .dataframe tbody tr th:only-of-type {\n",
       "        vertical-align: middle;\n",
       "    }\n",
       "\n",
       "    .dataframe tbody tr th {\n",
       "        vertical-align: top;\n",
       "    }\n",
       "\n",
       "    .dataframe thead th {\n",
       "        text-align: right;\n",
       "    }\n",
       "</style>\n",
       "<table border=\"1\" class=\"dataframe\">\n",
       "  <thead>\n",
       "    <tr style=\"text-align: right;\">\n",
       "      <th></th>\n",
       "      <th>Open</th>\n",
       "      <th>High</th>\n",
       "      <th>Low</th>\n",
       "      <th>Close</th>\n",
       "      <th>Volume</th>\n",
       "      <th>Market Cap</th>\n",
       "    </tr>\n",
       "    <tr>\n",
       "      <th>Date</th>\n",
       "      <th></th>\n",
       "      <th></th>\n",
       "      <th></th>\n",
       "      <th></th>\n",
       "      <th></th>\n",
       "      <th></th>\n",
       "    </tr>\n",
       "  </thead>\n",
       "  <tbody>\n",
       "    <tr>\n",
       "      <th>2013-05-02</th>\n",
       "      <td>116.38</td>\n",
       "      <td>125.60</td>\n",
       "      <td>92.28</td>\n",
       "      <td>105.21</td>\n",
       "      <td>0.0</td>\n",
       "      <td>1.168517e+09</td>\n",
       "    </tr>\n",
       "    <tr>\n",
       "      <th>2013-05-01</th>\n",
       "      <td>139.00</td>\n",
       "      <td>139.89</td>\n",
       "      <td>107.72</td>\n",
       "      <td>116.99</td>\n",
       "      <td>0.0</td>\n",
       "      <td>1.298955e+09</td>\n",
       "    </tr>\n",
       "    <tr>\n",
       "      <th>2013-04-30</th>\n",
       "      <td>144.00</td>\n",
       "      <td>146.93</td>\n",
       "      <td>134.05</td>\n",
       "      <td>139.00</td>\n",
       "      <td>0.0</td>\n",
       "      <td>1.542813e+09</td>\n",
       "    </tr>\n",
       "    <tr>\n",
       "      <th>2013-04-29</th>\n",
       "      <td>134.44</td>\n",
       "      <td>147.49</td>\n",
       "      <td>134.00</td>\n",
       "      <td>144.54</td>\n",
       "      <td>0.0</td>\n",
       "      <td>1.603769e+09</td>\n",
       "    </tr>\n",
       "    <tr>\n",
       "      <th>2013-04-28</th>\n",
       "      <td>135.30</td>\n",
       "      <td>135.98</td>\n",
       "      <td>132.10</td>\n",
       "      <td>134.21</td>\n",
       "      <td>0.0</td>\n",
       "      <td>1.488567e+09</td>\n",
       "    </tr>\n",
       "  </tbody>\n",
       "</table>\n",
       "</div>"
      ],
      "text/plain": [
       "              Open    High     Low   Close  Volume    Market Cap\n",
       "Date                                                            \n",
       "2013-05-02  116.38  125.60   92.28  105.21     0.0  1.168517e+09\n",
       "2013-05-01  139.00  139.89  107.72  116.99     0.0  1.298955e+09\n",
       "2013-04-30  144.00  146.93  134.05  139.00     0.0  1.542813e+09\n",
       "2013-04-29  134.44  147.49  134.00  144.54     0.0  1.603769e+09\n",
       "2013-04-28  135.30  135.98  132.10  134.21     0.0  1.488567e+09"
      ]
     },
     "metadata": {},
     "output_type": "display_data"
    }
   ],
   "source": [
    "display(data.head(5))\n",
    "display(data.tail(5))"
   ]
  },
  {
   "cell_type": "markdown",
   "metadata": {},
   "source": [
    "#### Missing Values\n",
    "\n",
    "In this section we will explore any Missing Values present in the dataframe."
   ]
  },
  {
   "cell_type": "code",
   "execution_count": 57,
   "metadata": {},
   "outputs": [
    {
     "data": {
      "text/plain": [
       "Open          0\n",
       "High          0\n",
       "Low           0\n",
       "Close         0\n",
       "Volume        0\n",
       "Market Cap    0\n",
       "dtype: int64"
      ]
     },
     "execution_count": 57,
     "metadata": {},
     "output_type": "execute_result"
    }
   ],
   "source": [
    "# Number of NaNs on each columns \n",
    "data.isna().sum()"
   ]
  },
  {
   "cell_type": "code",
   "execution_count": 58,
   "metadata": {},
   "outputs": [
    {
     "name": "stdout",
     "output_type": "stream",
     "text": [
      "Your selected dataframe has 6 columns.\n",
      "There are 0 columns that have missing values.\n"
     ]
    },
    {
     "data": {
      "text/html": [
       "<div>\n",
       "<style scoped>\n",
       "    .dataframe tbody tr th:only-of-type {\n",
       "        vertical-align: middle;\n",
       "    }\n",
       "\n",
       "    .dataframe tbody tr th {\n",
       "        vertical-align: top;\n",
       "    }\n",
       "\n",
       "    .dataframe thead th {\n",
       "        text-align: right;\n",
       "    }\n",
       "</style>\n",
       "<table border=\"1\" class=\"dataframe\">\n",
       "  <thead>\n",
       "    <tr style=\"text-align: right;\">\n",
       "      <th></th>\n",
       "      <th>Missing Values</th>\n",
       "      <th>% of Total Values</th>\n",
       "    </tr>\n",
       "  </thead>\n",
       "  <tbody>\n",
       "  </tbody>\n",
       "</table>\n",
       "</div>"
      ],
      "text/plain": [
       "Empty DataFrame\n",
       "Columns: [Missing Values, % of Total Values]\n",
       "Index: []"
      ]
     },
     "execution_count": 58,
     "metadata": {},
     "output_type": "execute_result"
    }
   ],
   "source": [
    "# Function to check wheter or not a particular datasets has missing values\n",
    "def missing_values_table(df):\n",
    "    mis_val = df.isnull().sum()\n",
    "    mis_val_percent = 100 * df.isnull().sum() / len(df)\n",
    "    mis_val_table = pd.concat([mis_val, mis_val_percent], axis=1)\n",
    "    mis_val_table_ren_columns = mis_val_table.rename(\n",
    "    columns = {0 : 'Missing Values', 1 : '% of Total Values'})\n",
    "    mis_val_table_ren_columns = mis_val_table_ren_columns[\n",
    "        mis_val_table_ren_columns.iloc[:,1] != 0].sort_values(\n",
    "    '% of Total Values', ascending=False).round(1)\n",
    "    print (\"Your selected dataframe has \" + str(df.shape[1]) + \" columns.\\n\"      \n",
    "        \"There are \" + str(mis_val_table_ren_columns.shape[0]) +\n",
    "            \" columns that have missing values.\")\n",
    "    return mis_val_table_ren_columns\n",
    "\n",
    "\n",
    "missing_values_table(data)"
   ]
  },
  {
   "cell_type": "code",
   "execution_count": 59,
   "metadata": {},
   "outputs": [
    {
     "name": "stdout",
     "output_type": "stream",
     "text": [
      "Your selected dataframe has 6 columns.\n",
      "There are 0 columns that have missing values.\n"
     ]
    },
    {
     "data": {
      "text/html": [
       "<div>\n",
       "<style scoped>\n",
       "    .dataframe tbody tr th:only-of-type {\n",
       "        vertical-align: middle;\n",
       "    }\n",
       "\n",
       "    .dataframe tbody tr th {\n",
       "        vertical-align: top;\n",
       "    }\n",
       "\n",
       "    .dataframe thead th {\n",
       "        text-align: right;\n",
       "    }\n",
       "</style>\n",
       "<table border=\"1\" class=\"dataframe\">\n",
       "  <thead>\n",
       "    <tr style=\"text-align: right;\">\n",
       "      <th></th>\n",
       "      <th>Missing Values</th>\n",
       "      <th>% of Total Values</th>\n",
       "    </tr>\n",
       "  </thead>\n",
       "  <tbody>\n",
       "  </tbody>\n",
       "</table>\n",
       "</div>"
      ],
      "text/plain": [
       "Empty DataFrame\n",
       "Columns: [Missing Values, % of Total Values]\n",
       "Index: []"
      ]
     },
     "execution_count": 59,
     "metadata": {},
     "output_type": "execute_result"
    }
   ],
   "source": [
    "missing_values_table(data)"
   ]
  },
  {
   "cell_type": "code",
   "execution_count": 60,
   "metadata": {
    "scrolled": true
   },
   "outputs": [
    {
     "data": {
      "text/html": [
       "<div>\n",
       "<style scoped>\n",
       "    .dataframe tbody tr th:only-of-type {\n",
       "        vertical-align: middle;\n",
       "    }\n",
       "\n",
       "    .dataframe tbody tr th {\n",
       "        vertical-align: top;\n",
       "    }\n",
       "\n",
       "    .dataframe thead th {\n",
       "        text-align: right;\n",
       "    }\n",
       "</style>\n",
       "<table border=\"1\" class=\"dataframe\">\n",
       "  <thead>\n",
       "    <tr style=\"text-align: right;\">\n",
       "      <th></th>\n",
       "      <th>Open</th>\n",
       "      <th>High</th>\n",
       "      <th>Low</th>\n",
       "      <th>Close</th>\n",
       "      <th>Volume</th>\n",
       "      <th>Market Cap</th>\n",
       "    </tr>\n",
       "    <tr>\n",
       "      <th>Date</th>\n",
       "      <th></th>\n",
       "      <th></th>\n",
       "      <th></th>\n",
       "      <th></th>\n",
       "      <th></th>\n",
       "      <th></th>\n",
       "    </tr>\n",
       "  </thead>\n",
       "  <tbody>\n",
       "  </tbody>\n",
       "</table>\n",
       "</div>"
      ],
      "text/plain": [
       "Empty DataFrame\n",
       "Columns: [Open, High, Low, Close, Volume, Market Cap]\n",
       "Index: []"
      ]
     },
     "execution_count": 60,
     "metadata": {},
     "output_type": "execute_result"
    }
   ],
   "source": [
    "# Displaying all Dates with missing values information\n",
    "\n",
    "nan_rows  = data[data.isna().any(axis=1)]\n",
    "nan_rows.head()"
   ]
  },
  {
   "cell_type": "markdown",
   "metadata": {},
   "source": [
    "__Interpolation__\n",
    "Unfortunately, time series, or at least the ones that are worthy of interest, are usually non-stationary. This means that their statistical characteristics — average, variance, and standard deviation — do change with time."
   ]
  },
  {
   "cell_type": "code",
   "execution_count": 61,
   "metadata": {
    "scrolled": true
   },
   "outputs": [
    {
     "name": "stdout",
     "output_type": "stream",
     "text": [
      "Your selected dataframe has 6 columns.\n",
      "There are 0 columns that have missing values.\n"
     ]
    },
    {
     "data": {
      "text/html": [
       "<div>\n",
       "<style scoped>\n",
       "    .dataframe tbody tr th:only-of-type {\n",
       "        vertical-align: middle;\n",
       "    }\n",
       "\n",
       "    .dataframe tbody tr th {\n",
       "        vertical-align: top;\n",
       "    }\n",
       "\n",
       "    .dataframe thead th {\n",
       "        text-align: right;\n",
       "    }\n",
       "</style>\n",
       "<table border=\"1\" class=\"dataframe\">\n",
       "  <thead>\n",
       "    <tr style=\"text-align: right;\">\n",
       "      <th></th>\n",
       "      <th>Missing Values</th>\n",
       "      <th>% of Total Values</th>\n",
       "    </tr>\n",
       "  </thead>\n",
       "  <tbody>\n",
       "  </tbody>\n",
       "</table>\n",
       "</div>"
      ],
      "text/plain": [
       "Empty DataFrame\n",
       "Columns: [Missing Values, % of Total Values]\n",
       "Index: []"
      ]
     },
     "execution_count": 61,
     "metadata": {},
     "output_type": "execute_result"
    }
   ],
   "source": [
    "missing_values_table(data)"
   ]
  },
  {
   "cell_type": "markdown",
   "metadata": {},
   "source": [
    "#### Downsampling Data - decreasing the timestamp frequency\n",
    "\n",
    "Here we decided to downsample the data into days, months, quarters and years for visualization and further analysis.\n"
   ]
  },
  {
   "cell_type": "code",
   "execution_count": 62,
   "metadata": {},
   "outputs": [],
   "source": [
    "# Default resampling is set to per Hour. \n",
    "# Here we decided to downsample the data into days, months, quarters and years for visualization and further analysis.\n",
    "df = data.copy()\n",
    "\n",
    "# Resampling to daily frequency\n",
    "df_day = df.resample('D').mean()\n",
    "\n",
    "# Resampling to monthly frequency\n",
    "df_week = df.resample('W').mean()\n",
    "\n",
    "# Resampling to monthly frequency\n",
    "df_month = df.resample('M').mean()\n",
    "\n",
    "# Resampling to quarterly frequency\n",
    "df_quarter = df.resample('Q-DEC').mean()\n",
    "\n",
    "# Resampling to annual frequency\n",
    "df_year = df.resample('A-DEC').mean()"
   ]
  },
  {
   "cell_type": "code",
   "execution_count": 63,
   "metadata": {
    "scrolled": false
   },
   "outputs": [
    {
     "data": {
      "image/png": "[encoded data removed]",
      "text/plain": [
       "<Figure size 1500x700 with 4 Axes>"
      ]
     },
     "metadata": {},
     "output_type": "display_data"
    }
   ],
   "source": [
    "# PLOTS\n",
    "fig = plt.figure(figsize=[15, 7])\n",
    "plt.suptitle('Bitcoin Weighted Price , mean USD', fontsize=22)\n",
    "\n",
    "plt.subplot(221)\n",
    "plt.plot(df_week.Close, '-', label='By Weeks')\n",
    "plt.legend()\n",
    "\n",
    "plt.subplot(222)\n",
    "plt.plot(df_month.Close, '-', label='By Months')\n",
    "plt.legend()\n",
    "\n",
    "plt.subplot(223)\n",
    "plt.plot(df_quarter.Close, '-', label='By Quarters')\n",
    "plt.legend()\n",
    "\n",
    "plt.subplot(224)\n",
    "plt.plot(df_year.Close, '-', label='By Years')\n",
    "plt.legend()\n",
    "\n",
    "plt.show()"
   ]
  },
  {
   "cell_type": "markdown",
   "metadata": {},
   "source": [
    "# -------------------------------------------------------------------------------------"
   ]
  },
  {
   "cell_type": "markdown",
   "metadata": {},
   "source": [
    "## <font color= blue >4. Data Visualization </font> <a class=\"anchor\" id=\"fourth-bullet\"></a>"
   ]
  },
  {
   "cell_type": "code",
   "execution_count": 64,
   "metadata": {
    "scrolled": true
   },
   "outputs": [
    {
     "data": {
      "text/html": [
       "<div>\n",
       "<style scoped>\n",
       "    .dataframe tbody tr th:only-of-type {\n",
       "        vertical-align: middle;\n",
       "    }\n",
       "\n",
       "    .dataframe tbody tr th {\n",
       "        vertical-align: top;\n",
       "    }\n",
       "\n",
       "    .dataframe thead th {\n",
       "        text-align: right;\n",
       "    }\n",
       "</style>\n",
       "<table border=\"1\" class=\"dataframe\">\n",
       "  <thead>\n",
       "    <tr style=\"text-align: right;\">\n",
       "      <th></th>\n",
       "      <th>Date</th>\n",
       "      <th>Open</th>\n",
       "      <th>High</th>\n",
       "      <th>Low</th>\n",
       "      <th>Close</th>\n",
       "      <th>Volume</th>\n",
       "      <th>Market Cap</th>\n",
       "    </tr>\n",
       "  </thead>\n",
       "  <tbody>\n",
       "    <tr>\n",
       "      <th>0</th>\n",
       "      <td>2013-06-30</td>\n",
       "      <td>108.856667</td>\n",
       "      <td>111.300667</td>\n",
       "      <td>104.602000</td>\n",
       "      <td>107.761333</td>\n",
       "      <td>0.0</td>\n",
       "      <td>1.216792e+09</td>\n",
       "    </tr>\n",
       "    <tr>\n",
       "      <th>1</th>\n",
       "      <td>2013-07-31</td>\n",
       "      <td>90.311290</td>\n",
       "      <td>93.869032</td>\n",
       "      <td>86.719677</td>\n",
       "      <td>90.512258</td>\n",
       "      <td>0.0</td>\n",
       "      <td>1.034233e+09</td>\n",
       "    </tr>\n",
       "    <tr>\n",
       "      <th>2</th>\n",
       "      <td>2013-08-31</td>\n",
       "      <td>113.041935</td>\n",
       "      <td>116.002258</td>\n",
       "      <td>111.387742</td>\n",
       "      <td>113.905161</td>\n",
       "      <td>0.0</td>\n",
       "      <td>1.317466e+09</td>\n",
       "    </tr>\n",
       "    <tr>\n",
       "      <th>3</th>\n",
       "      <td>2013-09-30</td>\n",
       "      <td>130.180667</td>\n",
       "      <td>134.164333</td>\n",
       "      <td>127.375333</td>\n",
       "      <td>130.061667</td>\n",
       "      <td>0.0</td>\n",
       "      <td>1.522703e+09</td>\n",
       "    </tr>\n",
       "    <tr>\n",
       "      <th>4</th>\n",
       "      <td>2013-10-31</td>\n",
       "      <td>156.031613</td>\n",
       "      <td>161.944194</td>\n",
       "      <td>151.148065</td>\n",
       "      <td>158.311935</td>\n",
       "      <td>0.0</td>\n",
       "      <td>1.877944e+09</td>\n",
       "    </tr>\n",
       "  </tbody>\n",
       "</table>\n",
       "</div>"
      ],
      "text/plain": [
       "        Date        Open        High         Low       Close  Volume  \\\n",
       "0 2013-06-30  108.856667  111.300667  104.602000  107.761333     0.0   \n",
       "1 2013-07-31   90.311290   93.869032   86.719677   90.512258     0.0   \n",
       "2 2013-08-31  113.041935  116.002258  111.387742  113.905161     0.0   \n",
       "3 2013-09-30  130.180667  134.164333  127.375333  130.061667     0.0   \n",
       "4 2013-10-31  156.031613  161.944194  151.148065  158.311935     0.0   \n",
       "\n",
       "     Market Cap  \n",
       "0  1.216792e+09  \n",
       "1  1.034233e+09  \n",
       "2  1.317466e+09  \n",
       "3  1.522703e+09  \n",
       "4  1.877944e+09  "
      ]
     },
     "execution_count": 64,
     "metadata": {},
     "output_type": "execute_result"
    }
   ],
   "source": [
    "# basically creating a range that includes all data\n",
    "start = '2013-06-01'\n",
    "end = '2023-06-01'\n",
    "\n",
    "# find rows between start and end time \n",
    "data_monthly = df_month[(df_month.index >= start) & (df_month.index <= end)].reset_index()\n",
    "data_monthly.head()"
   ]
  },
  {
   "cell_type": "markdown",
   "metadata": {},
   "source": [
    "### Visualize Bitcoin Prices from 2012-2021"
   ]
  },
  {
   "cell_type": "code",
   "execution_count": 65,
   "metadata": {},
   "outputs": [
    {
     "data": {
      "application/vnd.plotly.v1+json": {
       "config": {
        "linkText": "Export to plot.ly",
        "plotlyServerURL": "https://plot.ly",
        "showLink": false
       },
       "data": [
        {
         "mode": "lines",
         "name": "Open",
         "type": "scatter",
         "x": [
          "2013-06-30T00:00:00",
          "2013-07-31T00:00:00",
          "2013-08-31T00:00:00",
          "2013-09-30T00:00:00",
          "2013-10-31T00:00:00",
          "2013-11-30T00:00:00",
          "2013-12-31T00:00:00",
          "2014-01-31T00:00:00",
          "2014-02-28T00:00:00",
          "2014-03-31T00:00:00",
          "2014-04-30T00:00:00",
          "2014-05-31T00:00:00",
          "2014-06-30T00:00:00",
          "2014-07-31T00:00:00",
          "2014-08-31T00:00:00",
          "2014-09-30T00:00:00",
          "2014-10-31T00:00:00",
          "2014-11-30T00:00:00",
          "2014-12-31T00:00:00",
          "2015-01-31T00:00:00",
          "2015-02-28T00:00:00",
          "2015-03-31T00:00:00",
          "2015-04-30T00:00:00",
          "2015-05-31T00:00:00",
          "2015-06-30T00:00:00",
          "2015-07-31T00:00:00",
          "2015-08-31T00:00:00",
          "2015-09-30T00:00:00",
          "2015-10-31T00:00:00",
          "2015-11-30T00:00:00",
          "2015-12-31T00:00:00",
          "2016-01-31T00:00:00",
          "2016-02-29T00:00:00",
          "2016-03-31T00:00:00",
          "2016-04-30T00:00:00",
          "2016-05-31T00:00:00",
          "2016-06-30T00:00:00",
          "2016-07-31T00:00:00",
          "2016-08-31T00:00:00",
          "2016-09-30T00:00:00",
          "2016-10-31T00:00:00",
          "2016-11-30T00:00:00",
          "2016-12-31T00:00:00",
          "2017-01-31T00:00:00",
          "2017-02-28T00:00:00",
          "2017-03-31T00:00:00",
          "2017-04-30T00:00:00",
          "2017-05-31T00:00:00",
          "2017-06-30T00:00:00",
          "2017-07-31T00:00:00",
          "2017-08-31T00:00:00",
          "2017-09-30T00:00:00",
          "2017-10-31T00:00:00",
          "2017-11-30T00:00:00",
          "2017-12-31T00:00:00",
          "2018-01-31T00:00:00",
          "2018-02-28T00:00:00",
          "2018-03-31T00:00:00",
          "2018-04-30T00:00:00",
          "2018-05-31T00:00:00",
          "2018-06-30T00:00:00",
          "2018-07-31T00:00:00",
          "2018-08-31T00:00:00",
          "2018-09-30T00:00:00",
          "2018-10-31T00:00:00",
          "2018-11-30T00:00:00",
          "2018-12-31T00:00:00",
          "2019-01-31T00:00:00",
          "2019-02-28T00:00:00",
          "2019-03-31T00:00:00",
          "2019-04-30T00:00:00",
          "2019-05-31T00:00:00",
          "2019-06-30T00:00:00",
          "2019-07-31T00:00:00",
          "2019-08-31T00:00:00",
          "2019-09-30T00:00:00",
          "2019-10-31T00:00:00",
          "2019-11-30T00:00:00",
          "2019-12-31T00:00:00",
          "2020-01-31T00:00:00",
          "2020-02-29T00:00:00",
          "2020-03-31T00:00:00",
          "2020-04-30T00:00:00",
          "2020-05-31T00:00:00",
          "2020-06-30T00:00:00",
          "2020-07-31T00:00:00",
          "2020-08-31T00:00:00",
          "2020-09-30T00:00:00",
          "2020-10-31T00:00:00",
          "2020-11-30T00:00:00",
          "2020-12-31T00:00:00",
          "2021-01-31T00:00:00",
          "2021-02-28T00:00:00",
          "2021-03-31T00:00:00",
          "2021-04-30T00:00:00",
          "2021-05-31T00:00:00",
          "2021-06-30T00:00:00",
          "2021-07-31T00:00:00",
          "2021-08-31T00:00:00",
          "2021-09-30T00:00:00",
          "2021-10-31T00:00:00",
          "2021-11-30T00:00:00",
          "2021-12-31T00:00:00",
          "2022-01-31T00:00:00",
          "2022-02-28T00:00:00",
          "2022-03-31T00:00:00",
          "2022-04-30T00:00:00",
          "2022-05-31T00:00:00",
          "2022-06-30T00:00:00",
          "2022-07-31T00:00:00",
          "2022-08-31T00:00:00",
          "2022-09-30T00:00:00",
          "2022-10-31T00:00:00",
          "2022-11-30T00:00:00",
          "2022-12-31T00:00:00",
          "2023-01-31T00:00:00",
          "2023-02-28T00:00:00",
          "2023-03-31T00:00:00",
          "2023-04-30T00:00:00",
          "2023-05-31T00:00:00"
         ],
         "y": [
          108.85666666666665,
          90.31129032258065,
          113.04193548387097,
          130.18066666666667,
          156.03161290322583,
          520.506,
          813.118064516129,
          841.7022580645162,
          670.8392857142857,
          595.7819354838709,
          461.649,
          480.99096774193544,
          615.2223333333333,
          619.7735483870968,
          539.6877419354838,
          448.10066666666665,
          365.7483870967742,
          364.85066666666665,
          343.0748387096774,
          251.8,
          232.82107142857143,
          269.27838709677417,
          235.708,
          237.16258064516128,
          236.94133333333332,
          278.8577419354839,
          252.98774193548385,
          233.48733333333334,
          262.3058064516129,
          346.86633333333333,
          422.61806451612904,
          412.8058064516129,
          402.3051724137931,
          417.26193548387096,
          433.48733333333337,
          459.2374193548387,
          638.5446666666667,
          662.9777419354839,
          581.2387096774194,
          604.6146666666666,
          640.7025806451612,
          725.0743333333334,
          821.1080645161289,
          914.6812903225806,
          1055.6200000000001,
          1133.212580645161,
          1197.6470000000002,
          1865.7487096774194,
          2630.5733333333333,
          2509.2132258064516,
          3819.8125806451612,
          4077.401,
          5291.37,
          7685.746,
          15175.21935483871,
          13212.074193548387,
          9462.242857142857,
          9156.591612903227,
          7963.618333333333,
          8505.240645161291,
          6829.258,
          7101.466451612903,
          6723.800967741935,
          6622.821333333334,
          6494.016451612903,
          5481.615000000001,
          3726.4735483870963,
          3709.706129032258,
          3697.1785714285716,
          3967.7396774193544,
          5136.813666666667,
          7205.207741935484,
          9339.479,
          10691.706451612905,
          10657.745806451612,
          9858.141666666666,
          8382.43129032258,
          8427.103,
          7296.352258064517,
          8318.949354838709,
          9656.214827586206,
          6943.507419354839,
          7150.611,
          9237.76129032258,
          9499.796999999999,
          9519.382903225805,
          11639.097741935484,
          10689.7,
          11791.306774193548,
          16450.120666666666,
          21680.54129032258,
          34652.962258064515,
          45874.967500000006,
          54544.67838709678,
          57251.255666666664,
          47105.82774193548,
          35920.54733333333,
          34234.21193548387,
          45516.12,
          46041.859333333334,
          57344.743870967744,
          60857.520333333334,
          49670.411612903226,
          41368.07322580645,
          40591.10357142857,
          41889.14838709678,
          41694.653333333335,
          31907.791612903227,
          24783.338,
          21424.73258064516,
          22471.866451612903,
          19821.353,
          19616.090322580647,
          17711.480666666666,
          16969.57870967742,
          20038.26258064516,
          23304.086785714284,
          24945.340322580647,
          28823.841666666667,
          27562.721612903224
         ]
        },
        {
         "mode": "lines",
         "name": "Close",
         "type": "scatter",
         "x": [
          "2013-06-30T00:00:00",
          "2013-07-31T00:00:00",
          "2013-08-31T00:00:00",
          "2013-09-30T00:00:00",
          "2013-10-31T00:00:00",
          "2013-11-30T00:00:00",
          "2013-12-31T00:00:00",
          "2014-01-31T00:00:00",
          "2014-02-28T00:00:00",
          "2014-03-31T00:00:00",
          "2014-04-30T00:00:00",
          "2014-05-31T00:00:00",
          "2014-06-30T00:00:00",
          "2014-07-31T00:00:00",
          "2014-08-31T00:00:00",
          "2014-09-30T00:00:00",
          "2014-10-31T00:00:00",
          "2014-11-30T00:00:00",
          "2014-12-31T00:00:00",
          "2015-01-31T00:00:00",
          "2015-02-28T00:00:00",
          "2015-03-31T00:00:00",
          "2015-04-30T00:00:00",
          "2015-05-31T00:00:00",
          "2015-06-30T00:00:00",
          "2015-07-31T00:00:00",
          "2015-08-31T00:00:00",
          "2015-09-30T00:00:00",
          "2015-10-31T00:00:00",
          "2015-11-30T00:00:00",
          "2015-12-31T00:00:00",
          "2016-01-31T00:00:00",
          "2016-02-29T00:00:00",
          "2016-03-31T00:00:00",
          "2016-04-30T00:00:00",
          "2016-05-31T00:00:00",
          "2016-06-30T00:00:00",
          "2016-07-31T00:00:00",
          "2016-08-31T00:00:00",
          "2016-09-30T00:00:00",
          "2016-10-31T00:00:00",
          "2016-11-30T00:00:00",
          "2016-12-31T00:00:00",
          "2017-01-31T00:00:00",
          "2017-02-28T00:00:00",
          "2017-03-31T00:00:00",
          "2017-04-30T00:00:00",
          "2017-05-31T00:00:00",
          "2017-06-30T00:00:00",
          "2017-07-31T00:00:00",
          "2017-08-31T00:00:00",
          "2017-09-30T00:00:00",
          "2017-10-31T00:00:00",
          "2017-11-30T00:00:00",
          "2017-12-31T00:00:00",
          "2018-01-31T00:00:00",
          "2018-02-28T00:00:00",
          "2018-03-31T00:00:00",
          "2018-04-30T00:00:00",
          "2018-05-31T00:00:00",
          "2018-06-30T00:00:00",
          "2018-07-31T00:00:00",
          "2018-08-31T00:00:00",
          "2018-09-30T00:00:00",
          "2018-10-31T00:00:00",
          "2018-11-30T00:00:00",
          "2018-12-31T00:00:00",
          "2019-01-31T00:00:00",
          "2019-02-28T00:00:00",
          "2019-03-31T00:00:00",
          "2019-04-30T00:00:00",
          "2019-05-31T00:00:00",
          "2019-06-30T00:00:00",
          "2019-07-31T00:00:00",
          "2019-08-31T00:00:00",
          "2019-09-30T00:00:00",
          "2019-10-31T00:00:00",
          "2019-11-30T00:00:00",
          "2019-12-31T00:00:00",
          "2020-01-31T00:00:00",
          "2020-02-29T00:00:00",
          "2020-03-31T00:00:00",
          "2020-04-30T00:00:00",
          "2020-05-31T00:00:00",
          "2020-06-30T00:00:00",
          "2020-07-31T00:00:00",
          "2020-08-31T00:00:00",
          "2020-09-30T00:00:00",
          "2020-10-31T00:00:00",
          "2020-11-30T00:00:00",
          "2020-12-31T00:00:00",
          "2021-01-31T00:00:00",
          "2021-02-28T00:00:00",
          "2021-03-31T00:00:00",
          "2021-04-30T00:00:00",
          "2021-05-31T00:00:00",
          "2021-06-30T00:00:00",
          "2021-07-31T00:00:00",
          "2021-08-31T00:00:00",
          "2021-09-30T00:00:00",
          "2021-10-31T00:00:00",
          "2021-11-30T00:00:00",
          "2021-12-31T00:00:00",
          "2022-01-31T00:00:00",
          "2022-02-28T00:00:00",
          "2022-03-31T00:00:00",
          "2022-04-30T00:00:00",
          "2022-05-31T00:00:00",
          "2022-06-30T00:00:00",
          "2022-07-31T00:00:00",
          "2022-08-31T00:00:00",
          "2022-09-30T00:00:00",
          "2022-10-31T00:00:00",
          "2022-11-30T00:00:00",
          "2022-12-31T00:00:00",
          "2023-01-31T00:00:00",
          "2023-02-28T00:00:00",
          "2023-03-31T00:00:00",
          "2023-04-30T00:00:00",
          "2023-05-31T00:00:00"
         ],
         "y": [
          111.30066666666667,
          93.86903225806452,
          116.00225806451614,
          134.16433333333333,
          161.9441935483871,
          569.307,
          856.441935483871,
          870.5506451612903,
          690.5560714285714,
          609.8748387096774,
          476.66566666666665,
          492.4935483870967,
          627.1463333333334,
          624.2106451612902,
          546.5354838709677,
          454.6536666666667,
          374.3151612903226,
          376.49466666666666,
          347.4874193548387,
          261.3916129032258,
          240.21142857142857,
          274.8512903225806,
          238.95633333333333,
          239.56193548387097,
          240.12666666666667,
          284.1225806451613,
          256.416129032258,
          236.685,
          267.7406451612903,
          361.3743333333333,
          431.56870967741935,
          418.80258064516124,
          408.42275862068965,
          420.02741935483874,
          436.75266666666664,
          466.1293548387097,
          657.879,
          670.2745161290322,
          586.1661290322581,
          608.3476666666667,
          646.4461290322581,
          733.67,
          832.5048387096774,
          937.4506451612904,
          1073.5039285714286,
          1161.8932258064517,
          1216.3029999999999,
          1968.7867741935484,
          2712.2556666666665,
          2603.9987096774194,
          3953.1329032258063,
          4214.381666666666,
          5450.2954838709675,
          8084.058,
          16051.632258064517,
          13705.425806451613,
          9914.565357142857,
          9373.206451612905,
          8209.301,
          8638.82,
          6930.069,
          7258.952580645161,
          6849.496129032258,
          6709.125666666666,
          6550.149677419356,
          5561.603666666666,
          3840.1277419354838,
          3755.8338709677423,
          3752.5603571428574,
          4008.783548387097,
          5258.515666666667,
          7466.773548387097,
          9702.518,
          11025.668387096774,
          10861.748064516129,
          9973.391666666666,
          8577.835161290323,
          8542.318000000001,
          7411.171290322581,
          8490.319677419355,
          9791.163103448274,
          7182.895161290323,
          7352.325,
          9451.186451612904,
          9606.908333333333,
          9672.62741935484,
          11827.761612903225,
          10844.910333333333,
          12018.847741935482,
          16945.980666666666,
          22354.685806451613,
          36206.55774193549,
          47710.415,
          56250.97967741936,
          58557.342333333334,
          48775.04096774194,
          37094.88033333333,
          35161.96677419355,
          46685.621612903225,
          47132.725,
          59024.87774193548,
          62046.72066666667,
          50722.47193548387,
          42044.1664516129,
          41685.85642857143,
          42770.03193548387,
          42328.085333333336,
          32639.952903225807,
          25228.662333333334,
          22012.192258064515,
          22870.607741935484,
          20199.34933333333,
          19870.064193548387,
          18004.315,
          17109.24193548387,
          20460.601290322582,
          23690.401071428572,
          25641.199032258064,
          29297.115666666665,
          27908.66935483871
         ]
        },
        {
         "mode": "lines",
         "name": "Weighted Avg",
         "type": "scatter",
         "x": [
          "2013-06-30T00:00:00",
          "2013-07-31T00:00:00",
          "2013-08-31T00:00:00",
          "2013-09-30T00:00:00",
          "2013-10-31T00:00:00",
          "2013-11-30T00:00:00",
          "2013-12-31T00:00:00",
          "2014-01-31T00:00:00",
          "2014-02-28T00:00:00",
          "2014-03-31T00:00:00",
          "2014-04-30T00:00:00",
          "2014-05-31T00:00:00",
          "2014-06-30T00:00:00",
          "2014-07-31T00:00:00",
          "2014-08-31T00:00:00",
          "2014-09-30T00:00:00",
          "2014-10-31T00:00:00",
          "2014-11-30T00:00:00",
          "2014-12-31T00:00:00",
          "2015-01-31T00:00:00",
          "2015-02-28T00:00:00",
          "2015-03-31T00:00:00",
          "2015-04-30T00:00:00",
          "2015-05-31T00:00:00",
          "2015-06-30T00:00:00",
          "2015-07-31T00:00:00",
          "2015-08-31T00:00:00",
          "2015-09-30T00:00:00",
          "2015-10-31T00:00:00",
          "2015-11-30T00:00:00",
          "2015-12-31T00:00:00",
          "2016-01-31T00:00:00",
          "2016-02-29T00:00:00",
          "2016-03-31T00:00:00",
          "2016-04-30T00:00:00",
          "2016-05-31T00:00:00",
          "2016-06-30T00:00:00",
          "2016-07-31T00:00:00",
          "2016-08-31T00:00:00",
          "2016-09-30T00:00:00",
          "2016-10-31T00:00:00",
          "2016-11-30T00:00:00",
          "2016-12-31T00:00:00",
          "2017-01-31T00:00:00",
          "2017-02-28T00:00:00",
          "2017-03-31T00:00:00",
          "2017-04-30T00:00:00",
          "2017-05-31T00:00:00",
          "2017-06-30T00:00:00",
          "2017-07-31T00:00:00",
          "2017-08-31T00:00:00",
          "2017-09-30T00:00:00",
          "2017-10-31T00:00:00",
          "2017-11-30T00:00:00",
          "2017-12-31T00:00:00",
          "2018-01-31T00:00:00",
          "2018-02-28T00:00:00",
          "2018-03-31T00:00:00",
          "2018-04-30T00:00:00",
          "2018-05-31T00:00:00",
          "2018-06-30T00:00:00",
          "2018-07-31T00:00:00",
          "2018-08-31T00:00:00",
          "2018-09-30T00:00:00",
          "2018-10-31T00:00:00",
          "2018-11-30T00:00:00",
          "2018-12-31T00:00:00",
          "2019-01-31T00:00:00",
          "2019-02-28T00:00:00",
          "2019-03-31T00:00:00",
          "2019-04-30T00:00:00",
          "2019-05-31T00:00:00",
          "2019-06-30T00:00:00",
          "2019-07-31T00:00:00",
          "2019-08-31T00:00:00",
          "2019-09-30T00:00:00",
          "2019-10-31T00:00:00",
          "2019-11-30T00:00:00",
          "2019-12-31T00:00:00",
          "2020-01-31T00:00:00",
          "2020-02-29T00:00:00",
          "2020-03-31T00:00:00",
          "2020-04-30T00:00:00",
          "2020-05-31T00:00:00",
          "2020-06-30T00:00:00",
          "2020-07-31T00:00:00",
          "2020-08-31T00:00:00",
          "2020-09-30T00:00:00",
          "2020-10-31T00:00:00",
          "2020-11-30T00:00:00",
          "2020-12-31T00:00:00",
          "2021-01-31T00:00:00",
          "2021-02-28T00:00:00",
          "2021-03-31T00:00:00",
          "2021-04-30T00:00:00",
          "2021-05-31T00:00:00",
          "2021-06-30T00:00:00",
          "2021-07-31T00:00:00",
          "2021-08-31T00:00:00",
          "2021-09-30T00:00:00",
          "2021-10-31T00:00:00",
          "2021-11-30T00:00:00",
          "2021-12-31T00:00:00",
          "2022-01-31T00:00:00",
          "2022-02-28T00:00:00",
          "2022-03-31T00:00:00",
          "2022-04-30T00:00:00",
          "2022-05-31T00:00:00",
          "2022-06-30T00:00:00",
          "2022-07-31T00:00:00",
          "2022-08-31T00:00:00",
          "2022-09-30T00:00:00",
          "2022-10-31T00:00:00",
          "2022-11-30T00:00:00",
          "2022-12-31T00:00:00",
          "2023-01-31T00:00:00",
          "2023-02-28T00:00:00",
          "2023-03-31T00:00:00",
          "2023-04-30T00:00:00",
          "2023-05-31T00:00:00"
         ],
         "y": [
          107.76133333333334,
          90.51225806451613,
          113.90516129032258,
          130.06166666666667,
          158.31193548387097,
          550.4206666666666,
          800.7809677419355,
          844.1683870967743,
          661.6182142857143,
          592.2003225806451,
          461.36266666666666,
          486.6512903225807,
          615.917,
          618.0251612903226,
          536.0880645161291,
          445.186,
          364.14935483870966,
          366.0996666666667,
          341.268064516129,
          248.7832258064516,
          234.15321428571428,
          269.0422580645161,
          235.49200000000002,
          236.99709677419355,
          238.08100000000002,
          279.5635483870968,
          250.7341935483871,
          233.59566666666666,
          264.85548387096776,
          348.8833333333333,
          424.4641935483871,
          410.84483870967745,
          404.4079310344828,
          416.5264516129032,
          434.3383333333333,
          461.9538709677419,
          642.8703333333334,
          661.3558064516129,
          579.5848387096775,
          605.848,
          643.55,
          726.3486666666666,
          828.0600000000001,
          914.9164516129032,
          1062.5332142857144,
          1129.3651612903225,
          1206.641,
          1895.3835483870967,
          2636.2043333333336,
          2519.418387096774,
          3880.9900000000002,
          4064.836333333333,
          5360.071612903226,
          7813.133,
          15294.270967741937,
          13085.558064516128,
          9472.001071428573,
          9040.557096774193,
          8033.596666666666,
          8450.997741935484,
          6793.507666666667,
          7146.35,
          6700.13,
          6610.675,
          6485.118709677419,
          5404.250333333333,
          3717.487419354839,
          3701.5551612903228,
          3711.907857142857,
          3976.07,
          5178.470333333334,
          7309.695161290322,
          9415.9,
          10669.336451612902,
          10643.248064516129,
          9814.067666666666,
          8411.92935483871,
          8373.572666666667,
          7284.013548387097,
          8389.27,
          9630.722068965517,
          6871.015483870968,
          7224.4766666666665,
          9263.151935483871,
          9489.226666666666,
          9589.89935483871,
          11652.394193548387,
          10660.277,
          11886.978387096775,
          16645.75733333333,
          21983.136774193546,
          34761.650322580645,
          46306.798214285714,
          54998.007419354835,
          57206.72033333333,
          46443.28612903226,
          35845.15533333333,
          34444.974516129034,
          45709.02322580645,
          45939.77166666666,
          57911.97129032257,
          60621.48966666667,
          49263.21,
          41114.42193548387,
          40763.47392857143,
          41966.23741935484,
          41435.318666666666,
          31712.83322580645,
          24383.685999999998,
          21539.254193548386,
          22366.266451612904,
          19804.779333333332,
          19650.525806451613,
          17600.814333333336,
          16949.60870967742,
          20251.00806451613,
          23304.538214285712,
          25116.90064516129,
          28851.102666666666,
          27499.30741935484
         ]
        }
       ],
       "layout": {
        "template": {
         "data": {
          "bar": [
           {
            "error_x": {
             "color": "#2a3f5f"
            },
            "error_y": {
             "color": "#2a3f5f"
            },
            "marker": {
             "line": {
              "color": "#E5ECF6",
              "width": 0.5
             },
             "pattern": {
              "fillmode": "overlay",
              "size": 10,
              "solidity": 0.2
             }
            },
            "type": "bar"
           }
          ],
          "barpolar": [
           {
            "marker": {
             "line": {
              "color": "#E5ECF6",
              "width": 0.5
             },
             "pattern": {
              "fillmode": "overlay",
              "size": 10,
              "solidity": 0.2
             }
            },
            "type": "barpolar"
           }
          ],
          "carpet": [
           {
            "aaxis": {
             "endlinecolor": "#2a3f5f",
             "gridcolor": "white",
             "linecolor": "white",
             "minorgridcolor": "white",
             "startlinecolor": "#2a3f5f"
            },
            "baxis": {
             "endlinecolor": "#2a3f5f",
             "gridcolor": "white",
             "linecolor": "white",
             "minorgridcolor": "white",
             "startlinecolor": "#2a3f5f"
            },
            "type": "carpet"
           }
          ],
          "choropleth": [
           {
            "colorbar": {
             "outlinewidth": 0,
             "ticks": ""
            },
            "type": "choropleth"
           }
          ],
          "contour": [
           {
            "colorbar": {
             "outlinewidth": 0,
             "ticks": ""
            },
            "colorscale": [
             [
              0,
              "#0d0887"
             ],
             [
              0.1111111111111111,
              "#46039f"
             ],
             [
              0.2222222222222222,
              "#7201a8"
             ],
             [
              0.3333333333333333,
              "#9c179e"
             ],
             [
              0.4444444444444444,
              "#bd3786"
             ],
             [
              0.5555555555555556,
              "#d8576b"
             ],
             [
              0.6666666666666666,
              "#ed7953"
             ],
             [
              0.7777777777777778,
              "#fb9f3a"
             ],
             [
              0.8888888888888888,
              "#fdca26"
             ],
             [
              1,
              "#f0f921"
             ]
            ],
            "type": "contour"
           }
          ],
          "contourcarpet": [
           {
            "colorbar": {
             "outlinewidth": 0,
             "ticks": ""
            },
            "type": "contourcarpet"
           }
          ],
          "heatmap": [
           {
            "colorbar": {
             "outlinewidth": 0,
             "ticks": ""
            },
            "colorscale": [
             [
              0,
              "#0d0887"
             ],
             [
              0.1111111111111111,
              "#46039f"
             ],
             [
              0.2222222222222222,
              "#7201a8"
             ],
             [
              0.3333333333333333,
              "#9c179e"
             ],
             [
              0.4444444444444444,
              "#bd3786"
             ],
             [
              0.5555555555555556,
              "#d8576b"
             ],
             [
              0.6666666666666666,
              "#ed7953"
             ],
             [
              0.7777777777777778,
              "#fb9f3a"
             ],
             [
              0.8888888888888888,
              "#fdca26"
             ],
             [
              1,
              "#f0f921"
             ]
            ],
            "type": "heatmap"
           }
          ],
          "heatmapgl": [
           {
            "colorbar": {
             "outlinewidth": 0,
             "ticks": ""
            },
            "colorscale": [
             [
              0,
              "#0d0887"
             ],
             [
              0.1111111111111111,
              "#46039f"
             ],
             [
              0.2222222222222222,
              "#7201a8"
             ],
             [
              0.3333333333333333,
              "#9c179e"
             ],
             [
              0.4444444444444444,
              "#bd3786"
             ],
             [
              0.5555555555555556,
              "#d8576b"
             ],
             [
              0.6666666666666666,
              "#ed7953"
             ],
             [
              0.7777777777777778,
              "#fb9f3a"
             ],
             [
              0.8888888888888888,
              "#fdca26"
             ],
             [
              1,
              "#f0f921"
             ]
            ],
            "type": "heatmapgl"
           }
          ],
          "histogram": [
           {
            "marker": {
             "pattern": {
              "fillmode": "overlay",
              "size": 10,
              "solidity": 0.2
             }
            },
            "type": "histogram"
           }
          ],
          "histogram2d": [
           {
            "colorbar": {
             "outlinewidth": 0,
             "ticks": ""
            },
            "colorscale": [
             [
              0,
              "#0d0887"
             ],
             [
              0.1111111111111111,
              "#46039f"
             ],
             [
              0.2222222222222222,
              "#7201a8"
             ],
             [
              0.3333333333333333,
              "#9c179e"
             ],
             [
              0.4444444444444444,
              "#bd3786"
             ],
             [
              0.5555555555555556,
              "#d8576b"
             ],
             [
              0.6666666666666666,
              "#ed7953"
             ],
             [
              0.7777777777777778,
              "#fb9f3a"
             ],
             [
              0.8888888888888888,
              "#fdca26"
             ],
             [
              1,
              "#f0f921"
             ]
            ],
            "type": "histogram2d"
           }
          ],
          "histogram2dcontour": [
           {
            "colorbar": {
             "outlinewidth": 0,
             "ticks": ""
            },
            "colorscale": [
             [
              0,
              "#0d0887"
             ],
             [
              0.1111111111111111,
              "#46039f"
             ],
             [
              0.2222222222222222,
              "#7201a8"
             ],
             [
              0.3333333333333333,
              "#9c179e"
             ],
             [
              0.4444444444444444,
              "#bd3786"
             ],
             [
              0.5555555555555556,
              "#d8576b"
             ],
             [
              0.6666666666666666,
              "#ed7953"
             ],
             [
              0.7777777777777778,
              "#fb9f3a"
             ],
             [
              0.8888888888888888,
              "#fdca26"
             ],
             [
              1,
              "#f0f921"
             ]
            ],
            "type": "histogram2dcontour"
           }
          ],
          "mesh3d": [
           {
            "colorbar": {
             "outlinewidth": 0,
             "ticks": ""
            },
            "type": "mesh3d"
           }
          ],
          "parcoords": [
           {
            "line": {
             "colorbar": {
              "outlinewidth": 0,
              "ticks": ""
             }
            },
            "type": "parcoords"
           }
          ],
          "pie": [
           {
            "automargin": true,
            "type": "pie"
           }
          ],
          "scatter": [
           {
            "fillpattern": {
             "fillmode": "overlay",
             "size": 10,
             "solidity": 0.2
            },
            "type": "scatter"
           }
          ],
          "scatter3d": [
           {
            "line": {
             "colorbar": {
              "outlinewidth": 0,
              "ticks": ""
             }
            },
            "marker": {
             "colorbar": {
              "outlinewidth": 0,
              "ticks": ""
             }
            },
            "type": "scatter3d"
           }
          ],
          "scattercarpet": [
           {
            "marker": {
             "colorbar": {
              "outlinewidth": 0,
              "ticks": ""
             }
            },
            "type": "scattercarpet"
           }
          ],
          "scattergeo": [
           {
            "marker": {
             "colorbar": {
              "outlinewidth": 0,
              "ticks": ""
             }
            },
            "type": "scattergeo"
           }
          ],
          "scattergl": [
           {
            "marker": {
             "colorbar": {
              "outlinewidth": 0,
              "ticks": ""
             }
            },
            "type": "scattergl"
           }
          ],
          "scattermapbox": [
           {
            "marker": {
             "colorbar": {
              "outlinewidth": 0,
              "ticks": ""
             }
            },
            "type": "scattermapbox"
           }
          ],
          "scatterpolar": [
           {
            "marker": {
             "colorbar": {
              "outlinewidth": 0,
              "ticks": ""
             }
            },
            "type": "scatterpolar"
           }
          ],
          "scatterpolargl": [
           {
            "marker": {
             "colorbar": {
              "outlinewidth": 0,
              "ticks": ""
             }
            },
            "type": "scatterpolargl"
           }
          ],
          "scatterternary": [
           {
            "marker": {
             "colorbar": {
              "outlinewidth": 0,
              "ticks": ""
             }
            },
            "type": "scatterternary"
           }
          ],
          "surface": [
           {
            "colorbar": {
             "outlinewidth": 0,
             "ticks": ""
            },
            "colorscale": [
             [
              0,
              "#0d0887"
             ],
             [
              0.1111111111111111,
              "#46039f"
             ],
             [
              0.2222222222222222,
              "#7201a8"
             ],
             [
              0.3333333333333333,
              "#9c179e"
             ],
             [
              0.4444444444444444,
              "#bd3786"
             ],
             [
              0.5555555555555556,
              "#d8576b"
             ],
             [
              0.6666666666666666,
              "#ed7953"
             ],
             [
              0.7777777777777778,
              "#fb9f3a"
             ],
             [
              0.8888888888888888,
              "#fdca26"
             ],
             [
              1,
              "#f0f921"
             ]
            ],
            "type": "surface"
           }
          ],
          "table": [
           {
            "cells": {
             "fill": {
              "color": "#EBF0F8"
             },
             "line": {
              "color": "white"
             }
            },
            "header": {
             "fill": {
              "color": "#C8D4E3"
             },
             "line": {
              "color": "white"
             }
            },
            "type": "table"
           }
          ]
         },
         "layout": {
          "annotationdefaults": {
           "arrowcolor": "#2a3f5f",
           "arrowhead": 0,
           "arrowwidth": 1
          },
          "autotypenumbers": "strict",
          "coloraxis": {
           "colorbar": {
            "outlinewidth": 0,
            "ticks": ""
           }
          },
          "colorscale": {
           "diverging": [
            [
             0,
             "#8e0152"
            ],
            [
             0.1,
             "#c51b7d"
            ],
            [
             0.2,
             "#de77ae"
            ],
            [
             0.3,
             "#f1b6da"
            ],
            [
             0.4,
             "#fde0ef"
            ],
            [
             0.5,
             "#f7f7f7"
            ],
            [
             0.6,
             "#e6f5d0"
            ],
            [
             0.7,
             "#b8e186"
            ],
            [
             0.8,
             "#7fbc41"
            ],
            [
             0.9,
             "#4d9221"
            ],
            [
             1,
             "#276419"
            ]
           ],
           "sequential": [
            [
             0,
             "#0d0887"
            ],
            [
             0.1111111111111111,
             "#46039f"
            ],
            [
             0.2222222222222222,
             "#7201a8"
            ],
            [
             0.3333333333333333,
             "#9c179e"
            ],
            [
             0.4444444444444444,
             "#bd3786"
            ],
            [
             0.5555555555555556,
             "#d8576b"
            ],
            [
             0.6666666666666666,
             "#ed7953"
            ],
            [
             0.7777777777777778,
             "#fb9f3a"
            ],
            [
             0.8888888888888888,
             "#fdca26"
            ],
            [
             1,
             "#f0f921"
            ]
           ],
           "sequentialminus": [
            [
             0,
             "#0d0887"
            ],
            [
             0.1111111111111111,
             "#46039f"
            ],
            [
             0.2222222222222222,
             "#7201a8"
            ],
            [
             0.3333333333333333,
             "#9c179e"
            ],
            [
             0.4444444444444444,
             "#bd3786"
            ],
            [
             0.5555555555555556,
             "#d8576b"
            ],
            [
             0.6666666666666666,
             "#ed7953"
            ],
            [
             0.7777777777777778,
             "#fb9f3a"
            ],
            [
             0.8888888888888888,
             "#fdca26"
            ],
            [
             1,
             "#f0f921"
            ]
           ]
          },
          "colorway": [
           "#636efa",
           "#EF553B",
           "#00cc96",
           "#ab63fa",
           "#FFA15A",
           "#19d3f3",
           "#FF6692",
           "#B6E880",
           "#FF97FF",
           "#FECB52"
          ],
          "font": {
           "color": "#2a3f5f"
          },
          "geo": {
           "bgcolor": "white",
           "lakecolor": "white",
           "landcolor": "#E5ECF6",
           "showlakes": true,
           "showland": true,
           "subunitcolor": "white"
          },
          "hoverlabel": {
           "align": "left"
          },
          "hovermode": "closest",
          "mapbox": {
           "style": "light"
          },
          "paper_bgcolor": "white",
          "plot_bgcolor": "#E5ECF6",
          "polar": {
           "angularaxis": {
            "gridcolor": "white",
            "linecolor": "white",
            "ticks": ""
           },
           "bgcolor": "#E5ECF6",
           "radialaxis": {
            "gridcolor": "white",
            "linecolor": "white",
            "ticks": ""
           }
          },
          "scene": {
           "xaxis": {
            "backgroundcolor": "#E5ECF6",
            "gridcolor": "white",
            "gridwidth": 2,
            "linecolor": "white",
            "showbackground": true,
            "ticks": "",
            "zerolinecolor": "white"
           },
           "yaxis": {
            "backgroundcolor": "#E5ECF6",
            "gridcolor": "white",
            "gridwidth": 2,
            "linecolor": "white",
            "showbackground": true,
            "ticks": "",
            "zerolinecolor": "white"
           },
           "zaxis": {
            "backgroundcolor": "#E5ECF6",
            "gridcolor": "white",
            "gridwidth": 2,
            "linecolor": "white",
            "showbackground": true,
            "ticks": "",
            "zerolinecolor": "white"
           }
          },
          "shapedefaults": {
           "line": {
            "color": "#2a3f5f"
           }
          },
          "ternary": {
           "aaxis": {
            "gridcolor": "white",
            "linecolor": "white",
            "ticks": ""
           },
           "baxis": {
            "gridcolor": "white",
            "linecolor": "white",
            "ticks": ""
           },
           "bgcolor": "#E5ECF6",
           "caxis": {
            "gridcolor": "white",
            "linecolor": "white",
            "ticks": ""
           }
          },
          "title": {
           "x": 0.05
          },
          "xaxis": {
           "automargin": true,
           "gridcolor": "white",
           "linecolor": "white",
           "ticks": "",
           "title": {
            "standoff": 15
           },
           "zerolinecolor": "white",
           "zerolinewidth": 2
          },
          "yaxis": {
           "automargin": true,
           "gridcolor": "white",
           "linecolor": "white",
           "ticks": "",
           "title": {
            "standoff": 15
           },
           "zerolinecolor": "white",
           "zerolinewidth": 2
          }
         }
        },
        "title": {
         "text": "Historical Bitcoin Prices (2012-2018) with the Slider "
        },
        "xaxis": {
         "rangeselector": {
          "buttons": [
           {
            "count": 6,
            "label": "6m",
            "step": "month",
            "stepmode": "backward"
           },
           {
            "count": 12,
            "label": "1y",
            "step": "month",
            "stepmode": "backward"
           },
           {
            "count": 36,
            "label": "3y",
            "step": "month",
            "stepmode": "backward"
           },
           {
            "step": "all"
           }
          ]
         },
         "rangeslider": {
          "visible": true
         },
         "type": "date"
        }
       }
      },
      "text/html": [
       "<div>                            <div id=\"e6caf677-68a2-4e9a-8bdf-8db00974001a\" class=\"plotly-graph-div\" style=\"height:525px; width:100%;\"></div>            <script type=\"text/javascript\">                require([\"plotly\"], function(Plotly) {                    window.PLOTLYENV=window.PLOTLYENV || {};                                    if (document.getElementById(\"e6caf677-68a2-4e9a-8bdf-8db00974001a\")) {                    Plotly.newPlot(                        \"e6caf677-68a2-4e9a-8bdf-8db00974001a\",                        [{\"mode\":\"lines\",\"name\":\"Open\",\"x\":[\"2013-06-30T00:00:00\",\"2013-07-31T00:00:00\",\"2013-08-31T00:00:00\",\"2013-09-30T00:00:00\",\"2013-10-31T00:00:00\",\"2013-11-30T00:00:00\",\"2013-12-31T00:00:00\",\"2014-01-31T00:00:00\",\"2014-02-28T00:00:00\",\"2014-03-31T00:00:00\",\"2014-04-30T00:00:00\",\"2014-05-31T00:00:00\",\"2014-06-30T00:00:00\",\"2014-07-31T00:00:00\",\"2014-08-31T00:00:00\",\"2014-09-30T00:00:00\",\"2014-10-31T00:00:00\",\"2014-11-30T00:00:00\",\"2014-12-31T00:00:00\",\"2015-01-31T00:00:00\",\"2015-02-28T00:00:00\",\"2015-03-31T00:00:00\",\"2015-04-30T00:00:00\",\"2015-05-31T00:00:00\",\"2015-06-30T00:00:00\",\"2015-07-31T00:00:00\",\"2015-08-31T00:00:00\",\"2015-09-30T00:00:00\",\"2015-10-31T00:00:00\",\"2015-11-30T00:00:00\",\"2015-12-31T00:00:00\",\"2016-01-31T00:00:00\",\"2016-02-29T00:00:00\",\"2016-03-31T00:00:00\",\"2016-04-30T00:00:00\",\"2016-05-31T00:00:00\",\"2016-06-30T00:00:00\",\"2016-07-31T00:00:00\",\"2016-08-31T00:00:00\",\"2016-09-30T00:00:00\",\"2016-10-31T00:00:00\",\"2016-11-30T00:00:00\",\"2016-12-31T00:00:00\",\"2017-01-31T00:00:00\",\"2017-02-28T00:00:00\",\"2017-03-31T00:00:00\",\"2017-04-30T00:00:00\",\"2017-05-31T00:00:00\",\"2017-06-30T00:00:00\",\"2017-07-31T00:00:00\",\"2017-08-31T00:00:00\",\"2017-09-30T00:00:00\",\"2017-10-31T00:00:00\",\"2017-11-30T00:00:00\",\"2017-12-31T00:00:00\",\"2018-01-31T00:00:00\",\"2018-02-28T00:00:00\",\"2018-03-31T00:00:00\",\"2018-04-30T00:00:00\",\"2018-05-31T00:00:00\",\"2018-06-30T00:00:00\",\"2018-07-31T00:00:00\",\"2018-08-31T00:00:00\",\"2018-09-30T00:00:00\",\"2018-10-31T00:00:00\",\"2018-11-30T00:00:00\",\"2018-12-31T00:00:00\",\"2019-01-31T00:00:00\",\"2019-02-28T00:00:00\",\"2019-03-31T00:00:00\",\"2019-04-30T00:00:00\",\"2019-05-31T00:00:00\",\"2019-06-30T00:00:00\",\"2019-07-31T00:00:00\",\"2019-08-31T00:00:00\",\"2019-09-30T00:00:00\",\"2019-10-31T00:00:00\",\"2019-11-30T00:00:00\",\"2019-12-31T00:00:00\",\"2020-01-31T00:00:00\",\"2020-02-29T00:00:00\",\"2020-03-31T00:00:00\",\"2020-04-30T00:00:00\",\"2020-05-31T00:00:00\",\"2020-06-30T00:00:00\",\"2020-07-31T00:00:00\",\"2020-08-31T00:00:00\",\"2020-09-30T00:00:00\",\"2020-10-31T00:00:00\",\"2020-11-30T00:00:00\",\"2020-12-31T00:00:00\",\"2021-01-31T00:00:00\",\"2021-02-28T00:00:00\",\"2021-03-31T00:00:00\",\"2021-04-30T00:00:00\",\"2021-05-31T00:00:00\",\"2021-06-30T00:00:00\",\"2021-07-31T00:00:00\",\"2021-08-31T00:00:00\",\"2021-09-30T00:00:00\",\"2021-10-31T00:00:00\",\"2021-11-30T00:00:00\",\"2021-12-31T00:00:00\",\"2022-01-31T00:00:00\",\"2022-02-28T00:00:00\",\"2022-03-31T00:00:00\",\"2022-04-30T00:00:00\",\"2022-05-31T00:00:00\",\"2022-06-30T00:00:00\",\"2022-07-31T00:00:00\",\"2022-08-31T00:00:00\",\"2022-09-30T00:00:00\",\"2022-10-31T00:00:00\",\"2022-11-30T00:00:00\",\"2022-12-31T00:00:00\",\"2023-01-31T00:00:00\",\"2023-02-28T00:00:00\",\"2023-03-31T00:00:00\",\"2023-04-30T00:00:00\",\"2023-05-31T00:00:00\"],\"y\":[108.85666666666665,90.31129032258065,113.04193548387097,130.18066666666667,156.03161290322583,520.506,813.118064516129,841.7022580645162,670.8392857142857,595.7819354838709,461.649,480.99096774193544,615.2223333333333,619.7735483870968,539.6877419354838,448.10066666666665,365.7483870967742,364.85066666666665,343.0748387096774,251.8,232.82107142857143,269.27838709677417,235.708,237.16258064516128,236.94133333333332,278.8577419354839,252.98774193548385,233.48733333333334,262.3058064516129,346.86633333333333,422.61806451612904,412.8058064516129,402.3051724137931,417.26193548387096,433.48733333333337,459.2374193548387,638.5446666666667,662.9777419354839,581.2387096774194,604.6146666666666,640.7025806451612,725.0743333333334,821.1080645161289,914.6812903225806,1055.6200000000001,1133.212580645161,1197.6470000000002,1865.7487096774194,2630.5733333333333,2509.2132258064516,3819.8125806451612,4077.401,5291.37,7685.746,15175.21935483871,13212.074193548387,9462.242857142857,9156.591612903227,7963.618333333333,8505.240645161291,6829.258,7101.466451612903,6723.800967741935,6622.821333333334,6494.016451612903,5481.615000000001,3726.4735483870963,3709.706129032258,3697.1785714285716,3967.7396774193544,5136.813666666667,7205.207741935484,9339.479,10691.706451612905,10657.745806451612,9858.141666666666,8382.43129032258,8427.103,7296.352258064517,8318.949354838709,9656.214827586206,6943.507419354839,7150.611,9237.76129032258,9499.796999999999,9519.382903225805,11639.097741935484,10689.7,11791.306774193548,16450.120666666666,21680.54129032258,34652.962258064515,45874.967500000006,54544.67838709678,57251.255666666664,47105.82774193548,35920.54733333333,34234.21193548387,45516.12,46041.859333333334,57344.743870967744,60857.520333333334,49670.411612903226,41368.07322580645,40591.10357142857,41889.14838709678,41694.653333333335,31907.791612903227,24783.338,21424.73258064516,22471.866451612903,19821.353,19616.090322580647,17711.480666666666,16969.57870967742,20038.26258064516,23304.086785714284,24945.340322580647,28823.841666666667,27562.721612903224],\"type\":\"scatter\"},{\"mode\":\"lines\",\"name\":\"Close\",\"x\":[\"2013-06-30T00:00:00\",\"2013-07-31T00:00:00\",\"2013-08-31T00:00:00\",\"2013-09-30T00:00:00\",\"2013-10-31T00:00:00\",\"2013-11-30T00:00:00\",\"2013-12-31T00:00:00\",\"2014-01-31T00:00:00\",\"2014-02-28T00:00:00\",\"2014-03-31T00:00:00\",\"2014-04-30T00:00:00\",\"2014-05-31T00:00:00\",\"2014-06-30T00:00:00\",\"2014-07-31T00:00:00\",\"2014-08-31T00:00:00\",\"2014-09-30T00:00:00\",\"2014-10-31T00:00:00\",\"2014-11-30T00:00:00\",\"2014-12-31T00:00:00\",\"2015-01-31T00:00:00\",\"2015-02-28T00:00:00\",\"2015-03-31T00:00:00\",\"2015-04-30T00:00:00\",\"2015-05-31T00:00:00\",\"2015-06-30T00:00:00\",\"2015-07-31T00:00:00\",\"2015-08-31T00:00:00\",\"2015-09-30T00:00:00\",\"2015-10-31T00:00:00\",\"2015-11-30T00:00:00\",\"2015-12-31T00:00:00\",\"2016-01-31T00:00:00\",\"2016-02-29T00:00:00\",\"2016-03-31T00:00:00\",\"2016-04-30T00:00:00\",\"2016-05-31T00:00:00\",\"2016-06-30T00:00:00\",\"2016-07-31T00:00:00\",\"2016-08-31T00:00:00\",\"2016-09-30T00:00:00\",\"2016-10-31T00:00:00\",\"2016-11-30T00:00:00\",\"2016-12-31T00:00:00\",\"2017-01-31T00:00:00\",\"2017-02-28T00:00:00\",\"2017-03-31T00:00:00\",\"2017-04-30T00:00:00\",\"2017-05-31T00:00:00\",\"2017-06-30T00:00:00\",\"2017-07-31T00:00:00\",\"2017-08-31T00:00:00\",\"2017-09-30T00:00:00\",\"2017-10-31T00:00:00\",\"2017-11-30T00:00:00\",\"2017-12-31T00:00:00\",\"2018-01-31T00:00:00\",\"2018-02-28T00:00:00\",\"2018-03-31T00:00:00\",\"2018-04-30T00:00:00\",\"2018-05-31T00:00:00\",\"2018-06-30T00:00:00\",\"2018-07-31T00:00:00\",\"2018-08-31T00:00:00\",\"2018-09-30T00:00:00\",\"2018-10-31T00:00:00\",\"2018-11-30T00:00:00\",\"2018-12-31T00:00:00\",\"2019-01-31T00:00:00\",\"2019-02-28T00:00:00\",\"2019-03-31T00:00:00\",\"2019-04-30T00:00:00\",\"2019-05-31T00:00:00\",\"2019-06-30T00:00:00\",\"2019-07-31T00:00:00\",\"2019-08-31T00:00:00\",\"2019-09-30T00:00:00\",\"2019-10-31T00:00:00\",\"2019-11-30T00:00:00\",\"2019-12-31T00:00:00\",\"2020-01-31T00:00:00\",\"2020-02-29T00:00:00\",\"2020-03-31T00:00:00\",\"2020-04-30T00:00:00\",\"2020-05-31T00:00:00\",\"2020-06-30T00:00:00\",\"2020-07-31T00:00:00\",\"2020-08-31T00:00:00\",\"2020-09-30T00:00:00\",\"2020-10-31T00:00:00\",\"2020-11-30T00:00:00\",\"2020-12-31T00:00:00\",\"2021-01-31T00:00:00\",\"2021-02-28T00:00:00\",\"2021-03-31T00:00:00\",\"2021-04-30T00:00:00\",\"2021-05-31T00:00:00\",\"2021-06-30T00:00:00\",\"2021-07-31T00:00:00\",\"2021-08-31T00:00:00\",\"2021-09-30T00:00:00\",\"2021-10-31T00:00:00\",\"2021-11-30T00:00:00\",\"2021-12-31T00:00:00\",\"2022-01-31T00:00:00\",\"2022-02-28T00:00:00\",\"2022-03-31T00:00:00\",\"2022-04-30T00:00:00\",\"2022-05-31T00:00:00\",\"2022-06-30T00:00:00\",\"2022-07-31T00:00:00\",\"2022-08-31T00:00:00\",\"2022-09-30T00:00:00\",\"2022-10-31T00:00:00\",\"2022-11-30T00:00:00\",\"2022-12-31T00:00:00\",\"2023-01-31T00:00:00\",\"2023-02-28T00:00:00\",\"2023-03-31T00:00:00\",\"2023-04-30T00:00:00\",\"2023-05-31T00:00:00\"],\"y\":[111.30066666666667,93.86903225806452,116.00225806451614,134.16433333333333,161.9441935483871,569.307,856.441935483871,870.5506451612903,690.5560714285714,609.8748387096774,476.66566666666665,492.4935483870967,627.1463333333334,624.2106451612902,546.5354838709677,454.6536666666667,374.3151612903226,376.49466666666666,347.4874193548387,261.3916129032258,240.21142857142857,274.8512903225806,238.95633333333333,239.56193548387097,240.12666666666667,284.1225806451613,256.416129032258,236.685,267.7406451612903,361.3743333333333,431.56870967741935,418.80258064516124,408.42275862068965,420.02741935483874,436.75266666666664,466.1293548387097,657.879,670.2745161290322,586.1661290322581,608.3476666666667,646.4461290322581,733.67,832.5048387096774,937.4506451612904,1073.5039285714286,1161.8932258064517,1216.3029999999999,1968.7867741935484,2712.2556666666665,2603.9987096774194,3953.1329032258063,4214.381666666666,5450.2954838709675,8084.058,16051.632258064517,13705.425806451613,9914.565357142857,9373.206451612905,8209.301,8638.82,6930.069,7258.952580645161,6849.496129032258,6709.125666666666,6550.149677419356,5561.603666666666,3840.1277419354838,3755.8338709677423,3752.5603571428574,4008.783548387097,5258.515666666667,7466.773548387097,9702.518,11025.668387096774,10861.748064516129,9973.391666666666,8577.835161290323,8542.318000000001,7411.171290322581,8490.319677419355,9791.163103448274,7182.895161290323,7352.325,9451.186451612904,9606.908333333333,9672.62741935484,11827.761612903225,10844.910333333333,12018.847741935482,16945.980666666666,22354.685806451613,36206.55774193549,47710.415,56250.97967741936,58557.342333333334,48775.04096774194,37094.88033333333,35161.96677419355,46685.621612903225,47132.725,59024.87774193548,62046.72066666667,50722.47193548387,42044.1664516129,41685.85642857143,42770.03193548387,42328.085333333336,32639.952903225807,25228.662333333334,22012.192258064515,22870.607741935484,20199.34933333333,19870.064193548387,18004.315,17109.24193548387,20460.601290322582,23690.401071428572,25641.199032258064,29297.115666666665,27908.66935483871],\"type\":\"scatter\"},{\"mode\":\"lines\",\"name\":\"Weighted Avg\",\"x\":[\"2013-06-30T00:00:00\",\"2013-07-31T00:00:00\",\"2013-08-31T00:00:00\",\"2013-09-30T00:00:00\",\"2013-10-31T00:00:00\",\"2013-11-30T00:00:00\",\"2013-12-31T00:00:00\",\"2014-01-31T00:00:00\",\"2014-02-28T00:00:00\",\"2014-03-31T00:00:00\",\"2014-04-30T00:00:00\",\"2014-05-31T00:00:00\",\"2014-06-30T00:00:00\",\"2014-07-31T00:00:00\",\"2014-08-31T00:00:00\",\"2014-09-30T00:00:00\",\"2014-10-31T00:00:00\",\"2014-11-30T00:00:00\",\"2014-12-31T00:00:00\",\"2015-01-31T00:00:00\",\"2015-02-28T00:00:00\",\"2015-03-31T00:00:00\",\"2015-04-30T00:00:00\",\"2015-05-31T00:00:00\",\"2015-06-30T00:00:00\",\"2015-07-31T00:00:00\",\"2015-08-31T00:00:00\",\"2015-09-30T00:00:00\",\"2015-10-31T00:00:00\",\"2015-11-30T00:00:00\",\"2015-12-31T00:00:00\",\"2016-01-31T00:00:00\",\"2016-02-29T00:00:00\",\"2016-03-31T00:00:00\",\"2016-04-30T00:00:00\",\"2016-05-31T00:00:00\",\"2016-06-30T00:00:00\",\"2016-07-31T00:00:00\",\"2016-08-31T00:00:00\",\"2016-09-30T00:00:00\",\"2016-10-31T00:00:00\",\"2016-11-30T00:00:00\",\"2016-12-31T00:00:00\",\"2017-01-31T00:00:00\",\"2017-02-28T00:00:00\",\"2017-03-31T00:00:00\",\"2017-04-30T00:00:00\",\"2017-05-31T00:00:00\",\"2017-06-30T00:00:00\",\"2017-07-31T00:00:00\",\"2017-08-31T00:00:00\",\"2017-09-30T00:00:00\",\"2017-10-31T00:00:00\",\"2017-11-30T00:00:00\",\"2017-12-31T00:00:00\",\"2018-01-31T00:00:00\",\"2018-02-28T00:00:00\",\"2018-03-31T00:00:00\",\"2018-04-30T00:00:00\",\"2018-05-31T00:00:00\",\"2018-06-30T00:00:00\",\"2018-07-31T00:00:00\",\"2018-08-31T00:00:00\",\"2018-09-30T00:00:00\",\"2018-10-31T00:00:00\",\"2018-11-30T00:00:00\",\"2018-12-31T00:00:00\",\"2019-01-31T00:00:00\",\"2019-02-28T00:00:00\",\"2019-03-31T00:00:00\",\"2019-04-30T00:00:00\",\"2019-05-31T00:00:00\",\"2019-06-30T00:00:00\",\"2019-07-31T00:00:00\",\"2019-08-31T00:00:00\",\"2019-09-30T00:00:00\",\"2019-10-31T00:00:00\",\"2019-11-30T00:00:00\",\"2019-12-31T00:00:00\",\"2020-01-31T00:00:00\",\"2020-02-29T00:00:00\",\"2020-03-31T00:00:00\",\"2020-04-30T00:00:00\",\"2020-05-31T00:00:00\",\"2020-06-30T00:00:00\",\"2020-07-31T00:00:00\",\"2020-08-31T00:00:00\",\"2020-09-30T00:00:00\",\"2020-10-31T00:00:00\",\"2020-11-30T00:00:00\",\"2020-12-31T00:00:00\",\"2021-01-31T00:00:00\",\"2021-02-28T00:00:00\",\"2021-03-31T00:00:00\",\"2021-04-30T00:00:00\",\"2021-05-31T00:00:00\",\"2021-06-30T00:00:00\",\"2021-07-31T00:00:00\",\"2021-08-31T00:00:00\",\"2021-09-30T00:00:00\",\"2021-10-31T00:00:00\",\"2021-11-30T00:00:00\",\"2021-12-31T00:00:00\",\"2022-01-31T00:00:00\",\"2022-02-28T00:00:00\",\"2022-03-31T00:00:00\",\"2022-04-30T00:00:00\",\"2022-05-31T00:00:00\",\"2022-06-30T00:00:00\",\"2022-07-31T00:00:00\",\"2022-08-31T00:00:00\",\"2022-09-30T00:00:00\",\"2022-10-31T00:00:00\",\"2022-11-30T00:00:00\",\"2022-12-31T00:00:00\",\"2023-01-31T00:00:00\",\"2023-02-28T00:00:00\",\"2023-03-31T00:00:00\",\"2023-04-30T00:00:00\",\"2023-05-31T00:00:00\"],\"y\":[107.76133333333334,90.51225806451613,113.90516129032258,130.06166666666667,158.31193548387097,550.4206666666666,800.7809677419355,844.1683870967743,661.6182142857143,592.2003225806451,461.36266666666666,486.6512903225807,615.917,618.0251612903226,536.0880645161291,445.186,364.14935483870966,366.0996666666667,341.268064516129,248.7832258064516,234.15321428571428,269.0422580645161,235.49200000000002,236.99709677419355,238.08100000000002,279.5635483870968,250.7341935483871,233.59566666666666,264.85548387096776,348.8833333333333,424.4641935483871,410.84483870967745,404.4079310344828,416.5264516129032,434.3383333333333,461.9538709677419,642.8703333333334,661.3558064516129,579.5848387096775,605.848,643.55,726.3486666666666,828.0600000000001,914.9164516129032,1062.5332142857144,1129.3651612903225,1206.641,1895.3835483870967,2636.2043333333336,2519.418387096774,3880.9900000000002,4064.836333333333,5360.071612903226,7813.133,15294.270967741937,13085.558064516128,9472.001071428573,9040.557096774193,8033.596666666666,8450.997741935484,6793.507666666667,7146.35,6700.13,6610.675,6485.118709677419,5404.250333333333,3717.487419354839,3701.5551612903228,3711.907857142857,3976.07,5178.470333333334,7309.695161290322,9415.9,10669.336451612902,10643.248064516129,9814.067666666666,8411.92935483871,8373.572666666667,7284.013548387097,8389.27,9630.722068965517,6871.015483870968,7224.4766666666665,9263.151935483871,9489.226666666666,9589.89935483871,11652.394193548387,10660.277,11886.978387096775,16645.75733333333,21983.136774193546,34761.650322580645,46306.798214285714,54998.007419354835,57206.72033333333,46443.28612903226,35845.15533333333,34444.974516129034,45709.02322580645,45939.77166666666,57911.97129032257,60621.48966666667,49263.21,41114.42193548387,40763.47392857143,41966.23741935484,41435.318666666666,31712.83322580645,24383.685999999998,21539.254193548386,22366.266451612904,19804.779333333332,19650.525806451613,17600.814333333336,16949.60870967742,20251.00806451613,23304.538214285712,25116.90064516129,28851.102666666666,27499.30741935484],\"type\":\"scatter\"}],                        {\"template\":{\"data\":{\"barpolar\":[{\"marker\":{\"line\":{\"color\":\"#E5ECF6\",\"width\":0.5},\"pattern\":{\"fillmode\":\"overlay\",\"size\":10,\"solidity\":0.2}},\"type\":\"barpolar\"}],\"bar\":[{\"error_x\":{\"color\":\"#2a3f5f\"},\"error_y\":{\"color\":\"#2a3f5f\"},\"marker\":{\"line\":{\"color\":\"#E5ECF6\",\"width\":0.5},\"pattern\":{\"fillmode\":\"overlay\",\"size\":10,\"solidity\":0.2}},\"type\":\"bar\"}],\"carpet\":[{\"aaxis\":{\"endlinecolor\":\"#2a3f5f\",\"gridcolor\":\"white\",\"linecolor\":\"white\",\"minorgridcolor\":\"white\",\"startlinecolor\":\"#2a3f5f\"},\"baxis\":{\"endlinecolor\":\"#2a3f5f\",\"gridcolor\":\"white\",\"linecolor\":\"white\",\"minorgridcolor\":\"white\",\"startlinecolor\":\"#2a3f5f\"},\"type\":\"carpet\"}],\"choropleth\":[{\"colorbar\":{\"outlinewidth\":0,\"ticks\":\"\"},\"type\":\"choropleth\"}],\"contourcarpet\":[{\"colorbar\":{\"outlinewidth\":0,\"ticks\":\"\"},\"type\":\"contourcarpet\"}],\"contour\":[{\"colorbar\":{\"outlinewidth\":0,\"ticks\":\"\"},\"colorscale\":[[0.0,\"#0d0887\"],[0.1111111111111111,\"#46039f\"],[0.2222222222222222,\"#7201a8\"],[0.3333333333333333,\"#9c179e\"],[0.4444444444444444,\"#bd3786\"],[0.5555555555555556,\"#d8576b\"],[0.6666666666666666,\"#ed7953\"],[0.7777777777777778,\"#fb9f3a\"],[0.8888888888888888,\"#fdca26\"],[1.0,\"#f0f921\"]],\"type\":\"contour\"}],\"heatmapgl\":[{\"colorbar\":{\"outlinewidth\":0,\"ticks\":\"\"},\"colorscale\":[[0.0,\"#0d0887\"],[0.1111111111111111,\"#46039f\"],[0.2222222222222222,\"#7201a8\"],[0.3333333333333333,\"#9c179e\"],[0.4444444444444444,\"#bd3786\"],[0.5555555555555556,\"#d8576b\"],[0.6666666666666666,\"#ed7953\"],[0.7777777777777778,\"#fb9f3a\"],[0.8888888888888888,\"#fdca26\"],[1.0,\"#f0f921\"]],\"type\":\"heatmapgl\"}],\"heatmap\":[{\"colorbar\":{\"outlinewidth\":0,\"ticks\":\"\"},\"colorscale\":[[0.0,\"#0d0887\"],[0.1111111111111111,\"#46039f\"],[0.2222222222222222,\"#7201a8\"],[0.3333333333333333,\"#9c179e\"],[0.4444444444444444,\"#bd3786\"],[0.5555555555555556,\"#d8576b\"],[0.6666666666666666,\"#ed7953\"],[0.7777777777777778,\"#fb9f3a\"],[0.8888888888888888,\"#fdca26\"],[1.0,\"#f0f921\"]],\"type\":\"heatmap\"}],\"histogram2dcontour\":[{\"colorbar\":{\"outlinewidth\":0,\"ticks\":\"\"},\"colorscale\":[[0.0,\"#0d0887\"],[0.1111111111111111,\"#46039f\"],[0.2222222222222222,\"#7201a8\"],[0.3333333333333333,\"#9c179e\"],[0.4444444444444444,\"#bd3786\"],[0.5555555555555556,\"#d8576b\"],[0.6666666666666666,\"#ed7953\"],[0.7777777777777778,\"#fb9f3a\"],[0.8888888888888888,\"#fdca26\"],[1.0,\"#f0f921\"]],\"type\":\"histogram2dcontour\"}],\"histogram2d\":[{\"colorbar\":{\"outlinewidth\":0,\"ticks\":\"\"},\"colorscale\":[[0.0,\"#0d0887\"],[0.1111111111111111,\"#46039f\"],[0.2222222222222222,\"#7201a8\"],[0.3333333333333333,\"#9c179e\"],[0.4444444444444444,\"#bd3786\"],[0.5555555555555556,\"#d8576b\"],[0.6666666666666666,\"#ed7953\"],[0.7777777777777778,\"#fb9f3a\"],[0.8888888888888888,\"#fdca26\"],[1.0,\"#f0f921\"]],\"type\":\"histogram2d\"}],\"histogram\":[{\"marker\":{\"pattern\":{\"fillmode\":\"overlay\",\"size\":10,\"solidity\":0.2}},\"type\":\"histogram\"}],\"mesh3d\":[{\"colorbar\":{\"outlinewidth\":0,\"ticks\":\"\"},\"type\":\"mesh3d\"}],\"parcoords\":[{\"line\":{\"colorbar\":{\"outlinewidth\":0,\"ticks\":\"\"}},\"type\":\"parcoords\"}],\"pie\":[{\"automargin\":true,\"type\":\"pie\"}],\"scatter3d\":[{\"line\":{\"colorbar\":{\"outlinewidth\":0,\"ticks\":\"\"}},\"marker\":{\"colorbar\":{\"outlinewidth\":0,\"ticks\":\"\"}},\"type\":\"scatter3d\"}],\"scattercarpet\":[{\"marker\":{\"colorbar\":{\"outlinewidth\":0,\"ticks\":\"\"}},\"type\":\"scattercarpet\"}],\"scattergeo\":[{\"marker\":{\"colorbar\":{\"outlinewidth\":0,\"ticks\":\"\"}},\"type\":\"scattergeo\"}],\"scattergl\":[{\"marker\":{\"colorbar\":{\"outlinewidth\":0,\"ticks\":\"\"}},\"type\":\"scattergl\"}],\"scattermapbox\":[{\"marker\":{\"colorbar\":{\"outlinewidth\":0,\"ticks\":\"\"}},\"type\":\"scattermapbox\"}],\"scatterpolargl\":[{\"marker\":{\"colorbar\":{\"outlinewidth\":0,\"ticks\":\"\"}},\"type\":\"scatterpolargl\"}],\"scatterpolar\":[{\"marker\":{\"colorbar\":{\"outlinewidth\":0,\"ticks\":\"\"}},\"type\":\"scatterpolar\"}],\"scatter\":[{\"fillpattern\":{\"fillmode\":\"overlay\",\"size\":10,\"solidity\":0.2},\"type\":\"scatter\"}],\"scatterternary\":[{\"marker\":{\"colorbar\":{\"outlinewidth\":0,\"ticks\":\"\"}},\"type\":\"scatterternary\"}],\"surface\":[{\"colorbar\":{\"outlinewidth\":0,\"ticks\":\"\"},\"colorscale\":[[0.0,\"#0d0887\"],[0.1111111111111111,\"#46039f\"],[0.2222222222222222,\"#7201a8\"],[0.3333333333333333,\"#9c179e\"],[0.4444444444444444,\"#bd3786\"],[0.5555555555555556,\"#d8576b\"],[0.6666666666666666,\"#ed7953\"],[0.7777777777777778,\"#fb9f3a\"],[0.8888888888888888,\"#fdca26\"],[1.0,\"#f0f921\"]],\"type\":\"surface\"}],\"table\":[{\"cells\":{\"fill\":{\"color\":\"#EBF0F8\"},\"line\":{\"color\":\"white\"}},\"header\":{\"fill\":{\"color\":\"#C8D4E3\"},\"line\":{\"color\":\"white\"}},\"type\":\"table\"}]},\"layout\":{\"annotationdefaults\":{\"arrowcolor\":\"#2a3f5f\",\"arrowhead\":0,\"arrowwidth\":1},\"autotypenumbers\":\"strict\",\"coloraxis\":{\"colorbar\":{\"outlinewidth\":0,\"ticks\":\"\"}},\"colorscale\":{\"diverging\":[[0,\"#8e0152\"],[0.1,\"#c51b7d\"],[0.2,\"#de77ae\"],[0.3,\"#f1b6da\"],[0.4,\"#fde0ef\"],[0.5,\"#f7f7f7\"],[0.6,\"#e6f5d0\"],[0.7,\"#b8e186\"],[0.8,\"#7fbc41\"],[0.9,\"#4d9221\"],[1,\"#276419\"]],\"sequential\":[[0.0,\"#0d0887\"],[0.1111111111111111,\"#46039f\"],[0.2222222222222222,\"#7201a8\"],[0.3333333333333333,\"#9c179e\"],[0.4444444444444444,\"#bd3786\"],[0.5555555555555556,\"#d8576b\"],[0.6666666666666666,\"#ed7953\"],[0.7777777777777778,\"#fb9f3a\"],[0.8888888888888888,\"#fdca26\"],[1.0,\"#f0f921\"]],\"sequentialminus\":[[0.0,\"#0d0887\"],[0.1111111111111111,\"#46039f\"],[0.2222222222222222,\"#7201a8\"],[0.3333333333333333,\"#9c179e\"],[0.4444444444444444,\"#bd3786\"],[0.5555555555555556,\"#d8576b\"],[0.6666666666666666,\"#ed7953\"],[0.7777777777777778,\"#fb9f3a\"],[0.8888888888888888,\"#fdca26\"],[1.0,\"#f0f921\"]]},\"colorway\":[\"#636efa\",\"#EF553B\",\"#00cc96\",\"#ab63fa\",\"#FFA15A\",\"#19d3f3\",\"#FF6692\",\"#B6E880\",\"#FF97FF\",\"#FECB52\"],\"font\":{\"color\":\"#2a3f5f\"},\"geo\":{\"bgcolor\":\"white\",\"lakecolor\":\"white\",\"landcolor\":\"#E5ECF6\",\"showlakes\":true,\"showland\":true,\"subunitcolor\":\"white\"},\"hoverlabel\":{\"align\":\"left\"},\"hovermode\":\"closest\",\"mapbox\":{\"style\":\"light\"},\"paper_bgcolor\":\"white\",\"plot_bgcolor\":\"#E5ECF6\",\"polar\":{\"angularaxis\":{\"gridcolor\":\"white\",\"linecolor\":\"white\",\"ticks\":\"\"},\"bgcolor\":\"#E5ECF6\",\"radialaxis\":{\"gridcolor\":\"white\",\"linecolor\":\"white\",\"ticks\":\"\"}},\"scene\":{\"xaxis\":{\"backgroundcolor\":\"#E5ECF6\",\"gridcolor\":\"white\",\"gridwidth\":2,\"linecolor\":\"white\",\"showbackground\":true,\"ticks\":\"\",\"zerolinecolor\":\"white\"},\"yaxis\":{\"backgroundcolor\":\"#E5ECF6\",\"gridcolor\":\"white\",\"gridwidth\":2,\"linecolor\":\"white\",\"showbackground\":true,\"ticks\":\"\",\"zerolinecolor\":\"white\"},\"zaxis\":{\"backgroundcolor\":\"#E5ECF6\",\"gridcolor\":\"white\",\"gridwidth\":2,\"linecolor\":\"white\",\"showbackground\":true,\"ticks\":\"\",\"zerolinecolor\":\"white\"}},\"shapedefaults\":{\"line\":{\"color\":\"#2a3f5f\"}},\"ternary\":{\"aaxis\":{\"gridcolor\":\"white\",\"linecolor\":\"white\",\"ticks\":\"\"},\"baxis\":{\"gridcolor\":\"white\",\"linecolor\":\"white\",\"ticks\":\"\"},\"bgcolor\":\"#E5ECF6\",\"caxis\":{\"gridcolor\":\"white\",\"linecolor\":\"white\",\"ticks\":\"\"}},\"title\":{\"x\":0.05},\"xaxis\":{\"automargin\":true,\"gridcolor\":\"white\",\"linecolor\":\"white\",\"ticks\":\"\",\"title\":{\"standoff\":15},\"zerolinecolor\":\"white\",\"zerolinewidth\":2},\"yaxis\":{\"automargin\":true,\"gridcolor\":\"white\",\"linecolor\":\"white\",\"ticks\":\"\",\"title\":{\"standoff\":15},\"zerolinecolor\":\"white\",\"zerolinewidth\":2}}},\"title\":{\"text\":\"Historical Bitcoin Prices (2012-2018) with the Slider \"},\"xaxis\":{\"rangeselector\":{\"buttons\":[{\"count\":6,\"label\":\"6m\",\"step\":\"month\",\"stepmode\":\"backward\"},{\"count\":12,\"label\":\"1y\",\"step\":\"month\",\"stepmode\":\"backward\"},{\"count\":36,\"label\":\"3y\",\"step\":\"month\",\"stepmode\":\"backward\"},{\"step\":\"all\"}]},\"rangeslider\":{\"visible\":true},\"type\":\"date\"}},                        {\"responsive\": true}                    ).then(function(){\n",
       "                            \n",
       "var gd = document.getElementById('e6caf677-68a2-4e9a-8bdf-8db00974001a');\n",
       "var x = new MutationObserver(function (mutations, observer) {{\n",
       "        var display = window.getComputedStyle(gd).display;\n",
       "        if (!display || display === 'none') {{\n",
       "            console.log([gd, 'removed!']);\n",
       "            Plotly.purge(gd);\n",
       "            observer.disconnect();\n",
       "        }}\n",
       "}});\n",
       "\n",
       "// Listen for the removal of the full notebook cells\n",
       "var notebookContainer = gd.closest('#notebook-container');\n",
       "if (notebookContainer) {{\n",
       "    x.observe(notebookContainer, {childList: true});\n",
       "}}\n",
       "\n",
       "// Listen for the clearing of the current output cell\n",
       "var outputEl = gd.closest('.output');\n",
       "if (outputEl) {{\n",
       "    x.observe(outputEl, {childList: true});\n",
       "}}\n",
       "\n",
       "                        })                };                });            </script>        </div>"
      ]
     },
     "metadata": {},
     "output_type": "display_data"
    }
   ],
   "source": [
    "# We use Plotly to create the plots https://plot.ly/python/\n",
    "trace1 = go.Scatter(\n",
    "    x = data_monthly['Date'],\n",
    "    y = data_monthly['Open'].astype(float),\n",
    "    mode = 'lines',\n",
    "    name = 'Open'\n",
    ")\n",
    "\n",
    "trace2 = go.Scatter(\n",
    "    x = data_monthly['Date'],\n",
    "    y = data_monthly['High'].astype(float),\n",
    "    mode = 'lines',\n",
    "    name = 'Close'\n",
    ")\n",
    "trace3 = go.Scatter(\n",
    "    x = data_monthly['Date'],\n",
    "    y = data_monthly['Close'].astype(float),\n",
    "    mode = 'lines',\n",
    "    name = 'Weighted Avg'\n",
    ")\n",
    "\n",
    "layout = dict(\n",
    "    title='Historical Bitcoin Prices (2012-2018) with the Slider ',\n",
    "    xaxis=dict(\n",
    "        rangeselector=dict(\n",
    "            buttons=list([\n",
    "\n",
    "                dict(count=6,\n",
    "                     label='6m',\n",
    "                     step='month',\n",
    "                     stepmode='backward'),\n",
    "                dict(count=12,\n",
    "                     label='1y',\n",
    "                     step='month',\n",
    "                     stepmode='backward'),\n",
    "                dict(count=36,\n",
    "                     label='3y',\n",
    "                     step='month',\n",
    "                     stepmode='backward'),\n",
    "                dict(step='all')\n",
    "            ])\n",
    "        ),\n",
    "        rangeslider=dict(\n",
    "            visible = True\n",
    "        ),\n",
    "        type='date'\n",
    "    )\n",
    ")\n",
    "\n",
    "_ = [trace1,trace2, trace3]\n",
    "fig = dict(data=_, layout=layout)\n",
    "iplot(fig, filename = \"Time Series with Rangeslider\")"
   ]
  },
  {
   "cell_type": "markdown",
   "metadata": {},
   "source": [
    "### Visualizing Bitcoin Market Volume from 2012-2021"
   ]
  },
  {
   "cell_type": "code",
   "execution_count": 66,
   "metadata": {},
   "outputs": [
    {
     "data": {
      "application/vnd.plotly.v1+json": {
       "config": {
        "linkText": "Export to plot.ly",
        "plotlyServerURL": "https://plot.ly",
        "showLink": false
       },
       "data": [
        {
         "mode": "lines",
         "name": "Bitcoin Price (Open)",
         "type": "scatter",
         "x": [
          "2013-06-30T00:00:00",
          "2013-07-31T00:00:00",
          "2013-08-31T00:00:00",
          "2013-09-30T00:00:00",
          "2013-10-31T00:00:00",
          "2013-11-30T00:00:00",
          "2013-12-31T00:00:00",
          "2014-01-31T00:00:00",
          "2014-02-28T00:00:00",
          "2014-03-31T00:00:00",
          "2014-04-30T00:00:00",
          "2014-05-31T00:00:00",
          "2014-06-30T00:00:00",
          "2014-07-31T00:00:00",
          "2014-08-31T00:00:00",
          "2014-09-30T00:00:00",
          "2014-10-31T00:00:00",
          "2014-11-30T00:00:00",
          "2014-12-31T00:00:00",
          "2015-01-31T00:00:00",
          "2015-02-28T00:00:00",
          "2015-03-31T00:00:00",
          "2015-04-30T00:00:00",
          "2015-05-31T00:00:00",
          "2015-06-30T00:00:00",
          "2015-07-31T00:00:00",
          "2015-08-31T00:00:00",
          "2015-09-30T00:00:00",
          "2015-10-31T00:00:00",
          "2015-11-30T00:00:00",
          "2015-12-31T00:00:00",
          "2016-01-31T00:00:00",
          "2016-02-29T00:00:00",
          "2016-03-31T00:00:00",
          "2016-04-30T00:00:00",
          "2016-05-31T00:00:00",
          "2016-06-30T00:00:00",
          "2016-07-31T00:00:00",
          "2016-08-31T00:00:00",
          "2016-09-30T00:00:00",
          "2016-10-31T00:00:00",
          "2016-11-30T00:00:00",
          "2016-12-31T00:00:00",
          "2017-01-31T00:00:00",
          "2017-02-28T00:00:00",
          "2017-03-31T00:00:00",
          "2017-04-30T00:00:00",
          "2017-05-31T00:00:00",
          "2017-06-30T00:00:00",
          "2017-07-31T00:00:00",
          "2017-08-31T00:00:00",
          "2017-09-30T00:00:00",
          "2017-10-31T00:00:00",
          "2017-11-30T00:00:00",
          "2017-12-31T00:00:00",
          "2018-01-31T00:00:00",
          "2018-02-28T00:00:00",
          "2018-03-31T00:00:00",
          "2018-04-30T00:00:00",
          "2018-05-31T00:00:00",
          "2018-06-30T00:00:00",
          "2018-07-31T00:00:00",
          "2018-08-31T00:00:00",
          "2018-09-30T00:00:00",
          "2018-10-31T00:00:00",
          "2018-11-30T00:00:00",
          "2018-12-31T00:00:00",
          "2019-01-31T00:00:00",
          "2019-02-28T00:00:00",
          "2019-03-31T00:00:00",
          "2019-04-30T00:00:00",
          "2019-05-31T00:00:00",
          "2019-06-30T00:00:00",
          "2019-07-31T00:00:00",
          "2019-08-31T00:00:00",
          "2019-09-30T00:00:00",
          "2019-10-31T00:00:00",
          "2019-11-30T00:00:00",
          "2019-12-31T00:00:00",
          "2020-01-31T00:00:00",
          "2020-02-29T00:00:00",
          "2020-03-31T00:00:00",
          "2020-04-30T00:00:00",
          "2020-05-31T00:00:00",
          "2020-06-30T00:00:00",
          "2020-07-31T00:00:00",
          "2020-08-31T00:00:00",
          "2020-09-30T00:00:00",
          "2020-10-31T00:00:00",
          "2020-11-30T00:00:00",
          "2020-12-31T00:00:00",
          "2021-01-31T00:00:00",
          "2021-02-28T00:00:00",
          "2021-03-31T00:00:00",
          "2021-04-30T00:00:00",
          "2021-05-31T00:00:00",
          "2021-06-30T00:00:00",
          "2021-07-31T00:00:00",
          "2021-08-31T00:00:00",
          "2021-09-30T00:00:00",
          "2021-10-31T00:00:00",
          "2021-11-30T00:00:00",
          "2021-12-31T00:00:00",
          "2022-01-31T00:00:00",
          "2022-02-28T00:00:00",
          "2022-03-31T00:00:00",
          "2022-04-30T00:00:00",
          "2022-05-31T00:00:00",
          "2022-06-30T00:00:00",
          "2022-07-31T00:00:00",
          "2022-08-31T00:00:00",
          "2022-09-30T00:00:00",
          "2022-10-31T00:00:00",
          "2022-11-30T00:00:00",
          "2022-12-31T00:00:00",
          "2023-01-31T00:00:00",
          "2023-02-28T00:00:00",
          "2023-03-31T00:00:00",
          "2023-04-30T00:00:00",
          "2023-05-31T00:00:00"
         ],
         "y": [
          0,
          0,
          0,
          0,
          0,
          0,
          4515638.70967742,
          37206015.741935484,
          45345939.28571428,
          24644494.387096774,
          26310141,
          16235454.838709677,
          24062438.333333332,
          14539540.322580645,
          22404015.80645161,
          23219071.666666668,
          29128853.225806452,
          21991112,
          17842010,
          35445545.548387095,
          25411382.14285714,
          30938654.83870968,
          22411290,
          18326535.48387097,
          20992673.333333332,
          32254587.096774194,
          29199751.612903226,
          20120796.666666668,
          30750951.612903226,
          72587446.53333333,
          67620967.74193548,
          64221945.29032258,
          64697885.93103448,
          75253315.35483871,
          60382506.8,
          72078477.29032259,
          158323424.66666666,
          111425361.41935484,
          86652263.87096775,
          66813380,
          68240122.4516129,
          87859103.06666666,
          114734316.12903225,
          165934570.70967743,
          152955757.14285713,
          350724385.8064516,
          325248270.4,
          1105221189.1612904,
          1482604697.6,
          1052256677.1612903,
          2049936020.6451614,
          1856698301.8666666,
          1871269611.3548386,
          4691167010.133333,
          13236661132.387096,
          13427350263.741936,
          8204206445.714286,
          6250055134.967742,
          6551667020.8,
          6374571280.5161295,
          4340472652.8,
          4562643219.096774,
          4267508709.677419,
          4324845666.666667,
          3820544516.129032,
          5278650816.134667,
          5446026099.106451,
          5397926027.773549,
          7110738414.136429,
          9611380330.930323,
          14845485223.989332,
          23359931318.14387,
          22528512835.82833,
          21819881506.586452,
          17225321668.81742,
          16018165441.021334,
          19200165637.032906,
          22563984121.732998,
          20444850755.44968,
          27512005628.850643,
          40116430785.13345,
          41627163214.35033,
          38537572160.98033,
          41495746500.26162,
          21697110622.69033,
          17606881906.702583,
          22850873939.710323,
          35864981280.93433,
          33899178905.94613,
          36438163774.244,
          39105151869.19903,
          69466884953.9784,
          80969747738.35356,
          54231750473.730316,
          61482725747.179665,
          63761078663.61097,
          39654915056.892334,
          26422689716.225163,
          32731425304.104515,
          36737989294.156,
          37196061404.242905,
          35109009046.138664,
          30872489829.715805,
          29805775408.956776,
          23976285475.789284,
          26804639949.50581,
          27670529621.70067,
          35142647066.6271,
          30797973722.608665,
          29922011722.248066,
          28844924340.045807,
          37442408346.123665,
          30900110481.48,
          40817718304.22233,
          17463119872.02968,
          22288029702.818066,
          25856020532.00036,
          28493538826.054195,
          17102823531.05,
          14305581144.600967
         ]
        }
       ],
       "layout": {
        "template": {
         "data": {
          "bar": [
           {
            "error_x": {
             "color": "#2a3f5f"
            },
            "error_y": {
             "color": "#2a3f5f"
            },
            "marker": {
             "line": {
              "color": "#E5ECF6",
              "width": 0.5
             },
             "pattern": {
              "fillmode": "overlay",
              "size": 10,
              "solidity": 0.2
             }
            },
            "type": "bar"
           }
          ],
          "barpolar": [
           {
            "marker": {
             "line": {
              "color": "#E5ECF6",
              "width": 0.5
             },
             "pattern": {
              "fillmode": "overlay",
              "size": 10,
              "solidity": 0.2
             }
            },
            "type": "barpolar"
           }
          ],
          "carpet": [
           {
            "aaxis": {
             "endlinecolor": "#2a3f5f",
             "gridcolor": "white",
             "linecolor": "white",
             "minorgridcolor": "white",
             "startlinecolor": "#2a3f5f"
            },
            "baxis": {
             "endlinecolor": "#2a3f5f",
             "gridcolor": "white",
             "linecolor": "white",
             "minorgridcolor": "white",
             "startlinecolor": "#2a3f5f"
            },
            "type": "carpet"
           }
          ],
          "choropleth": [
           {
            "colorbar": {
             "outlinewidth": 0,
             "ticks": ""
            },
            "type": "choropleth"
           }
          ],
          "contour": [
           {
            "colorbar": {
             "outlinewidth": 0,
             "ticks": ""
            },
            "colorscale": [
             [
              0,
              "#0d0887"
             ],
             [
              0.1111111111111111,
              "#46039f"
             ],
             [
              0.2222222222222222,
              "#7201a8"
             ],
             [
              0.3333333333333333,
              "#9c179e"
             ],
             [
              0.4444444444444444,
              "#bd3786"
             ],
             [
              0.5555555555555556,
              "#d8576b"
             ],
             [
              0.6666666666666666,
              "#ed7953"
             ],
             [
              0.7777777777777778,
              "#fb9f3a"
             ],
             [
              0.8888888888888888,
              "#fdca26"
             ],
             [
              1,
              "#f0f921"
             ]
            ],
            "type": "contour"
           }
          ],
          "contourcarpet": [
           {
            "colorbar": {
             "outlinewidth": 0,
             "ticks": ""
            },
            "type": "contourcarpet"
           }
          ],
          "heatmap": [
           {
            "colorbar": {
             "outlinewidth": 0,
             "ticks": ""
            },
            "colorscale": [
             [
              0,
              "#0d0887"
             ],
             [
              0.1111111111111111,
              "#46039f"
             ],
             [
              0.2222222222222222,
              "#7201a8"
             ],
             [
              0.3333333333333333,
              "#9c179e"
             ],
             [
              0.4444444444444444,
              "#bd3786"
             ],
             [
              0.5555555555555556,
              "#d8576b"
             ],
             [
              0.6666666666666666,
              "#ed7953"
             ],
             [
              0.7777777777777778,
              "#fb9f3a"
             ],
             [
              0.8888888888888888,
              "#fdca26"
             ],
             [
              1,
              "#f0f921"
             ]
            ],
            "type": "heatmap"
           }
          ],
          "heatmapgl": [
           {
            "colorbar": {
             "outlinewidth": 0,
             "ticks": ""
            },
            "colorscale": [
             [
              0,
              "#0d0887"
             ],
             [
              0.1111111111111111,
              "#46039f"
             ],
             [
              0.2222222222222222,
              "#7201a8"
             ],
             [
              0.3333333333333333,
              "#9c179e"
             ],
             [
              0.4444444444444444,
              "#bd3786"
             ],
             [
              0.5555555555555556,
              "#d8576b"
             ],
             [
              0.6666666666666666,
              "#ed7953"
             ],
             [
              0.7777777777777778,
              "#fb9f3a"
             ],
             [
              0.8888888888888888,
              "#fdca26"
             ],
             [
              1,
              "#f0f921"
             ]
            ],
            "type": "heatmapgl"
           }
          ],
          "histogram": [
           {
            "marker": {
             "pattern": {
              "fillmode": "overlay",
              "size": 10,
              "solidity": 0.2
             }
            },
            "type": "histogram"
           }
          ],
          "histogram2d": [
           {
            "colorbar": {
             "outlinewidth": 0,
             "ticks": ""
            },
            "colorscale": [
             [
              0,
              "#0d0887"
             ],
             [
              0.1111111111111111,
              "#46039f"
             ],
             [
              0.2222222222222222,
              "#7201a8"
             ],
             [
              0.3333333333333333,
              "#9c179e"
             ],
             [
              0.4444444444444444,
              "#bd3786"
             ],
             [
              0.5555555555555556,
              "#d8576b"
             ],
             [
              0.6666666666666666,
              "#ed7953"
             ],
             [
              0.7777777777777778,
              "#fb9f3a"
             ],
             [
              0.8888888888888888,
              "#fdca26"
             ],
             [
              1,
              "#f0f921"
             ]
            ],
            "type": "histogram2d"
           }
          ],
          "histogram2dcontour": [
           {
            "colorbar": {
             "outlinewidth": 0,
             "ticks": ""
            },
            "colorscale": [
             [
              0,
              "#0d0887"
             ],
             [
              0.1111111111111111,
              "#46039f"
             ],
             [
              0.2222222222222222,
              "#7201a8"
             ],
             [
              0.3333333333333333,
              "#9c179e"
             ],
             [
              0.4444444444444444,
              "#bd3786"
             ],
             [
              0.5555555555555556,
              "#d8576b"
             ],
             [
              0.6666666666666666,
              "#ed7953"
             ],
             [
              0.7777777777777778,
              "#fb9f3a"
             ],
             [
              0.8888888888888888,
              "#fdca26"
             ],
             [
              1,
              "#f0f921"
             ]
            ],
            "type": "histogram2dcontour"
           }
          ],
          "mesh3d": [
           {
            "colorbar": {
             "outlinewidth": 0,
             "ticks": ""
            },
            "type": "mesh3d"
           }
          ],
          "parcoords": [
           {
            "line": {
             "colorbar": {
              "outlinewidth": 0,
              "ticks": ""
             }
            },
            "type": "parcoords"
           }
          ],
          "pie": [
           {
            "automargin": true,
            "type": "pie"
           }
          ],
          "scatter": [
           {
            "fillpattern": {
             "fillmode": "overlay",
             "size": 10,
             "solidity": 0.2
            },
            "type": "scatter"
           }
          ],
          "scatter3d": [
           {
            "line": {
             "colorbar": {
              "outlinewidth": 0,
              "ticks": ""
             }
            },
            "marker": {
             "colorbar": {
              "outlinewidth": 0,
              "ticks": ""
             }
            },
            "type": "scatter3d"
           }
          ],
          "scattercarpet": [
           {
            "marker": {
             "colorbar": {
              "outlinewidth": 0,
              "ticks": ""
             }
            },
            "type": "scattercarpet"
           }
          ],
          "scattergeo": [
           {
            "marker": {
             "colorbar": {
              "outlinewidth": 0,
              "ticks": ""
             }
            },
            "type": "scattergeo"
           }
          ],
          "scattergl": [
           {
            "marker": {
             "colorbar": {
              "outlinewidth": 0,
              "ticks": ""
             }
            },
            "type": "scattergl"
           }
          ],
          "scattermapbox": [
           {
            "marker": {
             "colorbar": {
              "outlinewidth": 0,
              "ticks": ""
             }
            },
            "type": "scattermapbox"
           }
          ],
          "scatterpolar": [
           {
            "marker": {
             "colorbar": {
              "outlinewidth": 0,
              "ticks": ""
             }
            },
            "type": "scatterpolar"
           }
          ],
          "scatterpolargl": [
           {
            "marker": {
             "colorbar": {
              "outlinewidth": 0,
              "ticks": ""
             }
            },
            "type": "scatterpolargl"
           }
          ],
          "scatterternary": [
           {
            "marker": {
             "colorbar": {
              "outlinewidth": 0,
              "ticks": ""
             }
            },
            "type": "scatterternary"
           }
          ],
          "surface": [
           {
            "colorbar": {
             "outlinewidth": 0,
             "ticks": ""
            },
            "colorscale": [
             [
              0,
              "#0d0887"
             ],
             [
              0.1111111111111111,
              "#46039f"
             ],
             [
              0.2222222222222222,
              "#7201a8"
             ],
             [
              0.3333333333333333,
              "#9c179e"
             ],
             [
              0.4444444444444444,
              "#bd3786"
             ],
             [
              0.5555555555555556,
              "#d8576b"
             ],
             [
              0.6666666666666666,
              "#ed7953"
             ],
             [
              0.7777777777777778,
              "#fb9f3a"
             ],
             [
              0.8888888888888888,
              "#fdca26"
             ],
             [
              1,
              "#f0f921"
             ]
            ],
            "type": "surface"
           }
          ],
          "table": [
           {
            "cells": {
             "fill": {
              "color": "#EBF0F8"
             },
             "line": {
              "color": "white"
             }
            },
            "header": {
             "fill": {
              "color": "#C8D4E3"
             },
             "line": {
              "color": "white"
             }
            },
            "type": "table"
           }
          ]
         },
         "layout": {
          "annotationdefaults": {
           "arrowcolor": "#2a3f5f",
           "arrowhead": 0,
           "arrowwidth": 1
          },
          "autotypenumbers": "strict",
          "coloraxis": {
           "colorbar": {
            "outlinewidth": 0,
            "ticks": ""
           }
          },
          "colorscale": {
           "diverging": [
            [
             0,
             "#8e0152"
            ],
            [
             0.1,
             "#c51b7d"
            ],
            [
             0.2,
             "#de77ae"
            ],
            [
             0.3,
             "#f1b6da"
            ],
            [
             0.4,
             "#fde0ef"
            ],
            [
             0.5,
             "#f7f7f7"
            ],
            [
             0.6,
             "#e6f5d0"
            ],
            [
             0.7,
             "#b8e186"
            ],
            [
             0.8,
             "#7fbc41"
            ],
            [
             0.9,
             "#4d9221"
            ],
            [
             1,
             "#276419"
            ]
           ],
           "sequential": [
            [
             0,
             "#0d0887"
            ],
            [
             0.1111111111111111,
             "#46039f"
            ],
            [
             0.2222222222222222,
             "#7201a8"
            ],
            [
             0.3333333333333333,
             "#9c179e"
            ],
            [
             0.4444444444444444,
             "#bd3786"
            ],
            [
             0.5555555555555556,
             "#d8576b"
            ],
            [
             0.6666666666666666,
             "#ed7953"
            ],
            [
             0.7777777777777778,
             "#fb9f3a"
            ],
            [
             0.8888888888888888,
             "#fdca26"
            ],
            [
             1,
             "#f0f921"
            ]
           ],
           "sequentialminus": [
            [
             0,
             "#0d0887"
            ],
            [
             0.1111111111111111,
             "#46039f"
            ],
            [
             0.2222222222222222,
             "#7201a8"
            ],
            [
             0.3333333333333333,
             "#9c179e"
            ],
            [
             0.4444444444444444,
             "#bd3786"
            ],
            [
             0.5555555555555556,
             "#d8576b"
            ],
            [
             0.6666666666666666,
             "#ed7953"
            ],
            [
             0.7777777777777778,
             "#fb9f3a"
            ],
            [
             0.8888888888888888,
             "#fdca26"
            ],
            [
             1,
             "#f0f921"
            ]
           ]
          },
          "colorway": [
           "#636efa",
           "#EF553B",
           "#00cc96",
           "#ab63fa",
           "#FFA15A",
           "#19d3f3",
           "#FF6692",
           "#B6E880",
           "#FF97FF",
           "#FECB52"
          ],
          "font": {
           "color": "#2a3f5f"
          },
          "geo": {
           "bgcolor": "white",
           "lakecolor": "white",
           "landcolor": "#E5ECF6",
           "showlakes": true,
           "showland": true,
           "subunitcolor": "white"
          },
          "hoverlabel": {
           "align": "left"
          },
          "hovermode": "closest",
          "mapbox": {
           "style": "light"
          },
          "paper_bgcolor": "white",
          "plot_bgcolor": "#E5ECF6",
          "polar": {
           "angularaxis": {
            "gridcolor": "white",
            "linecolor": "white",
            "ticks": ""
           },
           "bgcolor": "#E5ECF6",
           "radialaxis": {
            "gridcolor": "white",
            "linecolor": "white",
            "ticks": ""
           }
          },
          "scene": {
           "xaxis": {
            "backgroundcolor": "#E5ECF6",
            "gridcolor": "white",
            "gridwidth": 2,
            "linecolor": "white",
            "showbackground": true,
            "ticks": "",
            "zerolinecolor": "white"
           },
           "yaxis": {
            "backgroundcolor": "#E5ECF6",
            "gridcolor": "white",
            "gridwidth": 2,
            "linecolor": "white",
            "showbackground": true,
            "ticks": "",
            "zerolinecolor": "white"
           },
           "zaxis": {
            "backgroundcolor": "#E5ECF6",
            "gridcolor": "white",
            "gridwidth": 2,
            "linecolor": "white",
            "showbackground": true,
            "ticks": "",
            "zerolinecolor": "white"
           }
          },
          "shapedefaults": {
           "line": {
            "color": "#2a3f5f"
           }
          },
          "ternary": {
           "aaxis": {
            "gridcolor": "white",
            "linecolor": "white",
            "ticks": ""
           },
           "baxis": {
            "gridcolor": "white",
            "linecolor": "white",
            "ticks": ""
           },
           "bgcolor": "#E5ECF6",
           "caxis": {
            "gridcolor": "white",
            "linecolor": "white",
            "ticks": ""
           }
          },
          "title": {
           "x": 0.05
          },
          "xaxis": {
           "automargin": true,
           "gridcolor": "white",
           "linecolor": "white",
           "ticks": "",
           "title": {
            "standoff": 15
           },
           "zerolinecolor": "white",
           "zerolinewidth": 2
          },
          "yaxis": {
           "automargin": true,
           "gridcolor": "white",
           "linecolor": "white",
           "ticks": "",
           "title": {
            "standoff": 15
           },
           "zerolinecolor": "white",
           "zerolinewidth": 2
          }
         }
        },
        "title": {
         "text": "Historical Bitcoin Volume (USD) (2012-2021) with the slider"
        },
        "xaxis": {
         "rangeselector": {
          "buttons": [
           {
            "count": 6,
            "label": "6m",
            "step": "month",
            "stepmode": "backward"
           },
           {
            "count": 12,
            "label": "1y",
            "step": "month",
            "stepmode": "backward"
           },
           {
            "count": 36,
            "label": "3y",
            "step": "month",
            "stepmode": "backward"
           },
           {
            "step": "all"
           }
          ]
         },
         "rangeslider": {
          "visible": true
         },
         "type": "date"
        }
       }
      },
      "text/html": [
       "<div>                            <div id=\"e7fe1817-1121-48c2-b586-2ec993508a87\" class=\"plotly-graph-div\" style=\"height:525px; width:100%;\"></div>            <script type=\"text/javascript\">                require([\"plotly\"], function(Plotly) {                    window.PLOTLYENV=window.PLOTLYENV || {};                                    if (document.getElementById(\"e7fe1817-1121-48c2-b586-2ec993508a87\")) {                    Plotly.newPlot(                        \"e7fe1817-1121-48c2-b586-2ec993508a87\",                        [{\"mode\":\"lines\",\"name\":\"Bitcoin Price (Open)\",\"x\":[\"2013-06-30T00:00:00\",\"2013-07-31T00:00:00\",\"2013-08-31T00:00:00\",\"2013-09-30T00:00:00\",\"2013-10-31T00:00:00\",\"2013-11-30T00:00:00\",\"2013-12-31T00:00:00\",\"2014-01-31T00:00:00\",\"2014-02-28T00:00:00\",\"2014-03-31T00:00:00\",\"2014-04-30T00:00:00\",\"2014-05-31T00:00:00\",\"2014-06-30T00:00:00\",\"2014-07-31T00:00:00\",\"2014-08-31T00:00:00\",\"2014-09-30T00:00:00\",\"2014-10-31T00:00:00\",\"2014-11-30T00:00:00\",\"2014-12-31T00:00:00\",\"2015-01-31T00:00:00\",\"2015-02-28T00:00:00\",\"2015-03-31T00:00:00\",\"2015-04-30T00:00:00\",\"2015-05-31T00:00:00\",\"2015-06-30T00:00:00\",\"2015-07-31T00:00:00\",\"2015-08-31T00:00:00\",\"2015-09-30T00:00:00\",\"2015-10-31T00:00:00\",\"2015-11-30T00:00:00\",\"2015-12-31T00:00:00\",\"2016-01-31T00:00:00\",\"2016-02-29T00:00:00\",\"2016-03-31T00:00:00\",\"2016-04-30T00:00:00\",\"2016-05-31T00:00:00\",\"2016-06-30T00:00:00\",\"2016-07-31T00:00:00\",\"2016-08-31T00:00:00\",\"2016-09-30T00:00:00\",\"2016-10-31T00:00:00\",\"2016-11-30T00:00:00\",\"2016-12-31T00:00:00\",\"2017-01-31T00:00:00\",\"2017-02-28T00:00:00\",\"2017-03-31T00:00:00\",\"2017-04-30T00:00:00\",\"2017-05-31T00:00:00\",\"2017-06-30T00:00:00\",\"2017-07-31T00:00:00\",\"2017-08-31T00:00:00\",\"2017-09-30T00:00:00\",\"2017-10-31T00:00:00\",\"2017-11-30T00:00:00\",\"2017-12-31T00:00:00\",\"2018-01-31T00:00:00\",\"2018-02-28T00:00:00\",\"2018-03-31T00:00:00\",\"2018-04-30T00:00:00\",\"2018-05-31T00:00:00\",\"2018-06-30T00:00:00\",\"2018-07-31T00:00:00\",\"2018-08-31T00:00:00\",\"2018-09-30T00:00:00\",\"2018-10-31T00:00:00\",\"2018-11-30T00:00:00\",\"2018-12-31T00:00:00\",\"2019-01-31T00:00:00\",\"2019-02-28T00:00:00\",\"2019-03-31T00:00:00\",\"2019-04-30T00:00:00\",\"2019-05-31T00:00:00\",\"2019-06-30T00:00:00\",\"2019-07-31T00:00:00\",\"2019-08-31T00:00:00\",\"2019-09-30T00:00:00\",\"2019-10-31T00:00:00\",\"2019-11-30T00:00:00\",\"2019-12-31T00:00:00\",\"2020-01-31T00:00:00\",\"2020-02-29T00:00:00\",\"2020-03-31T00:00:00\",\"2020-04-30T00:00:00\",\"2020-05-31T00:00:00\",\"2020-06-30T00:00:00\",\"2020-07-31T00:00:00\",\"2020-08-31T00:00:00\",\"2020-09-30T00:00:00\",\"2020-10-31T00:00:00\",\"2020-11-30T00:00:00\",\"2020-12-31T00:00:00\",\"2021-01-31T00:00:00\",\"2021-02-28T00:00:00\",\"2021-03-31T00:00:00\",\"2021-04-30T00:00:00\",\"2021-05-31T00:00:00\",\"2021-06-30T00:00:00\",\"2021-07-31T00:00:00\",\"2021-08-31T00:00:00\",\"2021-09-30T00:00:00\",\"2021-10-31T00:00:00\",\"2021-11-30T00:00:00\",\"2021-12-31T00:00:00\",\"2022-01-31T00:00:00\",\"2022-02-28T00:00:00\",\"2022-03-31T00:00:00\",\"2022-04-30T00:00:00\",\"2022-05-31T00:00:00\",\"2022-06-30T00:00:00\",\"2022-07-31T00:00:00\",\"2022-08-31T00:00:00\",\"2022-09-30T00:00:00\",\"2022-10-31T00:00:00\",\"2022-11-30T00:00:00\",\"2022-12-31T00:00:00\",\"2023-01-31T00:00:00\",\"2023-02-28T00:00:00\",\"2023-03-31T00:00:00\",\"2023-04-30T00:00:00\",\"2023-05-31T00:00:00\"],\"y\":[0.0,0.0,0.0,0.0,0.0,0.0,4515638.70967742,37206015.741935484,45345939.28571428,24644494.387096774,26310141.0,16235454.838709677,24062438.333333332,14539540.322580645,22404015.80645161,23219071.666666668,29128853.225806452,21991112.0,17842010.0,35445545.548387095,25411382.14285714,30938654.83870968,22411290.0,18326535.48387097,20992673.333333332,32254587.096774194,29199751.612903226,20120796.666666668,30750951.612903226,72587446.53333333,67620967.74193548,64221945.29032258,64697885.93103448,75253315.35483871,60382506.8,72078477.29032259,158323424.66666666,111425361.41935484,86652263.87096775,66813380.0,68240122.4516129,87859103.06666666,114734316.12903225,165934570.70967743,152955757.14285713,350724385.8064516,325248270.4,1105221189.1612904,1482604697.6,1052256677.1612903,2049936020.6451614,1856698301.8666666,1871269611.3548386,4691167010.133333,13236661132.387096,13427350263.741936,8204206445.714286,6250055134.967742,6551667020.8,6374571280.5161295,4340472652.8,4562643219.096774,4267508709.677419,4324845666.666667,3820544516.129032,5278650816.134667,5446026099.106451,5397926027.773549,7110738414.136429,9611380330.930323,14845485223.989332,23359931318.14387,22528512835.82833,21819881506.586452,17225321668.81742,16018165441.021334,19200165637.032906,22563984121.732998,20444850755.44968,27512005628.850643,40116430785.13345,41627163214.35033,38537572160.98033,41495746500.26162,21697110622.69033,17606881906.702583,22850873939.710323,35864981280.93433,33899178905.94613,36438163774.244,39105151869.19903,69466884953.9784,80969747738.35356,54231750473.730316,61482725747.179665,63761078663.61097,39654915056.892334,26422689716.225163,32731425304.104515,36737989294.156,37196061404.242905,35109009046.138664,30872489829.715805,29805775408.956776,23976285475.789284,26804639949.50581,27670529621.70067,35142647066.6271,30797973722.608665,29922011722.248066,28844924340.045807,37442408346.123665,30900110481.48,40817718304.22233,17463119872.02968,22288029702.818066,25856020532.00036,28493538826.054195,17102823531.05,14305581144.600967],\"type\":\"scatter\"}],                        {\"template\":{\"data\":{\"barpolar\":[{\"marker\":{\"line\":{\"color\":\"#E5ECF6\",\"width\":0.5},\"pattern\":{\"fillmode\":\"overlay\",\"size\":10,\"solidity\":0.2}},\"type\":\"barpolar\"}],\"bar\":[{\"error_x\":{\"color\":\"#2a3f5f\"},\"error_y\":{\"color\":\"#2a3f5f\"},\"marker\":{\"line\":{\"color\":\"#E5ECF6\",\"width\":0.5},\"pattern\":{\"fillmode\":\"overlay\",\"size\":10,\"solidity\":0.2}},\"type\":\"bar\"}],\"carpet\":[{\"aaxis\":{\"endlinecolor\":\"#2a3f5f\",\"gridcolor\":\"white\",\"linecolor\":\"white\",\"minorgridcolor\":\"white\",\"startlinecolor\":\"#2a3f5f\"},\"baxis\":{\"endlinecolor\":\"#2a3f5f\",\"gridcolor\":\"white\",\"linecolor\":\"white\",\"minorgridcolor\":\"white\",\"startlinecolor\":\"#2a3f5f\"},\"type\":\"carpet\"}],\"choropleth\":[{\"colorbar\":{\"outlinewidth\":0,\"ticks\":\"\"},\"type\":\"choropleth\"}],\"contourcarpet\":[{\"colorbar\":{\"outlinewidth\":0,\"ticks\":\"\"},\"type\":\"contourcarpet\"}],\"contour\":[{\"colorbar\":{\"outlinewidth\":0,\"ticks\":\"\"},\"colorscale\":[[0.0,\"#0d0887\"],[0.1111111111111111,\"#46039f\"],[0.2222222222222222,\"#7201a8\"],[0.3333333333333333,\"#9c179e\"],[0.4444444444444444,\"#bd3786\"],[0.5555555555555556,\"#d8576b\"],[0.6666666666666666,\"#ed7953\"],[0.7777777777777778,\"#fb9f3a\"],[0.8888888888888888,\"#fdca26\"],[1.0,\"#f0f921\"]],\"type\":\"contour\"}],\"heatmapgl\":[{\"colorbar\":{\"outlinewidth\":0,\"ticks\":\"\"},\"colorscale\":[[0.0,\"#0d0887\"],[0.1111111111111111,\"#46039f\"],[0.2222222222222222,\"#7201a8\"],[0.3333333333333333,\"#9c179e\"],[0.4444444444444444,\"#bd3786\"],[0.5555555555555556,\"#d8576b\"],[0.6666666666666666,\"#ed7953\"],[0.7777777777777778,\"#fb9f3a\"],[0.8888888888888888,\"#fdca26\"],[1.0,\"#f0f921\"]],\"type\":\"heatmapgl\"}],\"heatmap\":[{\"colorbar\":{\"outlinewidth\":0,\"ticks\":\"\"},\"colorscale\":[[0.0,\"#0d0887\"],[0.1111111111111111,\"#46039f\"],[0.2222222222222222,\"#7201a8\"],[0.3333333333333333,\"#9c179e\"],[0.4444444444444444,\"#bd3786\"],[0.5555555555555556,\"#d8576b\"],[0.6666666666666666,\"#ed7953\"],[0.7777777777777778,\"#fb9f3a\"],[0.8888888888888888,\"#fdca26\"],[1.0,\"#f0f921\"]],\"type\":\"heatmap\"}],\"histogram2dcontour\":[{\"colorbar\":{\"outlinewidth\":0,\"ticks\":\"\"},\"colorscale\":[[0.0,\"#0d0887\"],[0.1111111111111111,\"#46039f\"],[0.2222222222222222,\"#7201a8\"],[0.3333333333333333,\"#9c179e\"],[0.4444444444444444,\"#bd3786\"],[0.5555555555555556,\"#d8576b\"],[0.6666666666666666,\"#ed7953\"],[0.7777777777777778,\"#fb9f3a\"],[0.8888888888888888,\"#fdca26\"],[1.0,\"#f0f921\"]],\"type\":\"histogram2dcontour\"}],\"histogram2d\":[{\"colorbar\":{\"outlinewidth\":0,\"ticks\":\"\"},\"colorscale\":[[0.0,\"#0d0887\"],[0.1111111111111111,\"#46039f\"],[0.2222222222222222,\"#7201a8\"],[0.3333333333333333,\"#9c179e\"],[0.4444444444444444,\"#bd3786\"],[0.5555555555555556,\"#d8576b\"],[0.6666666666666666,\"#ed7953\"],[0.7777777777777778,\"#fb9f3a\"],[0.8888888888888888,\"#fdca26\"],[1.0,\"#f0f921\"]],\"type\":\"histogram2d\"}],\"histogram\":[{\"marker\":{\"pattern\":{\"fillmode\":\"overlay\",\"size\":10,\"solidity\":0.2}},\"type\":\"histogram\"}],\"mesh3d\":[{\"colorbar\":{\"outlinewidth\":0,\"ticks\":\"\"},\"type\":\"mesh3d\"}],\"parcoords\":[{\"line\":{\"colorbar\":{\"outlinewidth\":0,\"ticks\":\"\"}},\"type\":\"parcoords\"}],\"pie\":[{\"automargin\":true,\"type\":\"pie\"}],\"scatter3d\":[{\"line\":{\"colorbar\":{\"outlinewidth\":0,\"ticks\":\"\"}},\"marker\":{\"colorbar\":{\"outlinewidth\":0,\"ticks\":\"\"}},\"type\":\"scatter3d\"}],\"scattercarpet\":[{\"marker\":{\"colorbar\":{\"outlinewidth\":0,\"ticks\":\"\"}},\"type\":\"scattercarpet\"}],\"scattergeo\":[{\"marker\":{\"colorbar\":{\"outlinewidth\":0,\"ticks\":\"\"}},\"type\":\"scattergeo\"}],\"scattergl\":[{\"marker\":{\"colorbar\":{\"outlinewidth\":0,\"ticks\":\"\"}},\"type\":\"scattergl\"}],\"scattermapbox\":[{\"marker\":{\"colorbar\":{\"outlinewidth\":0,\"ticks\":\"\"}},\"type\":\"scattermapbox\"}],\"scatterpolargl\":[{\"marker\":{\"colorbar\":{\"outlinewidth\":0,\"ticks\":\"\"}},\"type\":\"scatterpolargl\"}],\"scatterpolar\":[{\"marker\":{\"colorbar\":{\"outlinewidth\":0,\"ticks\":\"\"}},\"type\":\"scatterpolar\"}],\"scatter\":[{\"fillpattern\":{\"fillmode\":\"overlay\",\"size\":10,\"solidity\":0.2},\"type\":\"scatter\"}],\"scatterternary\":[{\"marker\":{\"colorbar\":{\"outlinewidth\":0,\"ticks\":\"\"}},\"type\":\"scatterternary\"}],\"surface\":[{\"colorbar\":{\"outlinewidth\":0,\"ticks\":\"\"},\"colorscale\":[[0.0,\"#0d0887\"],[0.1111111111111111,\"#46039f\"],[0.2222222222222222,\"#7201a8\"],[0.3333333333333333,\"#9c179e\"],[0.4444444444444444,\"#bd3786\"],[0.5555555555555556,\"#d8576b\"],[0.6666666666666666,\"#ed7953\"],[0.7777777777777778,\"#fb9f3a\"],[0.8888888888888888,\"#fdca26\"],[1.0,\"#f0f921\"]],\"type\":\"surface\"}],\"table\":[{\"cells\":{\"fill\":{\"color\":\"#EBF0F8\"},\"line\":{\"color\":\"white\"}},\"header\":{\"fill\":{\"color\":\"#C8D4E3\"},\"line\":{\"color\":\"white\"}},\"type\":\"table\"}]},\"layout\":{\"annotationdefaults\":{\"arrowcolor\":\"#2a3f5f\",\"arrowhead\":0,\"arrowwidth\":1},\"autotypenumbers\":\"strict\",\"coloraxis\":{\"colorbar\":{\"outlinewidth\":0,\"ticks\":\"\"}},\"colorscale\":{\"diverging\":[[0,\"#8e0152\"],[0.1,\"#c51b7d\"],[0.2,\"#de77ae\"],[0.3,\"#f1b6da\"],[0.4,\"#fde0ef\"],[0.5,\"#f7f7f7\"],[0.6,\"#e6f5d0\"],[0.7,\"#b8e186\"],[0.8,\"#7fbc41\"],[0.9,\"#4d9221\"],[1,\"#276419\"]],\"sequential\":[[0.0,\"#0d0887\"],[0.1111111111111111,\"#46039f\"],[0.2222222222222222,\"#7201a8\"],[0.3333333333333333,\"#9c179e\"],[0.4444444444444444,\"#bd3786\"],[0.5555555555555556,\"#d8576b\"],[0.6666666666666666,\"#ed7953\"],[0.7777777777777778,\"#fb9f3a\"],[0.8888888888888888,\"#fdca26\"],[1.0,\"#f0f921\"]],\"sequentialminus\":[[0.0,\"#0d0887\"],[0.1111111111111111,\"#46039f\"],[0.2222222222222222,\"#7201a8\"],[0.3333333333333333,\"#9c179e\"],[0.4444444444444444,\"#bd3786\"],[0.5555555555555556,\"#d8576b\"],[0.6666666666666666,\"#ed7953\"],[0.7777777777777778,\"#fb9f3a\"],[0.8888888888888888,\"#fdca26\"],[1.0,\"#f0f921\"]]},\"colorway\":[\"#636efa\",\"#EF553B\",\"#00cc96\",\"#ab63fa\",\"#FFA15A\",\"#19d3f3\",\"#FF6692\",\"#B6E880\",\"#FF97FF\",\"#FECB52\"],\"font\":{\"color\":\"#2a3f5f\"},\"geo\":{\"bgcolor\":\"white\",\"lakecolor\":\"white\",\"landcolor\":\"#E5ECF6\",\"showlakes\":true,\"showland\":true,\"subunitcolor\":\"white\"},\"hoverlabel\":{\"align\":\"left\"},\"hovermode\":\"closest\",\"mapbox\":{\"style\":\"light\"},\"paper_bgcolor\":\"white\",\"plot_bgcolor\":\"#E5ECF6\",\"polar\":{\"angularaxis\":{\"gridcolor\":\"white\",\"linecolor\":\"white\",\"ticks\":\"\"},\"bgcolor\":\"#E5ECF6\",\"radialaxis\":{\"gridcolor\":\"white\",\"linecolor\":\"white\",\"ticks\":\"\"}},\"scene\":{\"xaxis\":{\"backgroundcolor\":\"#E5ECF6\",\"gridcolor\":\"white\",\"gridwidth\":2,\"linecolor\":\"white\",\"showbackground\":true,\"ticks\":\"\",\"zerolinecolor\":\"white\"},\"yaxis\":{\"backgroundcolor\":\"#E5ECF6\",\"gridcolor\":\"white\",\"gridwidth\":2,\"linecolor\":\"white\",\"showbackground\":true,\"ticks\":\"\",\"zerolinecolor\":\"white\"},\"zaxis\":{\"backgroundcolor\":\"#E5ECF6\",\"gridcolor\":\"white\",\"gridwidth\":2,\"linecolor\":\"white\",\"showbackground\":true,\"ticks\":\"\",\"zerolinecolor\":\"white\"}},\"shapedefaults\":{\"line\":{\"color\":\"#2a3f5f\"}},\"ternary\":{\"aaxis\":{\"gridcolor\":\"white\",\"linecolor\":\"white\",\"ticks\":\"\"},\"baxis\":{\"gridcolor\":\"white\",\"linecolor\":\"white\",\"ticks\":\"\"},\"bgcolor\":\"#E5ECF6\",\"caxis\":{\"gridcolor\":\"white\",\"linecolor\":\"white\",\"ticks\":\"\"}},\"title\":{\"x\":0.05},\"xaxis\":{\"automargin\":true,\"gridcolor\":\"white\",\"linecolor\":\"white\",\"ticks\":\"\",\"title\":{\"standoff\":15},\"zerolinecolor\":\"white\",\"zerolinewidth\":2},\"yaxis\":{\"automargin\":true,\"gridcolor\":\"white\",\"linecolor\":\"white\",\"ticks\":\"\",\"title\":{\"standoff\":15},\"zerolinecolor\":\"white\",\"zerolinewidth\":2}}},\"title\":{\"text\":\"Historical Bitcoin Volume (USD) (2012-2021) with the slider\"},\"xaxis\":{\"rangeselector\":{\"buttons\":[{\"count\":6,\"label\":\"6m\",\"step\":\"month\",\"stepmode\":\"backward\"},{\"count\":12,\"label\":\"1y\",\"step\":\"month\",\"stepmode\":\"backward\"},{\"count\":36,\"label\":\"3y\",\"step\":\"month\",\"stepmode\":\"backward\"},{\"step\":\"all\"}]},\"rangeslider\":{\"visible\":true},\"type\":\"date\"}},                        {\"responsive\": true}                    ).then(function(){\n",
       "                            \n",
       "var gd = document.getElementById('e7fe1817-1121-48c2-b586-2ec993508a87');\n",
       "var x = new MutationObserver(function (mutations, observer) {{\n",
       "        var display = window.getComputedStyle(gd).display;\n",
       "        if (!display || display === 'none') {{\n",
       "            console.log([gd, 'removed!']);\n",
       "            Plotly.purge(gd);\n",
       "            observer.disconnect();\n",
       "        }}\n",
       "}});\n",
       "\n",
       "// Listen for the removal of the full notebook cells\n",
       "var notebookContainer = gd.closest('#notebook-container');\n",
       "if (notebookContainer) {{\n",
       "    x.observe(notebookContainer, {childList: true});\n",
       "}}\n",
       "\n",
       "// Listen for the clearing of the current output cell\n",
       "var outputEl = gd.closest('.output');\n",
       "if (outputEl) {{\n",
       "    x.observe(outputEl, {childList: true});\n",
       "}}\n",
       "\n",
       "                        })                };                });            </script>        </div>"
      ]
     },
     "metadata": {},
     "output_type": "display_data"
    }
   ],
   "source": [
    "trace1 = go.Scatter(\n",
    "    x = data_monthly['Date'],\n",
    "    y = data_monthly['Volume'].astype(float),\n",
    "    mode = 'lines',\n",
    "    name = 'Bitcoin Price (Open)'\n",
    ")\n",
    "\n",
    "layout = dict(\n",
    "    title='Historical Bitcoin Volume (USD) (2012-2021) with the slider',\n",
    "    xaxis=dict(\n",
    "        rangeselector=dict(\n",
    "            buttons=list([\n",
    "                dict(count=6,\n",
    "                     label='6m',\n",
    "                     step='month',\n",
    "                     stepmode='backward'),\n",
    "                dict(count=12,\n",
    "                     label='1y',\n",
    "                     step='month',\n",
    "                     stepmode='backward'),\n",
    "                dict(count=36,\n",
    "                     label='3y',\n",
    "                     step='month',\n",
    "                     stepmode='backward'),\n",
    "                dict(step='all')\n",
    "            ])\n",
    "        ),\n",
    "        rangeslider=dict(\n",
    "            visible = True\n",
    "        ),\n",
    "        type='date'\n",
    "    )\n",
    ")\n",
    "\n",
    "_= [trace1]\n",
    "fig = dict(data=_, layout=layout)\n",
    "iplot(fig, filename = \"Time Series with Rangeslider\")"
   ]
  },
  {
   "cell_type": "markdown",
   "metadata": {},
   "source": [
    "# -------------------------------------------------------------------------------------"
   ]
  },
  {
   "cell_type": "markdown",
   "metadata": {},
   "source": [
    "#### Selecting the range for our analysis: 2012 -- 2021\n",
    "\n",
    "There are an incredible amount of challenges in correctly forecasting a time-series analysis for Crypto.\n",
    "Too many factors drive the price volatility (that historical data in unable to capture). Due to this we decided to range our dataset to exclude the year of 2021 forward, removing the steep upward trend in price"
   ]
  },
  {
   "cell_type": "code",
   "execution_count": 67,
   "metadata": {},
   "outputs": [],
   "source": [
    "# basically creating a range that includes all data\n",
    "start = '2013-06-01'\n",
    "end = '2023-06-01'\n",
    "\n",
    "# find rows between start and end time \n",
    "df_day = df_day[(df_day.index >= start) & (df_day.index <= end)]\n",
    "df_week = df_week[(df_week.index >= start) & (df_week.index <= end)]\n",
    "df_month = df_month[(df_month.index >= start) & (df_month.index <= end)]\n",
    "df_quarter = df_quarter[(df_quarter.index >= start) & (df_quarter.index <= end)]\n",
    "df_year = df_year[(df_year.index >= start) & (df_year.index <= end)]"
   ]
  },
  {
   "cell_type": "markdown",
   "metadata": {},
   "source": [
    "# -------------------------------------------------------------------------------------"
   ]
  },
  {
   "cell_type": "markdown",
   "metadata": {},
   "source": [
    "## <font color= blue >5. Checking stationary vs Non-stationary Data </font> <a class=\"anchor\" id=\"fifth-bullet\"></a>"
   ]
  },
  {
   "cell_type": "markdown",
   "metadata": {},
   "source": [
    "### ACF and PACF"
   ]
  },
  {
   "cell_type": "code",
   "execution_count": 68,
   "metadata": {},
   "outputs": [],
   "source": [
    "from statsmodels.graphics.tsaplots import plot_acf\n",
    "from statsmodels.graphics.tsaplots import plot_pacf\n",
    "from matplotlib import pyplot\n",
    "import matplotlib.pyplot as plt"
   ]
  },
  {
   "cell_type": "code",
   "execution_count": 69,
   "metadata": {
    "scrolled": true
   },
   "outputs": [
    {
     "data": {
      "text/plain": [
       "Text(0.5,1,'PACF for Weighted Price -- Daily')"
      ]
     },
     "execution_count": 69,
     "metadata": {},
     "output_type": "execute_result"
    },
    {
     "data": {
      "image/png": "[encoded data removed]",
      "text/plain": [
       "<Figure size 2000x600 with 2 Axes>"
      ]
     },
     "metadata": {},
     "output_type": "display_data"
    }
   ],
   "source": [
    "# For daily Frequency ACF and PACF\n",
    "\n",
    "fig, (ax1, ax2) = plt.subplots(1,2, figsize=(20,6))\n",
    "\n",
    "plot_acf(df_day.Close, lags=50, alpha=0.05, ax=ax1)\n",
    "plt.title(\"ACF for Weighted Price\", size=20)\n",
    "\n",
    "plot_pacf(df_day.Close, lags=50, alpha=0.05, method='ols', ax=ax2)\n",
    "plt.title(\"PACF for Weighted Price -- Daily\", size=20)"
   ]
  },
  {
   "cell_type": "markdown",
   "metadata": {},
   "source": [
    "Figure 1 - presents the time series, ACF and PACF plots for the usd prices of the Bitcoin. <br>\n",
    "\n",
    "### ACF and PACF\n",
    "\n",
    "Trough visual inspection Figure 1 it is clear that the data values do not have a constant mean and variances.We can observe decaying pattern in ACF plot and the highly significant first lag in PACF. <br>\n",
    "\n",
    "Autocorrelations are declining gradually as the number of lags such a property is common in nonstationary processes. <br> "
   ]
  },
  {
   "cell_type": "markdown",
   "metadata": {},
   "source": [
    "### ADF Augmented Dickey–Fuller test\n",
    "\n",
    "The formal statistical tool for checking stationarity of time series data is to go for Augumented Dickey Fuller (ADF) test.\n",
    "\n",
    "__H0: The time series is non-stationary.__<br>\n",
    "__HA: The time series is stationary.__\n",
    "\n",
    "If the p-value from the test is less than some significance level (e.g. α = .05), then we can reject the null hypothesis and conclude that the time series is stationary."
   ]
  },
  {
   "cell_type": "code",
   "execution_count": 70,
   "metadata": {
    "scrolled": true
   },
   "outputs": [],
   "source": [
    "## Augmented Dickey–Fuller test\n",
    "\n",
    "    # \"HO: Non-stationary\"\n",
    "    # \"H1: Stationary\"\n",
    "\n",
    "from pandas import read_csv\n",
    "from statsmodels.tsa.stattools import adfuller\n",
    "import statsmodels.api as sm\n",
    "series = df_day.Close\n",
    "X = series.values"
   ]
  },
  {
   "cell_type": "code",
   "execution_count": 71,
   "metadata": {},
   "outputs": [],
   "source": [
    "# Stability Test (Dickey-Fuller Test)\n",
    "def is_stationary(y):\n",
    "    p_value = sm.tsa.stattools.adfuller(y)[1]\n",
    "    if p_value < 0.05:\n",
    "        print(F\"Result: Stationary (H0: non-stationary, p-value: {round(p_value, 3)})\")\n",
    "    else:\n",
    "        print(F\"Result: Non-Stationary (H0: non-stationary, p-value: {round(p_value, 3)})\")"
   ]
  },
  {
   "cell_type": "code",
   "execution_count": 72,
   "metadata": {},
   "outputs": [
    {
     "name": "stdout",
     "output_type": "stream",
     "text": [
      "Result: Non-Stationary (H0: non-stationary, p-value: 0.489)\n"
     ]
    }
   ],
   "source": [
    "is_stationary(X)"
   ]
  },
  {
   "cell_type": "code",
   "execution_count": 73,
   "metadata": {},
   "outputs": [
    {
     "name": "stdout",
     "output_type": "stream",
     "text": [
      "ADF Statistic: -1.590135\n",
      "p-value: 0.488547\n",
      "Critical Values:\n",
      "\t1%: -3.432\n",
      "\t5%: -2.862\n",
      "\t10%: -2.567\n"
     ]
    }
   ],
   "source": [
    "result = adfuller(X)\n",
    "print('ADF Statistic: %f' % result[0])\n",
    "print('p-value: %f' % result[1])\n",
    "print('Critical Values:')\n",
    "for key, value in result[4].items():\n",
    "\tprint('\\t%s: %.3f' % (key, value))"
   ]
  },
  {
   "cell_type": "markdown",
   "metadata": {},
   "source": [
    "#### Time Series Components"
   ]
  },
  {
   "cell_type": "code",
   "execution_count": 74,
   "metadata": {},
   "outputs": [],
   "source": [
    "from statsmodels.tsa.seasonal import seasonal_decompose\n",
    "from statsmodels.tsa.stattools import kpss\n",
    "from statsmodels.tsa.stattools import adfuller"
   ]
  },
  {
   "cell_type": "code",
   "execution_count": 75,
   "metadata": {
    "scrolled": false
   },
   "outputs": [
    {
     "data": {
      "image/png": "[encoded data removed]",
      "text/plain": [
       "<Figure size 1500x1200 with 4 Axes>"
      ]
     },
     "metadata": {},
     "output_type": "display_data"
    }
   ],
   "source": [
    "decomposition = sm.tsa.seasonal_decompose(df_month.Close)\n",
    "\n",
    "trend = decomposition.trend\n",
    "seasonal = decomposition.seasonal\n",
    "residual = decomposition.resid\n",
    "\n",
    "fig = plt.figure(figsize=(15,12))\n",
    "\n",
    "plt.subplot(411)\n",
    "plt.plot(df_month.Close, label='Original')\n",
    "plt.legend(loc='best')\n",
    "plt.subplot(412)\n",
    "plt.plot(trend, label='Trend')\n",
    "plt.legend(loc='best')\n",
    "plt.subplot(413)\n",
    "plt.plot(seasonal,label='Seasonality')\n",
    "plt.legend(loc='best')\n",
    "plt.subplot(414)\n",
    "plt.plot(residual, label='Residuals')\n",
    "plt.legend(loc='best')\n",
    "\n",
    "fig.suptitle('Decomposition of Prices Data')\n",
    "plt.show()"
   ]
  },
  {
   "cell_type": "markdown",
   "metadata": {},
   "source": [
    "Post time series decomposition we don't observe any seasonality. Also, there is no constant mean, variance and covariance, hence the series is Non Stationary. "
   ]
  },
  {
   "cell_type": "markdown",
   "metadata": {},
   "source": [
    "# -------------------------------------------------------------------------------------"
   ]
  },
  {
   "cell_type": "markdown",
   "metadata": {},
   "source": [
    "## <font color= blue >6. Normalizing Time Series Data </font> <a class=\"anchor\" id=\"fifth-bullet\"></a>"
   ]
  },
  {
   "cell_type": "code",
   "execution_count": 125,
   "metadata": {},
   "outputs": [
    {
     "data": {
      "text/html": [
       "<div>\n",
       "<style scoped>\n",
       "    .dataframe tbody tr th:only-of-type {\n",
       "        vertical-align: middle;\n",
       "    }\n",
       "\n",
       "    .dataframe tbody tr th {\n",
       "        vertical-align: top;\n",
       "    }\n",
       "\n",
       "    .dataframe thead th {\n",
       "        text-align: right;\n",
       "    }\n",
       "</style>\n",
       "<table border=\"1\" class=\"dataframe\">\n",
       "  <thead>\n",
       "    <tr style=\"text-align: right;\">\n",
       "      <th></th>\n",
       "      <th>Open</th>\n",
       "      <th>High</th>\n",
       "      <th>Low</th>\n",
       "      <th>Volume</th>\n",
       "      <th>Market Cap</th>\n",
       "      <th>Close</th>\n",
       "    </tr>\n",
       "    <tr>\n",
       "      <th>Date</th>\n",
       "      <th></th>\n",
       "      <th></th>\n",
       "      <th></th>\n",
       "      <th></th>\n",
       "      <th></th>\n",
       "      <th></th>\n",
       "    </tr>\n",
       "  </thead>\n",
       "  <tbody>\n",
       "    <tr>\n",
       "      <th>2013-06-01</th>\n",
       "      <td>128.82</td>\n",
       "      <td>129.78</td>\n",
       "      <td>127.20</td>\n",
       "      <td>0.000000e+00</td>\n",
       "      <td>1.451916e+09</td>\n",
       "      <td>129.30</td>\n",
       "    </tr>\n",
       "    <tr>\n",
       "      <th>2013-06-02</th>\n",
       "      <td>129.30</td>\n",
       "      <td>129.40</td>\n",
       "      <td>115.05</td>\n",
       "      <td>0.000000e+00</td>\n",
       "      <td>1.373837e+09</td>\n",
       "      <td>122.29</td>\n",
       "    </tr>\n",
       "    <tr>\n",
       "      <th>2013-06-03</th>\n",
       "      <td>122.50</td>\n",
       "      <td>122.50</td>\n",
       "      <td>116.00</td>\n",
       "      <td>0.000000e+00</td>\n",
       "      <td>1.373708e+09</td>\n",
       "      <td>122.22</td>\n",
       "    </tr>\n",
       "    <tr>\n",
       "      <th>2013-06-04</th>\n",
       "      <td>120.74</td>\n",
       "      <td>123.84</td>\n",
       "      <td>119.10</td>\n",
       "      <td>0.000000e+00</td>\n",
       "      <td>1.365338e+09</td>\n",
       "      <td>121.42</td>\n",
       "    </tr>\n",
       "    <tr>\n",
       "      <th>2013-06-05</th>\n",
       "      <td>121.40</td>\n",
       "      <td>123.47</td>\n",
       "      <td>119.90</td>\n",
       "      <td>0.000000e+00</td>\n",
       "      <td>1.368486e+09</td>\n",
       "      <td>121.65</td>\n",
       "    </tr>\n",
       "    <tr>\n",
       "      <th>...</th>\n",
       "      <td>...</td>\n",
       "      <td>...</td>\n",
       "      <td>...</td>\n",
       "      <td>...</td>\n",
       "      <td>...</td>\n",
       "      <td>...</td>\n",
       "    </tr>\n",
       "    <tr>\n",
       "      <th>2023-05-28</th>\n",
       "      <td>26871.16</td>\n",
       "      <td>28193.45</td>\n",
       "      <td>26802.75</td>\n",
       "      <td>1.454523e+10</td>\n",
       "      <td>5.444836e+11</td>\n",
       "      <td>28085.65</td>\n",
       "    </tr>\n",
       "    <tr>\n",
       "      <th>2023-05-29</th>\n",
       "      <td>28075.59</td>\n",
       "      <td>28432.04</td>\n",
       "      <td>27563.88</td>\n",
       "      <td>1.518131e+10</td>\n",
       "      <td>5.379249e+11</td>\n",
       "      <td>27745.88</td>\n",
       "    </tr>\n",
       "    <tr>\n",
       "      <th>2023-05-30</th>\n",
       "      <td>27745.12</td>\n",
       "      <td>28044.76</td>\n",
       "      <td>27588.50</td>\n",
       "      <td>1.325108e+10</td>\n",
       "      <td>5.371065e+11</td>\n",
       "      <td>27702.35</td>\n",
       "    </tr>\n",
       "    <tr>\n",
       "      <th>2023-05-31</th>\n",
       "      <td>27700.53</td>\n",
       "      <td>27831.68</td>\n",
       "      <td>26866.45</td>\n",
       "      <td>1.565637e+10</td>\n",
       "      <td>5.277732e+11</td>\n",
       "      <td>27219.66</td>\n",
       "    </tr>\n",
       "    <tr>\n",
       "      <th>2023-06-01</th>\n",
       "      <td>27218.41</td>\n",
       "      <td>27346.11</td>\n",
       "      <td>26671.72</td>\n",
       "      <td>1.467897e+10</td>\n",
       "      <td>5.200450e+11</td>\n",
       "      <td>26819.97</td>\n",
       "    </tr>\n",
       "  </tbody>\n",
       "</table>\n",
       "<p>3653 rows × 6 columns</p>\n",
       "</div>"
      ],
      "text/plain": [
       "                Open      High       Low        Volume    Market Cap     Close\n",
       "Date                                                                          \n",
       "2013-06-01    128.82    129.78    127.20  0.000000e+00  1.451916e+09    129.30\n",
       "2013-06-02    129.30    129.40    115.05  0.000000e+00  1.373837e+09    122.29\n",
       "2013-06-03    122.50    122.50    116.00  0.000000e+00  1.373708e+09    122.22\n",
       "2013-06-04    120.74    123.84    119.10  0.000000e+00  1.365338e+09    121.42\n",
       "2013-06-05    121.40    123.47    119.90  0.000000e+00  1.368486e+09    121.65\n",
       "...              ...       ...       ...           ...           ...       ...\n",
       "2023-05-28  26871.16  28193.45  26802.75  1.454523e+10  5.444836e+11  28085.65\n",
       "2023-05-29  28075.59  28432.04  27563.88  1.518131e+10  5.379249e+11  27745.88\n",
       "2023-05-30  27745.12  28044.76  27588.50  1.325108e+10  5.371065e+11  27702.35\n",
       "2023-05-31  27700.53  27831.68  26866.45  1.565637e+10  5.277732e+11  27219.66\n",
       "2023-06-01  27218.41  27346.11  26671.72  1.467897e+10  5.200450e+11  26819.97\n",
       "\n",
       "[3653 rows x 6 columns]"
      ]
     },
     "execution_count": 125,
     "metadata": {},
     "output_type": "execute_result"
    }
   ],
   "source": [
    "df_day = df_day[[col for col in df_day.columns if col != 'Close'] + ['Close']]\n",
    "df_day"
   ]
  },
  {
   "cell_type": "code",
   "execution_count": 126,
   "metadata": {},
   "outputs": [
    {
     "data": {
      "text/html": [
       "<div>\n",
       "<style scoped>\n",
       "    .dataframe tbody tr th:only-of-type {\n",
       "        vertical-align: middle;\n",
       "    }\n",
       "\n",
       "    .dataframe tbody tr th {\n",
       "        vertical-align: top;\n",
       "    }\n",
       "\n",
       "    .dataframe thead th {\n",
       "        text-align: right;\n",
       "    }\n",
       "</style>\n",
       "<table border=\"1\" class=\"dataframe\">\n",
       "  <thead>\n",
       "    <tr style=\"text-align: right;\">\n",
       "      <th></th>\n",
       "      <th>Open</th>\n",
       "      <th>High</th>\n",
       "      <th>Low</th>\n",
       "      <th>Volume</th>\n",
       "      <th>Market Cap</th>\n",
       "      <th>Close</th>\n",
       "    </tr>\n",
       "    <tr>\n",
       "      <th>Date</th>\n",
       "      <th></th>\n",
       "      <th></th>\n",
       "      <th></th>\n",
       "      <th></th>\n",
       "      <th></th>\n",
       "      <th></th>\n",
       "    </tr>\n",
       "  </thead>\n",
       "  <tbody>\n",
       "    <tr>\n",
       "      <th>2013-06-01</th>\n",
       "      <td>-0.746490</td>\n",
       "      <td>-0.746289</td>\n",
       "      <td>-0.747591</td>\n",
       "      <td>-0.754760</td>\n",
       "      <td>-0.734859</td>\n",
       "      <td>-0.746959</td>\n",
       "    </tr>\n",
       "    <tr>\n",
       "      <th>2013-06-02</th>\n",
       "      <td>-0.746459</td>\n",
       "      <td>-0.746313</td>\n",
       "      <td>-0.748394</td>\n",
       "      <td>-0.754760</td>\n",
       "      <td>-0.735124</td>\n",
       "      <td>-0.747409</td>\n",
       "    </tr>\n",
       "    <tr>\n",
       "      <th>2013-06-03</th>\n",
       "      <td>-0.746896</td>\n",
       "      <td>-0.746745</td>\n",
       "      <td>-0.748331</td>\n",
       "      <td>-0.754760</td>\n",
       "      <td>-0.735124</td>\n",
       "      <td>-0.747414</td>\n",
       "    </tr>\n",
       "    <tr>\n",
       "      <th>2013-06-04</th>\n",
       "      <td>-0.747009</td>\n",
       "      <td>-0.746661</td>\n",
       "      <td>-0.748126</td>\n",
       "      <td>-0.754760</td>\n",
       "      <td>-0.735153</td>\n",
       "      <td>-0.747465</td>\n",
       "    </tr>\n",
       "    <tr>\n",
       "      <th>2013-06-05</th>\n",
       "      <td>-0.746966</td>\n",
       "      <td>-0.746684</td>\n",
       "      <td>-0.748073</td>\n",
       "      <td>-0.754760</td>\n",
       "      <td>-0.735142</td>\n",
       "      <td>-0.747451</td>\n",
       "    </tr>\n",
       "    <tr>\n",
       "      <th>...</th>\n",
       "      <td>...</td>\n",
       "      <td>...</td>\n",
       "      <td>...</td>\n",
       "      <td>...</td>\n",
       "      <td>...</td>\n",
       "      <td>...</td>\n",
       "    </tr>\n",
       "    <tr>\n",
       "      <th>2023-05-28</th>\n",
       "      <td>0.970531</td>\n",
       "      <td>1.011396</td>\n",
       "      <td>1.015809</td>\n",
       "      <td>0.005504</td>\n",
       "      <td>1.106750</td>\n",
       "      <td>1.048273</td>\n",
       "    </tr>\n",
       "    <tr>\n",
       "      <th>2023-05-29</th>\n",
       "      <td>1.047863</td>\n",
       "      <td>1.026340</td>\n",
       "      <td>1.066124</td>\n",
       "      <td>0.038751</td>\n",
       "      <td>1.084507</td>\n",
       "      <td>1.026455</td>\n",
       "    </tr>\n",
       "    <tr>\n",
       "      <th>2023-05-30</th>\n",
       "      <td>1.026645</td>\n",
       "      <td>1.002084</td>\n",
       "      <td>1.067752</td>\n",
       "      <td>-0.062140</td>\n",
       "      <td>1.081732</td>\n",
       "      <td>1.023659</td>\n",
       "    </tr>\n",
       "    <tr>\n",
       "      <th>2023-05-31</th>\n",
       "      <td>1.023782</td>\n",
       "      <td>0.988738</td>\n",
       "      <td>1.020020</td>\n",
       "      <td>0.063582</td>\n",
       "      <td>1.050079</td>\n",
       "      <td>0.992663</td>\n",
       "    </tr>\n",
       "    <tr>\n",
       "      <th>2023-06-01</th>\n",
       "      <td>0.992827</td>\n",
       "      <td>0.958326</td>\n",
       "      <td>1.007148</td>\n",
       "      <td>0.012494</td>\n",
       "      <td>1.023870</td>\n",
       "      <td>0.966997</td>\n",
       "    </tr>\n",
       "  </tbody>\n",
       "</table>\n",
       "<p>3653 rows × 6 columns</p>\n",
       "</div>"
      ],
      "text/plain": [
       "                Open      High       Low    Volume  Market Cap     Close\n",
       "Date                                                                    \n",
       "2013-06-01 -0.746490 -0.746289 -0.747591 -0.754760   -0.734859 -0.746959\n",
       "2013-06-02 -0.746459 -0.746313 -0.748394 -0.754760   -0.735124 -0.747409\n",
       "2013-06-03 -0.746896 -0.746745 -0.748331 -0.754760   -0.735124 -0.747414\n",
       "2013-06-04 -0.747009 -0.746661 -0.748126 -0.754760   -0.735153 -0.747465\n",
       "2013-06-05 -0.746966 -0.746684 -0.748073 -0.754760   -0.735142 -0.747451\n",
       "...              ...       ...       ...       ...         ...       ...\n",
       "2023-05-28  0.970531  1.011396  1.015809  0.005504    1.106750  1.048273\n",
       "2023-05-29  1.047863  1.026340  1.066124  0.038751    1.084507  1.026455\n",
       "2023-05-30  1.026645  1.002084  1.067752 -0.062140    1.081732  1.023659\n",
       "2023-05-31  1.023782  0.988738  1.020020  0.063582    1.050079  0.992663\n",
       "2023-06-01  0.992827  0.958326  1.007148  0.012494    1.023870  0.966997\n",
       "\n",
       "[3653 rows x 6 columns]"
      ]
     },
     "execution_count": 126,
     "metadata": {},
     "output_type": "execute_result"
    }
   ],
   "source": [
    "from sklearn.preprocessing import StandardScaler\n",
    "\n",
    "# Create a copy of the original DataFrame\n",
    "data_normalized = df_day.copy()\n",
    "columns_to_scale = ['Open', 'High', 'Low', 'Close', 'Volume', 'Market Cap']\n",
    "\n",
    "# Instantiate the StandardScaler\n",
    "scaler = StandardScaler()\n",
    "data_normalized[columns_to_scale] = scaler.fit_transform(data_normalized[columns_to_scale])\n",
    "data_normalized"
   ]
  },
  {
   "cell_type": "code",
   "execution_count": 127,
   "metadata": {},
   "outputs": [],
   "source": [
    "# Define the percentage for the testing data\n",
    "test_percentage = 0.2\n",
    "\n",
    "# Calculate the index position to split the data\n",
    "split_index = int(len(data_normalized) * (1 - test_percentage))\n",
    "\n",
    "# Split the data into train and test sets\n",
    "data_train = data_normalized.iloc[:split_index]\n",
    "data_test = data_normalized.iloc[split_index:]\n",
    "\n",
    "X_train, y_train = data_train.iloc[:, :-1], data_train.iloc[:, -1]\n",
    "X_test, y_test = data_test.iloc[:, :-1], data_test.iloc[:, -1]"
   ]
  },
  {
   "cell_type": "code",
   "execution_count": 128,
   "metadata": {},
   "outputs": [],
   "source": [
    "y_train= y_train.to_numpy()\n",
    "y_test= y_test.to_numpy()\n",
    "X_train= X_train.to_numpy()\n",
    "X_test= X_test.to_numpy()"
   ]
  },
  {
   "cell_type": "code",
   "execution_count": 129,
   "metadata": {},
   "outputs": [
    {
     "name": "stdout",
     "output_type": "stream",
     "text": [
      "(2922, 5) (2922,) (731, 5) (731,)\n"
     ]
    }
   ],
   "source": [
    "print(X_train.shape, y_train.shape, X_test.shape, y_test.shape)"
   ]
  },
  {
   "cell_type": "code",
   "execution_count": 130,
   "metadata": {
    "scrolled": true
   },
   "outputs": [
    {
     "name": "stdout",
     "output_type": "stream",
     "text": [
      "(2922, 1, 5) (2922,) (731, 1, 5) (731,)\n"
     ]
    }
   ],
   "source": [
    "# reshaping to  3D [samples, timesteps, features]\n",
    "X_train = X_train.reshape((X_train.shape[0], 1, X_train.shape[1]))\n",
    "X_test = X_test.reshape((X_test.shape[0], 1, X_test.shape[1]))\n",
    "print(X_train.shape, y_train.shape, X_test.shape, y_test.shape)"
   ]
  },
  {
   "cell_type": "code",
   "execution_count": 131,
   "metadata": {},
   "outputs": [
    {
     "data": {
      "text/html": [
       "<div>\n",
       "<style scoped>\n",
       "    .dataframe tbody tr th:only-of-type {\n",
       "        vertical-align: middle;\n",
       "    }\n",
       "\n",
       "    .dataframe tbody tr th {\n",
       "        vertical-align: top;\n",
       "    }\n",
       "\n",
       "    .dataframe thead th {\n",
       "        text-align: right;\n",
       "    }\n",
       "</style>\n",
       "<table border=\"1\" class=\"dataframe\">\n",
       "  <thead>\n",
       "    <tr style=\"text-align: right;\">\n",
       "      <th></th>\n",
       "      <th>Close</th>\n",
       "    </tr>\n",
       "    <tr>\n",
       "      <th>Date</th>\n",
       "      <th></th>\n",
       "    </tr>\n",
       "  </thead>\n",
       "  <tbody>\n",
       "    <tr>\n",
       "      <th>2013-06-01</th>\n",
       "      <td>-0.746959</td>\n",
       "    </tr>\n",
       "    <tr>\n",
       "      <th>2013-06-02</th>\n",
       "      <td>-0.747409</td>\n",
       "    </tr>\n",
       "    <tr>\n",
       "      <th>2013-06-03</th>\n",
       "      <td>-0.747414</td>\n",
       "    </tr>\n",
       "    <tr>\n",
       "      <th>2013-06-04</th>\n",
       "      <td>-0.747465</td>\n",
       "    </tr>\n",
       "    <tr>\n",
       "      <th>2013-06-05</th>\n",
       "      <td>-0.747451</td>\n",
       "    </tr>\n",
       "    <tr>\n",
       "      <th>...</th>\n",
       "      <td>...</td>\n",
       "    </tr>\n",
       "    <tr>\n",
       "      <th>2023-05-28</th>\n",
       "      <td>1.048273</td>\n",
       "    </tr>\n",
       "    <tr>\n",
       "      <th>2023-05-29</th>\n",
       "      <td>1.026455</td>\n",
       "    </tr>\n",
       "    <tr>\n",
       "      <th>2023-05-30</th>\n",
       "      <td>1.023659</td>\n",
       "    </tr>\n",
       "    <tr>\n",
       "      <th>2023-05-31</th>\n",
       "      <td>0.992663</td>\n",
       "    </tr>\n",
       "    <tr>\n",
       "      <th>2023-06-01</th>\n",
       "      <td>0.966997</td>\n",
       "    </tr>\n",
       "  </tbody>\n",
       "</table>\n",
       "<p>3653 rows × 1 columns</p>\n",
       "</div>"
      ],
      "text/plain": [
       "               Close\n",
       "Date                \n",
       "2013-06-01 -0.746959\n",
       "2013-06-02 -0.747409\n",
       "2013-06-03 -0.747414\n",
       "2013-06-04 -0.747465\n",
       "2013-06-05 -0.747451\n",
       "...              ...\n",
       "2023-05-28  1.048273\n",
       "2023-05-29  1.026455\n",
       "2023-05-30  1.023659\n",
       "2023-05-31  0.992663\n",
       "2023-06-01  0.966997\n",
       "\n",
       "[3653 rows x 1 columns]"
      ]
     },
     "execution_count": 131,
     "metadata": {},
     "output_type": "execute_result"
    }
   ],
   "source": [
    "test = pd.DataFrame(data_test['Close'])\n",
    "train = pd.DataFrame(data_train['Close'])\n",
    "pd.concat([train, test], join='outer')"
   ]
  },
  {
   "cell_type": "code",
   "execution_count": 132,
   "metadata": {},
   "outputs": [
    {
     "data": {
      "text/html": [
       "<div>\n",
       "<style scoped>\n",
       "    .dataframe tbody tr th:only-of-type {\n",
       "        vertical-align: middle;\n",
       "    }\n",
       "\n",
       "    .dataframe tbody tr th {\n",
       "        vertical-align: top;\n",
       "    }\n",
       "\n",
       "    .dataframe thead th {\n",
       "        text-align: right;\n",
       "    }\n",
       "</style>\n",
       "<table border=\"1\" class=\"dataframe\">\n",
       "  <thead>\n",
       "    <tr style=\"text-align: right;\">\n",
       "      <th></th>\n",
       "      <th>Train Set</th>\n",
       "      <th>Test Set</th>\n",
       "    </tr>\n",
       "    <tr>\n",
       "      <th>Date</th>\n",
       "      <th></th>\n",
       "      <th></th>\n",
       "    </tr>\n",
       "  </thead>\n",
       "  <tbody>\n",
       "    <tr>\n",
       "      <th>2013-06-01</th>\n",
       "      <td>-0.746959</td>\n",
       "      <td>NaN</td>\n",
       "    </tr>\n",
       "    <tr>\n",
       "      <th>2013-06-02</th>\n",
       "      <td>-0.747409</td>\n",
       "      <td>NaN</td>\n",
       "    </tr>\n",
       "    <tr>\n",
       "      <th>2013-06-03</th>\n",
       "      <td>-0.747414</td>\n",
       "      <td>NaN</td>\n",
       "    </tr>\n",
       "    <tr>\n",
       "      <th>2013-06-04</th>\n",
       "      <td>-0.747465</td>\n",
       "      <td>NaN</td>\n",
       "    </tr>\n",
       "    <tr>\n",
       "      <th>2013-06-05</th>\n",
       "      <td>-0.747451</td>\n",
       "      <td>NaN</td>\n",
       "    </tr>\n",
       "  </tbody>\n",
       "</table>\n",
       "</div>"
      ],
      "text/plain": [
       "            Train Set  Test Set\n",
       "Date                           \n",
       "2013-06-01  -0.746959       NaN\n",
       "2013-06-02  -0.747409       NaN\n",
       "2013-06-03  -0.747414       NaN\n",
       "2013-06-04  -0.747465       NaN\n",
       "2013-06-05  -0.747451       NaN"
      ]
     },
     "execution_count": 132,
     "metadata": {},
     "output_type": "execute_result"
    }
   ],
   "source": [
    "test=test.rename(columns={'Close': 'Test Set'})\n",
    "train=train.rename(columns={'Close': 'Train Set'}) \n",
    "whole_data=train.join(test, how='outer' )\n",
    "whole_data.head()"
   ]
  },
  {
   "cell_type": "code",
   "execution_count": 133,
   "metadata": {
    "scrolled": true
   },
   "outputs": [
    {
     "data": {
      "image/png": "[encoded data removed]",
      "text/plain": [
       "<Figure size 1500x500 with 1 Axes>"
      ]
     },
     "metadata": {},
     "output_type": "display_data"
    }
   ],
   "source": [
    "plotting = whole_data.plot(figsize=(15,5), title='BTC Weighted_Price Price (USD) by Hours', style='')"
   ]
  },
  {
   "cell_type": "markdown",
   "metadata": {},
   "source": [
    "# -------------------------------------------------------------------------------------"
   ]
  },
  {
   "cell_type": "code",
   "execution_count": 168,
   "metadata": {},
   "outputs": [
    {
     "data": {
      "text/html": [
       "<div>\n",
       "<style scoped>\n",
       "    .dataframe tbody tr th:only-of-type {\n",
       "        vertical-align: middle;\n",
       "    }\n",
       "\n",
       "    .dataframe tbody tr th {\n",
       "        vertical-align: top;\n",
       "    }\n",
       "\n",
       "    .dataframe thead th {\n",
       "        text-align: right;\n",
       "    }\n",
       "</style>\n",
       "<table border=\"1\" class=\"dataframe\">\n",
       "  <thead>\n",
       "    <tr style=\"text-align: right;\">\n",
       "      <th></th>\n",
       "      <th>Open</th>\n",
       "      <th>High</th>\n",
       "      <th>Low</th>\n",
       "      <th>Close</th>\n",
       "      <th>Volume</th>\n",
       "      <th>Market Cap</th>\n",
       "    </tr>\n",
       "    <tr>\n",
       "      <th>Date</th>\n",
       "      <th></th>\n",
       "      <th></th>\n",
       "      <th></th>\n",
       "      <th></th>\n",
       "      <th></th>\n",
       "      <th></th>\n",
       "    </tr>\n",
       "  </thead>\n",
       "  <tbody>\n",
       "    <tr>\n",
       "      <th>2023-06-13</th>\n",
       "      <td>25902.94</td>\n",
       "      <td>26376.35</td>\n",
       "      <td>25728.37</td>\n",
       "      <td>25918.73</td>\n",
       "      <td>1.414347e+10</td>\n",
       "      <td>5.028638e+11</td>\n",
       "    </tr>\n",
       "    <tr>\n",
       "      <th>2023-06-12</th>\n",
       "      <td>25934.29</td>\n",
       "      <td>26087.92</td>\n",
       "      <td>25675.20</td>\n",
       "      <td>25902.50</td>\n",
       "      <td>1.167789e+10</td>\n",
       "      <td>5.025237e+11</td>\n",
       "    </tr>\n",
       "    <tr>\n",
       "      <th>2023-06-11</th>\n",
       "      <td>25854.03</td>\n",
       "      <td>26203.44</td>\n",
       "      <td>25668.99</td>\n",
       "      <td>25940.17</td>\n",
       "      <td>1.073261e+10</td>\n",
       "      <td>5.032310e+11</td>\n",
       "    </tr>\n",
       "    <tr>\n",
       "      <th>2023-06-10</th>\n",
       "      <td>26481.76</td>\n",
       "      <td>26531.05</td>\n",
       "      <td>25501.84</td>\n",
       "      <td>25851.24</td>\n",
       "      <td>1.987293e+10</td>\n",
       "      <td>5.014774e+11</td>\n",
       "    </tr>\n",
       "    <tr>\n",
       "      <th>2023-06-09</th>\n",
       "      <td>26505.92</td>\n",
       "      <td>26770.29</td>\n",
       "      <td>26339.32</td>\n",
       "      <td>26480.38</td>\n",
       "      <td>1.101555e+10</td>\n",
       "      <td>5.136570e+11</td>\n",
       "    </tr>\n",
       "    <tr>\n",
       "      <th>...</th>\n",
       "      <td>...</td>\n",
       "      <td>...</td>\n",
       "      <td>...</td>\n",
       "      <td>...</td>\n",
       "      <td>...</td>\n",
       "      <td>...</td>\n",
       "    </tr>\n",
       "    <tr>\n",
       "      <th>2013-05-02</th>\n",
       "      <td>116.38</td>\n",
       "      <td>125.60</td>\n",
       "      <td>92.28</td>\n",
       "      <td>105.21</td>\n",
       "      <td>0.000000e+00</td>\n",
       "      <td>1.168517e+09</td>\n",
       "    </tr>\n",
       "    <tr>\n",
       "      <th>2013-05-01</th>\n",
       "      <td>139.00</td>\n",
       "      <td>139.89</td>\n",
       "      <td>107.72</td>\n",
       "      <td>116.99</td>\n",
       "      <td>0.000000e+00</td>\n",
       "      <td>1.298955e+09</td>\n",
       "    </tr>\n",
       "    <tr>\n",
       "      <th>2013-04-30</th>\n",
       "      <td>144.00</td>\n",
       "      <td>146.93</td>\n",
       "      <td>134.05</td>\n",
       "      <td>139.00</td>\n",
       "      <td>0.000000e+00</td>\n",
       "      <td>1.542813e+09</td>\n",
       "    </tr>\n",
       "    <tr>\n",
       "      <th>2013-04-29</th>\n",
       "      <td>134.44</td>\n",
       "      <td>147.49</td>\n",
       "      <td>134.00</td>\n",
       "      <td>144.54</td>\n",
       "      <td>0.000000e+00</td>\n",
       "      <td>1.603769e+09</td>\n",
       "    </tr>\n",
       "    <tr>\n",
       "      <th>2013-04-28</th>\n",
       "      <td>135.30</td>\n",
       "      <td>135.98</td>\n",
       "      <td>132.10</td>\n",
       "      <td>134.21</td>\n",
       "      <td>0.000000e+00</td>\n",
       "      <td>1.488567e+09</td>\n",
       "    </tr>\n",
       "  </tbody>\n",
       "</table>\n",
       "<p>3699 rows × 6 columns</p>\n",
       "</div>"
      ],
      "text/plain": [
       "                Open      High       Low     Close        Volume    Market Cap\n",
       "Date                                                                          \n",
       "2023-06-13  25902.94  26376.35  25728.37  25918.73  1.414347e+10  5.028638e+11\n",
       "2023-06-12  25934.29  26087.92  25675.20  25902.50  1.167789e+10  5.025237e+11\n",
       "2023-06-11  25854.03  26203.44  25668.99  25940.17  1.073261e+10  5.032310e+11\n",
       "2023-06-10  26481.76  26531.05  25501.84  25851.24  1.987293e+10  5.014774e+11\n",
       "2023-06-09  26505.92  26770.29  26339.32  26480.38  1.101555e+10  5.136570e+11\n",
       "...              ...       ...       ...       ...           ...           ...\n",
       "2013-05-02    116.38    125.60     92.28    105.21  0.000000e+00  1.168517e+09\n",
       "2013-05-01    139.00    139.89    107.72    116.99  0.000000e+00  1.298955e+09\n",
       "2013-04-30    144.00    146.93    134.05    139.00  0.000000e+00  1.542813e+09\n",
       "2013-04-29    134.44    147.49    134.00    144.54  0.000000e+00  1.603769e+09\n",
       "2013-04-28    135.30    135.98    132.10    134.21  0.000000e+00  1.488567e+09\n",
       "\n",
       "[3699 rows x 6 columns]"
      ]
     },
     "execution_count": 168,
     "metadata": {},
     "output_type": "execute_result"
    }
   ],
   "source": [
    "data"
   ]
  },
  {
   "cell_type": "markdown",
   "metadata": {},
   "source": [
    "## <font color= blue >7. Model Construction </font> <a class=\"anchor\" id=\"fifth-bullet\"></a>"
   ]
  },
  {
   "cell_type": "markdown",
   "metadata": {},
   "source": [
    "## <font color= blue >7.1 Multivariate Time Series Forecasting with LSTM </font> <a class=\"anchor\" id=\"fifth-bullet\"></a>"
   ]
  },
  {
   "cell_type": "code",
   "execution_count": 135,
   "metadata": {
    "scrolled": true
   },
   "outputs": [
    {
     "name": "stdout",
     "output_type": "stream",
     "text": [
      "Epoch 1/100\n",
      "59/59 - 13s - loss: 0.3981 - val_loss: 1.9178 - 13s/epoch - 218ms/step\n",
      "Epoch 2/100\n",
      "59/59 - 2s - loss: 0.1672 - val_loss: 0.7271 - 2s/epoch - 33ms/step\n",
      "Epoch 3/100\n",
      "59/59 - 2s - loss: 0.4639 - val_loss: 3.0505 - 2s/epoch - 32ms/step\n",
      "Epoch 4/100\n",
      "59/59 - 2s - loss: 0.3296 - val_loss: 1.9901 - 2s/epoch - 34ms/step\n",
      "Epoch 5/100\n",
      "59/59 - 2s - loss: 0.0764 - val_loss: 0.2291 - 2s/epoch - 31ms/step\n",
      "Epoch 6/100\n",
      "59/59 - 2s - loss: 0.0995 - val_loss: 0.1615 - 2s/epoch - 32ms/step\n",
      "Epoch 7/100\n",
      "59/59 - 2s - loss: 0.2482 - val_loss: 1.4628 - 2s/epoch - 31ms/step\n",
      "Epoch 8/100\n",
      "59/59 - 2s - loss: 0.0665 - val_loss: 0.2091 - 2s/epoch - 31ms/step\n",
      "Epoch 9/100\n",
      "59/59 - 2s - loss: 0.0536 - val_loss: 0.1224 - 2s/epoch - 31ms/step\n",
      "Epoch 10/100\n",
      "59/59 - 2s - loss: 0.0832 - val_loss: 0.2702 - 2s/epoch - 33ms/step\n",
      "Epoch 11/100\n",
      "59/59 - 2s - loss: 0.0631 - val_loss: 0.1239 - 2s/epoch - 32ms/step\n",
      "Epoch 12/100\n",
      "59/59 - 2s - loss: 0.1144 - val_loss: 0.4510 - 2s/epoch - 34ms/step\n",
      "Epoch 13/100\n",
      "59/59 - 2s - loss: 0.0461 - val_loss: 0.1753 - 2s/epoch - 35ms/step\n",
      "Epoch 14/100\n",
      "59/59 - 2s - loss: 0.0499 - val_loss: 0.1403 - 2s/epoch - 31ms/step\n",
      "Epoch 15/100\n",
      "59/59 - 2s - loss: 0.0499 - val_loss: 0.1339 - 2s/epoch - 32ms/step\n",
      "Epoch 16/100\n",
      "59/59 - 2s - loss: 0.0968 - val_loss: 0.3130 - 2s/epoch - 32ms/step\n",
      "Epoch 17/100\n",
      "59/59 - 2s - loss: 0.0596 - val_loss: 0.1650 - 2s/epoch - 32ms/step\n",
      "Epoch 18/100\n",
      "59/59 - 2s - loss: 0.0796 - val_loss: 0.2631 - 2s/epoch - 32ms/step\n",
      "Epoch 19/100\n",
      "59/59 - 2s - loss: 0.0504 - val_loss: 0.1760 - 2s/epoch - 31ms/step\n",
      "Epoch 20/100\n",
      "59/59 - 2s - loss: 0.0613 - val_loss: 0.1800 - 2s/epoch - 33ms/step\n",
      "Epoch 21/100\n",
      "59/59 - 2s - loss: 0.0517 - val_loss: 0.1646 - 2s/epoch - 32ms/step\n",
      "Epoch 22/100\n",
      "59/59 - 2s - loss: 0.0849 - val_loss: 0.2626 - 2s/epoch - 30ms/step\n",
      "Epoch 23/100\n",
      "59/59 - 2s - loss: 0.0540 - val_loss: 0.2111 - 2s/epoch - 30ms/step\n",
      "Epoch 24/100\n",
      "59/59 - 2s - loss: 0.0663 - val_loss: 0.2104 - 2s/epoch - 31ms/step\n",
      "Epoch 25/100\n",
      "59/59 - 2s - loss: 0.0454 - val_loss: 0.1719 - 2s/epoch - 30ms/step\n",
      "Epoch 26/100\n",
      "59/59 - 2s - loss: 0.0586 - val_loss: 0.1613 - 2s/epoch - 30ms/step\n",
      "Epoch 27/100\n",
      "59/59 - 2s - loss: 0.0545 - val_loss: 0.1705 - 2s/epoch - 31ms/step\n",
      "Epoch 28/100\n",
      "59/59 - 2s - loss: 0.0780 - val_loss: 0.2206 - 2s/epoch - 30ms/step\n",
      "Epoch 29/100\n",
      "59/59 - 2s - loss: 0.0556 - val_loss: 0.2372 - 2s/epoch - 32ms/step\n",
      "Epoch 30/100\n",
      "59/59 - 2s - loss: 0.0598 - val_loss: 0.1813 - 2s/epoch - 31ms/step\n",
      "Epoch 31/100\n",
      "59/59 - 2s - loss: 0.0469 - val_loss: 0.2000 - 2s/epoch - 31ms/step\n",
      "Epoch 32/100\n",
      "59/59 - 2s - loss: 0.0553 - val_loss: 0.1342 - 2s/epoch - 31ms/step\n",
      "Epoch 33/100\n",
      "59/59 - 2s - loss: 0.0529 - val_loss: 0.1974 - 2s/epoch - 30ms/step\n",
      "Epoch 34/100\n",
      "59/59 - 2s - loss: 0.0814 - val_loss: 0.2253 - 2s/epoch - 31ms/step\n",
      "Epoch 35/100\n",
      "59/59 - 2s - loss: 0.0536 - val_loss: 0.2730 - 2s/epoch - 32ms/step\n",
      "Epoch 36/100\n",
      "59/59 - 2s - loss: 0.0514 - val_loss: 0.1436 - 2s/epoch - 33ms/step\n",
      "Epoch 37/100\n",
      "59/59 - 2s - loss: 0.0506 - val_loss: 0.1896 - 2s/epoch - 31ms/step\n",
      "Epoch 38/100\n",
      "59/59 - 2s - loss: 0.0707 - val_loss: 0.1705 - 2s/epoch - 31ms/step\n",
      "Epoch 39/100\n",
      "59/59 - 2s - loss: 0.0635 - val_loss: 0.2543 - 2s/epoch - 30ms/step\n",
      "Epoch 40/100\n",
      "59/59 - 2s - loss: 0.0761 - val_loss: 0.2131 - 2s/epoch - 32ms/step\n",
      "Epoch 41/100\n",
      "59/59 - 2s - loss: 0.0544 - val_loss: 0.2513 - 2s/epoch - 31ms/step\n",
      "Epoch 42/100\n",
      "59/59 - 2s - loss: 0.0544 - val_loss: 0.1387 - 2s/epoch - 37ms/step\n",
      "Epoch 43/100\n",
      "59/59 - 2s - loss: 0.0567 - val_loss: 0.2117 - 2s/epoch - 34ms/step\n",
      "Epoch 44/100\n",
      "59/59 - 2s - loss: 0.0777 - val_loss: 0.1982 - 2s/epoch - 32ms/step\n",
      "Epoch 45/100\n",
      "59/59 - 2s - loss: 0.0610 - val_loss: 0.3042 - 2s/epoch - 33ms/step\n",
      "Epoch 46/100\n",
      "59/59 - 2s - loss: 0.0568 - val_loss: 0.1563 - 2s/epoch - 31ms/step\n",
      "Epoch 47/100\n",
      "59/59 - 2s - loss: 0.0522 - val_loss: 0.2019 - 2s/epoch - 31ms/step\n",
      "Epoch 48/100\n",
      "59/59 - 2s - loss: 0.0704 - val_loss: 0.1506 - 2s/epoch - 32ms/step\n",
      "Epoch 49/100\n",
      "59/59 - 2s - loss: 0.0611 - val_loss: 0.3267 - 2s/epoch - 30ms/step\n",
      "Epoch 50/100\n",
      "59/59 - 2s - loss: 0.0591 - val_loss: 0.1587 - 2s/epoch - 32ms/step\n",
      "Epoch 51/100\n",
      "59/59 - 2s - loss: 0.0581 - val_loss: 0.2114 - 2s/epoch - 31ms/step\n",
      "Epoch 52/100\n",
      "59/59 - 2s - loss: 0.0747 - val_loss: 0.1724 - 2s/epoch - 30ms/step\n",
      "Epoch 53/100\n",
      "59/59 - 2s - loss: 0.0613 - val_loss: 0.2954 - 2s/epoch - 30ms/step\n",
      "Epoch 54/100\n",
      "59/59 - 2s - loss: 0.0592 - val_loss: 0.1571 - 2s/epoch - 30ms/step\n",
      "Epoch 55/100\n",
      "59/59 - 2s - loss: 0.0559 - val_loss: 0.2330 - 2s/epoch - 30ms/step\n",
      "Epoch 56/100\n",
      "59/59 - 2s - loss: 0.0684 - val_loss: 0.1580 - 2s/epoch - 34ms/step\n",
      "Epoch 57/100\n",
      "59/59 - 2s - loss: 0.0575 - val_loss: 0.3009 - 2s/epoch - 33ms/step\n",
      "Epoch 58/100\n",
      "59/59 - 2s - loss: 0.0617 - val_loss: 0.1726 - 2s/epoch - 31ms/step\n",
      "Epoch 59/100\n",
      "59/59 - 2s - loss: 0.0492 - val_loss: 0.2121 - 2s/epoch - 31ms/step\n",
      "Epoch 60/100\n",
      "59/59 - 2s - loss: 0.0576 - val_loss: 0.1379 - 2s/epoch - 30ms/step\n",
      "Epoch 61/100\n",
      "59/59 - 2s - loss: 0.0584 - val_loss: 0.2622 - 2s/epoch - 32ms/step\n",
      "Epoch 62/100\n",
      "59/59 - 2s - loss: 0.0764 - val_loss: 0.1820 - 2s/epoch - 31ms/step\n",
      "Epoch 63/100\n",
      "59/59 - 2s - loss: 0.0625 - val_loss: 0.3207 - 2s/epoch - 29ms/step\n",
      "Epoch 64/100\n",
      "59/59 - 2s - loss: 0.0633 - val_loss: 0.1709 - 2s/epoch - 30ms/step\n",
      "Epoch 65/100\n",
      "59/59 - 2s - loss: 0.0491 - val_loss: 0.2170 - 2s/epoch - 30ms/step\n",
      "Epoch 66/100\n",
      "59/59 - 2s - loss: 0.0640 - val_loss: 0.1411 - 2s/epoch - 31ms/step\n",
      "Epoch 67/100\n",
      "59/59 - 2s - loss: 0.0652 - val_loss: 0.2997 - 2s/epoch - 32ms/step\n",
      "Epoch 68/100\n",
      "59/59 - 2s - loss: 0.0798 - val_loss: 0.2079 - 2s/epoch - 30ms/step\n",
      "Epoch 69/100\n",
      "59/59 - 2s - loss: 0.0509 - val_loss: 0.2823 - 2s/epoch - 30ms/step\n",
      "Epoch 70/100\n",
      "59/59 - 2s - loss: 0.0568 - val_loss: 0.1553 - 2s/epoch - 30ms/step\n",
      "Epoch 71/100\n",
      "59/59 - 2s - loss: 0.0552 - val_loss: 0.2673 - 2s/epoch - 32ms/step\n",
      "Epoch 72/100\n",
      "59/59 - 2s - loss: 0.0777 - val_loss: 0.1730 - 2s/epoch - 32ms/step\n",
      "Epoch 73/100\n",
      "59/59 - 2s - loss: 0.0599 - val_loss: 0.3125 - 2s/epoch - 31ms/step\n",
      "Epoch 74/100\n",
      "59/59 - 2s - loss: 0.0666 - val_loss: 0.1693 - 2s/epoch - 30ms/step\n",
      "Epoch 75/100\n",
      "59/59 - 2s - loss: 0.0535 - val_loss: 0.2584 - 2s/epoch - 31ms/step\n",
      "Epoch 76/100\n",
      "59/59 - 2s - loss: 0.0709 - val_loss: 0.1537 - 2s/epoch - 31ms/step\n",
      "Epoch 77/100\n",
      "59/59 - 2s - loss: 0.0609 - val_loss: 0.3064 - 2s/epoch - 30ms/step\n",
      "Epoch 78/100\n",
      "59/59 - 2s - loss: 0.0766 - val_loss: 0.1732 - 2s/epoch - 32ms/step\n",
      "Epoch 79/100\n",
      "59/59 - 2s - loss: 0.0603 - val_loss: 0.3206 - 2s/epoch - 30ms/step\n",
      "Epoch 80/100\n",
      "59/59 - 2s - loss: 0.0709 - val_loss: 0.1819 - 2s/epoch - 30ms/step\n",
      "Epoch 81/100\n",
      "59/59 - 2s - loss: 0.0531 - val_loss: 0.3056 - 2s/epoch - 30ms/step\n",
      "Epoch 82/100\n",
      "59/59 - 2s - loss: 0.0601 - val_loss: 0.1726 - 2s/epoch - 30ms/step\n",
      "Epoch 83/100\n",
      "59/59 - 2s - loss: 0.0498 - val_loss: 0.2760 - 2s/epoch - 32ms/step\n",
      "Epoch 84/100\n",
      "59/59 - 2s - loss: 0.0631 - val_loss: 0.1700 - 2s/epoch - 31ms/step\n",
      "Epoch 85/100\n",
      "59/59 - 2s - loss: 0.0550 - val_loss: 0.2947 - 2s/epoch - 32ms/step\n",
      "Epoch 86/100\n",
      "59/59 - 2s - loss: 0.0701 - val_loss: 0.1741 - 2s/epoch - 30ms/step\n",
      "Epoch 87/100\n",
      "59/59 - 2s - loss: 0.0587 - val_loss: 0.2852 - 2s/epoch - 31ms/step\n",
      "Epoch 88/100\n",
      "59/59 - 2s - loss: 0.0758 - val_loss: 0.1685 - 2s/epoch - 31ms/step\n",
      "Epoch 89/100\n",
      "59/59 - 2s - loss: 0.0621 - val_loss: 0.3208 - 2s/epoch - 32ms/step\n",
      "Epoch 90/100\n",
      "59/59 - 2s - loss: 0.0740 - val_loss: 0.1839 - 2s/epoch - 30ms/step\n",
      "Epoch 91/100\n",
      "59/59 - 2s - loss: 0.0555 - val_loss: 0.3394 - 2s/epoch - 31ms/step\n",
      "Epoch 92/100\n",
      "59/59 - 2s - loss: 0.0656 - val_loss: 0.1804 - 2s/epoch - 36ms/step\n",
      "Epoch 93/100\n",
      "59/59 - 2s - loss: 0.0576 - val_loss: 0.2725 - 2s/epoch - 41ms/step\n",
      "Epoch 94/100\n",
      "59/59 - 2s - loss: 0.0790 - val_loss: 0.1756 - 2s/epoch - 40ms/step\n",
      "Epoch 95/100\n",
      "59/59 - 2s - loss: 0.0562 - val_loss: 0.3155 - 2s/epoch - 38ms/step\n",
      "Epoch 96/100\n",
      "59/59 - 3s - loss: 0.0690 - val_loss: 0.1807 - 3s/epoch - 46ms/step\n",
      "Epoch 97/100\n",
      "59/59 - 2s - loss: 0.0551 - val_loss: 0.3058 - 2s/epoch - 41ms/step\n",
      "Epoch 98/100\n",
      "59/59 - 3s - loss: 0.0708 - val_loss: 0.1762 - 3s/epoch - 44ms/step\n",
      "Epoch 99/100\n",
      "59/59 - 3s - loss: 0.0555 - val_loss: 0.3121 - 3s/epoch - 44ms/step\n",
      "Epoch 100/100\n",
      "59/59 - 3s - loss: 0.0598 - val_loss: 0.1774 - 3s/epoch - 43ms/step\n"
     ]
    }
   ],
   "source": [
    "model = Sequential()\n",
    "model.add(LSTM(128,activation=\"tanh\",return_sequences=True, input_shape=(1, 5)))\n",
    "model.add(Dropout(0.2))\n",
    "model.add(LSTM(128,activation=\"tanh\", return_sequences=True))\n",
    "model.add(Dropout(0.3))\n",
    "model.add(LSTM(256, activation=\"tanh\",return_sequences=True))\n",
    "model.add(Dropout(0.4))\n",
    "model.add(LSTM(256, activation=\"tanh\",return_sequences=True))\n",
    "model.add(Dropout(0.5))\n",
    "model.add(Dense(1))\n",
    "model.compile(loss='mean_squared_error', optimizer='adam')\n",
    "history=model.fit(X_train, y_train, epochs=100, batch_size=50, verbose=2,validation_data=(X_test, y_test), shuffle=False)"
   ]
  },
  {
   "cell_type": "code",
   "execution_count": 159,
   "metadata": {
    "scrolled": true
   },
   "outputs": [
    {
     "name": "stdout",
     "output_type": "stream",
     "text": [
      "WARNING:tensorflow:Layer lstm_13 will not use cuDNN kernels since it doesn't meet the criteria. It will use a generic GPU kernel as fallback when running on GPU.\n",
      "Epoch 1/100\n",
      "59/59 - 3s - loss: 0.4922 - val_loss: 1.8553 - 3s/epoch - 56ms/step\n",
      "Epoch 2/100\n",
      "59/59 - 1s - loss: 0.2551 - val_loss: 1.0092 - 1s/epoch - 24ms/step\n",
      "Epoch 3/100\n",
      "59/59 - 1s - loss: 0.1242 - val_loss: 0.5051 - 1s/epoch - 24ms/step\n",
      "Epoch 4/100\n",
      "59/59 - 1s - loss: 0.0831 - val_loss: 0.2671 - 1s/epoch - 24ms/step\n",
      "Epoch 5/100\n",
      "59/59 - 1s - loss: 0.0661 - val_loss: 0.1636 - 1s/epoch - 24ms/step\n",
      "Epoch 6/100\n",
      "59/59 - 1s - loss: 0.0656 - val_loss: 0.1108 - 1s/epoch - 24ms/step\n",
      "Epoch 7/100\n",
      "59/59 - 1s - loss: 0.0595 - val_loss: 0.0961 - 1s/epoch - 23ms/step\n",
      "Epoch 8/100\n",
      "59/59 - 1s - loss: 0.0603 - val_loss: 0.0904 - 1s/epoch - 24ms/step\n",
      "Epoch 9/100\n",
      "59/59 - 2s - loss: 0.0581 - val_loss: 0.0770 - 2s/epoch - 26ms/step\n",
      "Epoch 10/100\n",
      "59/59 - 1s - loss: 0.0548 - val_loss: 0.0665 - 1s/epoch - 25ms/step\n",
      "Epoch 11/100\n",
      "59/59 - 2s - loss: 0.0511 - val_loss: 0.0544 - 2s/epoch - 26ms/step\n",
      "Epoch 12/100\n",
      "59/59 - 1s - loss: 0.0486 - val_loss: 0.0508 - 1s/epoch - 24ms/step\n",
      "Epoch 13/100\n",
      "59/59 - 1s - loss: 0.0485 - val_loss: 0.0434 - 1s/epoch - 25ms/step\n",
      "Epoch 14/100\n",
      "59/59 - 1s - loss: 0.0444 - val_loss: 0.0360 - 1s/epoch - 24ms/step\n",
      "Epoch 15/100\n",
      "59/59 - 1s - loss: 0.0429 - val_loss: 0.0340 - 1s/epoch - 24ms/step\n",
      "Epoch 16/100\n",
      "59/59 - 1s - loss: 0.0437 - val_loss: 0.0382 - 1s/epoch - 24ms/step\n",
      "Epoch 17/100\n",
      "59/59 - 1s - loss: 0.0420 - val_loss: 0.0247 - 1s/epoch - 24ms/step\n",
      "Epoch 18/100\n",
      "59/59 - 1s - loss: 0.0419 - val_loss: 0.0251 - 1s/epoch - 24ms/step\n",
      "Epoch 19/100\n",
      "59/59 - 1s - loss: 0.0393 - val_loss: 0.0215 - 1s/epoch - 24ms/step\n",
      "Epoch 20/100\n",
      "59/59 - 1s - loss: 0.0361 - val_loss: 0.0155 - 1s/epoch - 24ms/step\n",
      "Epoch 21/100\n",
      "59/59 - 1s - loss: 0.0373 - val_loss: 0.0142 - 1s/epoch - 25ms/step\n",
      "Epoch 22/100\n",
      "59/59 - 1s - loss: 0.0364 - val_loss: 0.0171 - 1s/epoch - 24ms/step\n",
      "Epoch 23/100\n",
      "59/59 - 1s - loss: 0.0325 - val_loss: 0.0118 - 1s/epoch - 24ms/step\n",
      "Epoch 24/100\n",
      "59/59 - 1s - loss: 0.0325 - val_loss: 0.0097 - 1s/epoch - 25ms/step\n",
      "Epoch 25/100\n",
      "59/59 - 1s - loss: 0.0307 - val_loss: 0.0117 - 1s/epoch - 24ms/step\n",
      "Epoch 26/100\n",
      "59/59 - 1s - loss: 0.0300 - val_loss: 0.0117 - 1s/epoch - 24ms/step\n",
      "Epoch 27/100\n",
      "59/59 - 1s - loss: 0.0297 - val_loss: 0.0115 - 1s/epoch - 24ms/step\n",
      "Epoch 28/100\n",
      "59/59 - 1s - loss: 0.0282 - val_loss: 0.0087 - 1s/epoch - 25ms/step\n",
      "Epoch 29/100\n",
      "59/59 - 1s - loss: 0.0256 - val_loss: 0.0097 - 1s/epoch - 25ms/step\n",
      "Epoch 30/100\n",
      "59/59 - 1s - loss: 0.0263 - val_loss: 0.0100 - 1s/epoch - 25ms/step\n",
      "Epoch 31/100\n",
      "59/59 - 1s - loss: 0.0280 - val_loss: 0.0116 - 1s/epoch - 25ms/step\n",
      "Epoch 32/100\n",
      "59/59 - 1s - loss: 0.0242 - val_loss: 0.0106 - 1s/epoch - 25ms/step\n",
      "Epoch 33/100\n",
      "59/59 - 1s - loss: 0.0240 - val_loss: 0.0112 - 1s/epoch - 24ms/step\n",
      "Epoch 34/100\n",
      "59/59 - 1s - loss: 0.0225 - val_loss: 0.0109 - 1s/epoch - 25ms/step\n",
      "Epoch 35/100\n",
      "59/59 - 2s - loss: 0.0227 - val_loss: 0.0114 - 2s/epoch - 26ms/step\n",
      "Epoch 36/100\n",
      "59/59 - 1s - loss: 0.0225 - val_loss: 0.0109 - 1s/epoch - 25ms/step\n",
      "Epoch 37/100\n",
      "59/59 - 1s - loss: 0.0219 - val_loss: 0.0127 - 1s/epoch - 25ms/step\n",
      "Epoch 38/100\n",
      "59/59 - 1s - loss: 0.0214 - val_loss: 0.0128 - 1s/epoch - 24ms/step\n",
      "Epoch 39/100\n",
      "59/59 - 1s - loss: 0.0201 - val_loss: 0.0134 - 1s/epoch - 25ms/step\n",
      "Epoch 40/100\n",
      "59/59 - 2s - loss: 0.0206 - val_loss: 0.0125 - 2s/epoch - 27ms/step\n",
      "Epoch 41/100\n",
      "59/59 - 1s - loss: 0.0201 - val_loss: 0.0137 - 1s/epoch - 24ms/step\n",
      "Epoch 42/100\n",
      "59/59 - 1s - loss: 0.0196 - val_loss: 0.0136 - 1s/epoch - 25ms/step\n",
      "Epoch 43/100\n",
      "59/59 - 1s - loss: 0.0191 - val_loss: 0.0144 - 1s/epoch - 25ms/step\n",
      "Epoch 44/100\n",
      "59/59 - 2s - loss: 0.0192 - val_loss: 0.0149 - 2s/epoch - 26ms/step\n",
      "Epoch 45/100\n",
      "59/59 - 2s - loss: 0.0178 - val_loss: 0.0147 - 2s/epoch - 26ms/step\n",
      "Epoch 46/100\n",
      "59/59 - 2s - loss: 0.0169 - val_loss: 0.0179 - 2s/epoch - 26ms/step\n",
      "Epoch 47/100\n",
      "59/59 - 1s - loss: 0.0178 - val_loss: 0.0163 - 1s/epoch - 25ms/step\n",
      "Epoch 48/100\n",
      "59/59 - 1s - loss: 0.0167 - val_loss: 0.0163 - 1s/epoch - 25ms/step\n",
      "Epoch 49/100\n",
      "59/59 - 1s - loss: 0.0157 - val_loss: 0.0167 - 1s/epoch - 25ms/step\n",
      "Epoch 50/100\n",
      "59/59 - 1s - loss: 0.0166 - val_loss: 0.0178 - 1s/epoch - 24ms/step\n",
      "Epoch 51/100\n",
      "59/59 - 1s - loss: 0.0156 - val_loss: 0.0199 - 1s/epoch - 24ms/step\n",
      "Epoch 52/100\n",
      "59/59 - 1s - loss: 0.0163 - val_loss: 0.0184 - 1s/epoch - 23ms/step\n",
      "Epoch 53/100\n",
      "59/59 - 1s - loss: 0.0159 - val_loss: 0.0196 - 1s/epoch - 25ms/step\n",
      "Epoch 54/100\n",
      "59/59 - 1s - loss: 0.0147 - val_loss: 0.0191 - 1s/epoch - 24ms/step\n",
      "Epoch 55/100\n",
      "59/59 - 1s - loss: 0.0141 - val_loss: 0.0234 - 1s/epoch - 25ms/step\n",
      "Epoch 56/100\n",
      "59/59 - 1s - loss: 0.0148 - val_loss: 0.0195 - 1s/epoch - 25ms/step\n",
      "Epoch 57/100\n",
      "59/59 - 1s - loss: 0.0156 - val_loss: 0.0231 - 1s/epoch - 24ms/step\n",
      "Epoch 58/100\n",
      "59/59 - 1s - loss: 0.0147 - val_loss: 0.0220 - 1s/epoch - 24ms/step\n",
      "Epoch 59/100\n",
      "59/59 - 1s - loss: 0.0138 - val_loss: 0.0230 - 1s/epoch - 24ms/step\n",
      "Epoch 60/100\n",
      "59/59 - 1s - loss: 0.0151 - val_loss: 0.0245 - 1s/epoch - 24ms/step\n",
      "Epoch 61/100\n",
      "59/59 - 1s - loss: 0.0134 - val_loss: 0.0235 - 1s/epoch - 25ms/step\n",
      "Epoch 62/100\n",
      "59/59 - 1s - loss: 0.0158 - val_loss: 0.0251 - 1s/epoch - 25ms/step\n",
      "Epoch 63/100\n",
      "59/59 - 1s - loss: 0.0130 - val_loss: 0.0244 - 1s/epoch - 25ms/step\n",
      "Epoch 64/100\n",
      "59/59 - 1s - loss: 0.0134 - val_loss: 0.0242 - 1s/epoch - 23ms/step\n",
      "Epoch 65/100\n",
      "59/59 - 1s - loss: 0.0132 - val_loss: 0.0234 - 1s/epoch - 24ms/step\n",
      "Epoch 66/100\n",
      "59/59 - 1s - loss: 0.0127 - val_loss: 0.0255 - 1s/epoch - 24ms/step\n",
      "Epoch 67/100\n",
      "59/59 - 1s - loss: 0.0126 - val_loss: 0.0238 - 1s/epoch - 25ms/step\n",
      "Epoch 68/100\n",
      "59/59 - 1s - loss: 0.0123 - val_loss: 0.0249 - 1s/epoch - 24ms/step\n",
      "Epoch 69/100\n",
      "59/59 - 1s - loss: 0.0127 - val_loss: 0.0291 - 1s/epoch - 24ms/step\n",
      "Epoch 70/100\n",
      "59/59 - 1s - loss: 0.0130 - val_loss: 0.0245 - 1s/epoch - 24ms/step\n",
      "Epoch 71/100\n",
      "59/59 - 1s - loss: 0.0133 - val_loss: 0.0285 - 1s/epoch - 23ms/step\n",
      "Epoch 72/100\n",
      "59/59 - 1s - loss: 0.0178 - val_loss: 0.0249 - 1s/epoch - 24ms/step\n",
      "Epoch 73/100\n",
      "59/59 - 1s - loss: 0.0144 - val_loss: 0.0295 - 1s/epoch - 25ms/step\n",
      "Epoch 74/100\n",
      "59/59 - 2s - loss: 0.0187 - val_loss: 0.0287 - 2s/epoch - 27ms/step\n",
      "Epoch 75/100\n",
      "59/59 - 2s - loss: 0.0184 - val_loss: 0.0293 - 2s/epoch - 27ms/step\n",
      "Epoch 76/100\n",
      "59/59 - 2s - loss: 0.0232 - val_loss: 0.0372 - 2s/epoch - 26ms/step\n",
      "Epoch 77/100\n",
      "59/59 - 2s - loss: 0.0172 - val_loss: 0.0284 - 2s/epoch - 27ms/step\n",
      "Epoch 78/100\n",
      "59/59 - 2s - loss: 0.0196 - val_loss: 0.0379 - 2s/epoch - 27ms/step\n",
      "Epoch 79/100\n",
      "59/59 - 2s - loss: 0.0127 - val_loss: 0.0261 - 2s/epoch - 27ms/step\n",
      "Epoch 80/100\n",
      "59/59 - 2s - loss: 0.0154 - val_loss: 0.0321 - 2s/epoch - 26ms/step\n",
      "Epoch 81/100\n",
      "59/59 - 2s - loss: 0.0118 - val_loss: 0.0282 - 2s/epoch - 26ms/step\n",
      "Epoch 82/100\n",
      "59/59 - 1s - loss: 0.0139 - val_loss: 0.0270 - 1s/epoch - 24ms/step\n",
      "Epoch 83/100\n",
      "59/59 - 1s - loss: 0.0126 - val_loss: 0.0282 - 1s/epoch - 25ms/step\n",
      "Epoch 84/100\n",
      "59/59 - 1s - loss: 0.0157 - val_loss: 0.0326 - 1s/epoch - 24ms/step\n",
      "Epoch 85/100\n",
      "59/59 - 1s - loss: 0.0129 - val_loss: 0.0272 - 1s/epoch - 25ms/step\n",
      "Epoch 86/100\n",
      "59/59 - 1s - loss: 0.0151 - val_loss: 0.0372 - 1s/epoch - 25ms/step\n",
      "Epoch 87/100\n",
      "59/59 - 2s - loss: 0.0120 - val_loss: 0.0257 - 2s/epoch - 26ms/step\n",
      "Epoch 88/100\n",
      "59/59 - 2s - loss: 0.0166 - val_loss: 0.0345 - 2s/epoch - 26ms/step\n",
      "Epoch 89/100\n",
      "59/59 - 1s - loss: 0.0123 - val_loss: 0.0244 - 1s/epoch - 24ms/step\n",
      "Epoch 90/100\n",
      "59/59 - 1s - loss: 0.0139 - val_loss: 0.0364 - 1s/epoch - 25ms/step\n",
      "Epoch 91/100\n",
      "59/59 - 1s - loss: 0.0109 - val_loss: 0.0291 - 1s/epoch - 25ms/step\n",
      "Epoch 92/100\n",
      "59/59 - 1s - loss: 0.0132 - val_loss: 0.0335 - 1s/epoch - 25ms/step\n",
      "Epoch 93/100\n",
      "59/59 - 2s - loss: 0.0103 - val_loss: 0.0268 - 2s/epoch - 25ms/step\n",
      "Epoch 94/100\n",
      "59/59 - 1s - loss: 0.0122 - val_loss: 0.0314 - 1s/epoch - 25ms/step\n",
      "Epoch 95/100\n",
      "59/59 - 1s - loss: 0.0107 - val_loss: 0.0269 - 1s/epoch - 25ms/step\n",
      "Epoch 96/100\n",
      "59/59 - 2s - loss: 0.0113 - val_loss: 0.0318 - 2s/epoch - 26ms/step\n",
      "Epoch 97/100\n",
      "59/59 - 1s - loss: 0.0105 - val_loss: 0.0264 - 1s/epoch - 25ms/step\n",
      "Epoch 98/100\n",
      "59/59 - 1s - loss: 0.0124 - val_loss: 0.0320 - 1s/epoch - 25ms/step\n",
      "Epoch 99/100\n",
      "59/59 - 1s - loss: 0.0102 - val_loss: 0.0273 - 1s/epoch - 25ms/step\n",
      "Epoch 100/100\n",
      "59/59 - 2s - loss: 0.0132 - val_loss: 0.0341 - 2s/epoch - 26ms/step\n"
     ]
    }
   ],
   "source": [
    "model = Sequential()\n",
    "model.add(LSTM(120,activation=\"sigmoid\",input_shape=(1,5)))\n",
    "model.add(Dropout(0.2))\n",
    "model.add(Dense(1))\n",
    "model.compile(loss='mean_squared_error', optimizer='adam')\n",
    "history=model.fit(X_train, y_train, epochs=100, batch_size=50, verbose=2,validation_data=(X_test, y_test), shuffle=False)"
   ]
  },
  {
   "cell_type": "code",
   "execution_count": 160,
   "metadata": {
    "scrolled": true
   },
   "outputs": [
    {
     "name": "stdout",
     "output_type": "stream",
     "text": [
      "Model: \"sequential_4\"\n",
      "_________________________________________________________________\n",
      " Layer (type)                Output Shape              Param #   \n",
      "=================================================================\n",
      " lstm_13 (LSTM)              (None, 120)               60480     \n",
      "                                                                 \n",
      " dropout_13 (Dropout)        (None, 120)               0         \n",
      "                                                                 \n",
      " dense_4 (Dense)             (None, 1)                 121       \n",
      "                                                                 \n",
      "=================================================================\n",
      "Total params: 60,601\n",
      "Trainable params: 60,601\n",
      "Non-trainable params: 0\n",
      "_________________________________________________________________\n"
     ]
    }
   ],
   "source": [
    "model.summary()"
   ]
  },
  {
   "cell_type": "code",
   "execution_count": 161,
   "metadata": {
    "scrolled": false
   },
   "outputs": [
    {
     "data": {
      "image/png": "[encoded data removed]",
      "text/plain": [
       "<Figure size 640x480 with 1 Axes>"
      ]
     },
     "metadata": {},
     "output_type": "display_data"
    }
   ],
   "source": [
    "# plot history\n",
    "import matplotlib.pyplot as pyplot \n",
    "pyplot.plot(history.history['loss'], label='train')\n",
    "pyplot.plot(history.history['val_loss'], label='test')\n",
    "pyplot.legend()\n",
    "pyplot.title('Mean Squared Error between Train and Test Sets')\n",
    "pyplot.show()"
   ]
  },
  {
   "cell_type": "code",
   "execution_count": 162,
   "metadata": {},
   "outputs": [
    {
     "name": "stdout",
     "output_type": "stream",
     "text": [
      "23/23 [==============================] - 0s 6ms/step\n"
     ]
    },
    {
     "data": {
      "text/plain": [
       "(731, 1)"
      ]
     },
     "execution_count": 162,
     "metadata": {},
     "output_type": "execute_result"
    }
   ],
   "source": [
    "predictions = model.predict(X_test)\n",
    "predictions.shape"
   ]
  },
  {
   "cell_type": "code",
   "execution_count": 163,
   "metadata": {},
   "outputs": [
    {
     "data": {
      "text/plain": [
       "(731, 1)"
      ]
     },
     "execution_count": 163,
     "metadata": {},
     "output_type": "execute_result"
    }
   ],
   "source": [
    "predictions_reshaped = predictions.reshape(predictions.shape[0], -1)\n",
    "predictions_reshaped.shape"
   ]
  },
  {
   "cell_type": "code",
   "execution_count": 164,
   "metadata": {},
   "outputs": [],
   "source": [
    "# 2. Convert both the predictions and actual values (y_test) to a DataFrame\n",
    "predictions_df = pd.DataFrame(predictions_reshaped, columns=['Predicted'])\n",
    "actual_values_df = pd.DataFrame(y_test, columns=['Actual'])"
   ]
  },
  {
   "cell_type": "code",
   "execution_count": 165,
   "metadata": {},
   "outputs": [],
   "source": [
    "# Reset index of both DataFrames if they have non-integer index\n",
    "predictions_df.reset_index(drop=True, inplace=True)\n",
    "actual_values_df.reset_index(drop=True, inplace=True)\n",
    "\n",
    "# 3. Merge the DataFrames based on the index\n",
    "comparison_df = pd.concat([actual_values_df, predictions_df], axis=1)"
   ]
  },
  {
   "cell_type": "code",
   "execution_count": 154,
   "metadata": {},
   "outputs": [
    {
     "data": {
      "image/png": "[encoded data removed]",
      "text/plain": [
       "<Figure size 1200x600 with 1 Axes>"
      ]
     },
     "metadata": {},
     "output_type": "display_data"
    }
   ],
   "source": [
    "# 4. Create a line plot to visualize the predictions vs actual values\n",
    "plt.figure(figsize=(12, 6))\n",
    "plt.plot(comparison_df['Actual'], label='Actual')\n",
    "plt.plot(comparison_df['Predicted'], label='Predicted', linestyle='--')\n",
    "plt.xlabel('Sample Index')\n",
    "plt.ylabel('Values')\n",
    "plt.legend()\n",
    "plt.title('Predicted vs Actual Values Comparison')\n",
    "plt.show()"
   ]
  },
  {
   "cell_type": "code",
   "execution_count": 166,
   "metadata": {},
   "outputs": [
    {
     "data": {
      "image/png": "[encoded data removed]",
      "text/plain": [
       "<Figure size 1200x600 with 1 Axes>"
      ]
     },
     "metadata": {},
     "output_type": "display_data"
    }
   ],
   "source": [
    "# 4. Create a line plot to visualize the predictions vs actual values\n",
    "plt.figure(figsize=(12, 6))\n",
    "plt.plot(comparison_df['Actual'], label='Actual')\n",
    "plt.plot(comparison_df['Predicted'], label='Predicted', linestyle='--')\n",
    "plt.xlabel('Sample Index')\n",
    "plt.ylabel('Values')\n",
    "plt.legend()\n",
    "plt.title('Predicted vs Actual Values Comparison')\n",
    "plt.show()"
   ]
  },
  {
   "cell_type": "code",
   "execution_count": 156,
   "metadata": {},
   "outputs": [
    {
     "name": "stdout",
     "output_type": "stream",
     "text": [
      "Mean Absolute Error (MAE): 0.2571218151125103\n",
      "Mean Squared Error (MSE): 0.1241060871635844\n",
      "Root Mean Squared Error (RMSE): 0.35228693867866345\n",
      "R² score: 0.8181988854565672\n"
     ]
    }
   ],
   "source": [
    "from sklearn.metrics import mean_absolute_error, mean_squared_error\n",
    "import numpy as np\n",
    "\n",
    "# Calculate the Mean Absolute Error (MAE)\n",
    "mae = mean_absolute_error(actual_values_df, predictions_df)\n",
    "mse = mean_squared_error(actual_values_df, predictions_df)\n",
    "rmse = np.sqrt(mse)\n",
    "r2 = r2_score(actual_values_df, predictions_df)\n",
    "\n",
    "# Print the evaluation metrics\n",
    "print(f\"Mean Absolute Error (MAE): {mae}\")\n",
    "print(f\"Mean Squared Error (MSE): {mse}\")\n",
    "print(f\"Root Mean Squared Error (RMSE): {rmse}\")\n",
    "print(f\"R² score: {r2}\")\n"
   ]
  },
  {
   "cell_type": "code",
   "execution_count": 167,
   "metadata": {},
   "outputs": [
    {
     "name": "stdout",
     "output_type": "stream",
     "text": [
      "Mean Absolute Error (MAE): 0.15733874179372156\n",
      "Mean Squared Error (MSE): 0.03413608001793282\n",
      "Root Mean Squared Error (RMSE): 0.18475951942439345\n",
      "R² score: 0.9499945769362312\n"
     ]
    }
   ],
   "source": [
    "from sklearn.metrics import mean_absolute_error, mean_squared_error\n",
    "import numpy as np\n",
    "\n",
    "# Calculate the Mean Absolute Error (MAE)\n",
    "mae = mean_absolute_error(actual_values_df, predictions_df)\n",
    "mse = mean_squared_error(actual_values_df, predictions_df)\n",
    "rmse = np.sqrt(mse)\n",
    "r2 = r2_score(actual_values_df, predictions_df)\n",
    "\n",
    "# Print the evaluation metrics\n",
    "print(f\"Mean Absolute Error (MAE): {mae}\")\n",
    "print(f\"Mean Squared Error (MSE): {mse}\")\n",
    "print(f\"Root Mean Squared Error (RMSE): {rmse}\")\n",
    "print(f\"R² score: {r2}\")\n"
   ]
  },
  {
   "cell_type": "code",
   "execution_count": null,
   "metadata": {},
   "outputs": [],
   "source": []
  },
  {
   "cell_type": "code",
   "execution_count": null,
   "metadata": {},
   "outputs": [],
   "source": []
  },
  {
   "cell_type": "code",
   "execution_count": null,
   "metadata": {},
   "outputs": [],
   "source": []
  },
  {
   "cell_type": "code",
   "execution_count": null,
   "metadata": {},
   "outputs": [],
   "source": []
  },
  {
   "cell_type": "code",
   "execution_count": null,
   "metadata": {},
   "outputs": [],
   "source": []
  },
  {
   "cell_type": "code",
   "execution_count": null,
   "metadata": {},
   "outputs": [],
   "source": []
  },
  {
   "cell_type": "code",
   "execution_count": null,
   "metadata": {},
   "outputs": [],
   "source": []
  },
  {
   "cell_type": "code",
   "execution_count": null,
   "metadata": {},
   "outputs": [],
   "source": []
  },
  {
   "cell_type": "code",
   "execution_count": 138,
   "metadata": {},
   "outputs": [
    {
     "name": "stdout",
     "output_type": "stream",
     "text": [
      "23/23 [==============================] - 3s 15ms/step\n",
      "Shape of predicted_BTC_price: (731, 1, 1)\n"
     ]
    }
   ],
   "source": [
    "# Predict BTC price using the trained model\n",
    "predicted_BTC_price = model.predict(X_test)\n",
    "print(\"Shape of predicted_BTC_price:\", predicted_BTC_price.shape)"
   ]
  },
  {
   "cell_type": "code",
   "execution_count": 139,
   "metadata": {},
   "outputs": [
    {
     "ename": "ValueError",
     "evalue": "all the input arrays must have same number of dimensions, but the array at index 0 has 2 dimension(s) and the array at index 1 has 3 dimension(s)",
     "output_type": "error",
     "traceback": [
      "\u001b[1;31m---------------------------------------------------------------------------\u001b[0m",
      "\u001b[1;31mValueError\u001b[0m                                Traceback (most recent call last)",
      "Cell \u001b[1;32mIn [139], line 3\u001b[0m\n\u001b[0;32m      1\u001b[0m \u001b[38;5;66;03m# Concatenate predicted_BTC_price and X_test\u001b[39;00m\n\u001b[0;32m      2\u001b[0m \u001b[38;5;28;01mfrom\u001b[39;00m \u001b[38;5;21;01mnumpy\u001b[39;00m \u001b[38;5;28;01mimport\u001b[39;00m concatenate\n\u001b[1;32m----> 3\u001b[0m Bitcoin_pred \u001b[38;5;241m=\u001b[39m \u001b[43mconcatenate\u001b[49m\u001b[43m(\u001b[49m\u001b[43m(\u001b[49m\u001b[43mpredicted_BTC_price\u001b[49m\u001b[43m[\u001b[49m\u001b[43m:\u001b[49m\u001b[43m,\u001b[49m\u001b[43m \u001b[49m\u001b[43m:\u001b[49m\u001b[43m,\u001b[49m\u001b[43m \u001b[49m\u001b[38;5;241;43m0\u001b[39;49m\u001b[43m]\u001b[49m\u001b[43m,\u001b[49m\u001b[43m \u001b[49m\u001b[43mX_test\u001b[49m\u001b[43m)\u001b[49m\u001b[43m,\u001b[49m\u001b[43m \u001b[49m\u001b[43maxis\u001b[49m\u001b[38;5;241;43m=\u001b[39;49m\u001b[38;5;241;43m1\u001b[39;49m\u001b[43m)\u001b[49m\n\u001b[0;32m      4\u001b[0m \u001b[38;5;28mprint\u001b[39m(\u001b[38;5;124m\"\u001b[39m\u001b[38;5;124mShape of Bitcoin_pred:\u001b[39m\u001b[38;5;124m\"\u001b[39m, Bitcoin_pred\u001b[38;5;241m.\u001b[39mshape)\n",
      "File \u001b[1;32m<__array_function__ internals>:180\u001b[0m, in \u001b[0;36mconcatenate\u001b[1;34m(*args, **kwargs)\u001b[0m\n",
      "\u001b[1;31mValueError\u001b[0m: all the input arrays must have same number of dimensions, but the array at index 0 has 2 dimension(s) and the array at index 1 has 3 dimension(s)"
     ]
    }
   ],
   "source": [
    "# Concatenate predicted_BTC_price and X_test\n",
    "from numpy import concatenate\n",
    "Bitcoin_pred = concatenate((predicted_BTC_price[:, :, 0], X_test), axis=1)\n",
    "print(\"Shape of Bitcoin_pred:\", Bitcoin_pred.shape)"
   ]
  },
  {
   "cell_type": "code",
   "execution_count": null,
   "metadata": {},
   "outputs": [],
   "source": []
  },
  {
   "cell_type": "code",
   "execution_count": null,
   "metadata": {},
   "outputs": [],
   "source": []
  },
  {
   "cell_type": "code",
   "execution_count": null,
   "metadata": {},
   "outputs": [],
   "source": []
  },
  {
   "cell_type": "code",
   "execution_count": null,
   "metadata": {},
   "outputs": [],
   "source": []
  },
  {
   "cell_type": "code",
   "execution_count": null,
   "metadata": {},
   "outputs": [],
   "source": []
  },
  {
   "cell_type": "code",
   "execution_count": null,
   "metadata": {},
   "outputs": [],
   "source": []
  },
  {
   "cell_type": "code",
   "execution_count": 119,
   "metadata": {
    "scrolled": true
   },
   "outputs": [
    {
     "name": "stdout",
     "output_type": "stream",
     "text": [
      "23/23 [==============================] - 7s 16ms/step\n"
     ]
    },
    {
     "data": {
      "text/plain": [
       "(731, 1, 1)"
      ]
     },
     "execution_count": 119,
     "metadata": {},
     "output_type": "execute_result"
    }
   ],
   "source": [
    "predicted_BTC_price = model.predict(X_test)\n",
    "predicted_BTC_price.shape"
   ]
  },
  {
   "cell_type": "code",
   "execution_count": 120,
   "metadata": {},
   "outputs": [
    {
     "name": "stdout",
     "output_type": "stream",
     "text": [
      "Shape of X_test:  (731, 5)\n"
     ]
    }
   ],
   "source": [
    "X_test = X_test.reshape((X_test.shape[0], X_test.shape[2]))\n",
    "print(\"Shape of X_test: \", X_test.shape)"
   ]
  },
  {
   "cell_type": "code",
   "execution_count": 121,
   "metadata": {},
   "outputs": [
    {
     "ename": "ValueError",
     "evalue": "all the input arrays must have same number of dimensions, but the array at index 0 has 3 dimension(s) and the array at index 1 has 2 dimension(s)",
     "output_type": "error",
     "traceback": [
      "\u001b[1;31m---------------------------------------------------------------------------\u001b[0m",
      "\u001b[1;31mValueError\u001b[0m                                Traceback (most recent call last)",
      "Cell \u001b[1;32mIn [121], line 3\u001b[0m\n\u001b[0;32m      1\u001b[0m \u001b[38;5;28;01mfrom\u001b[39;00m \u001b[38;5;21;01mnumpy\u001b[39;00m \u001b[38;5;28;01mimport\u001b[39;00m concatenate\n\u001b[1;32m----> 3\u001b[0m Bitcoin_pred \u001b[38;5;241m=\u001b[39m \u001b[43mconcatenate\u001b[49m\u001b[43m(\u001b[49m\u001b[43m(\u001b[49m\u001b[43mpredicted_BTC_price\u001b[49m\u001b[43m,\u001b[49m\u001b[43m \u001b[49m\u001b[43mX_test\u001b[49m\u001b[43m[\u001b[49m\u001b[43m:\u001b[49m\u001b[43m,\u001b[49m\u001b[43m:\u001b[49m\u001b[43m]\u001b[49m\u001b[43m)\u001b[49m\u001b[43m,\u001b[49m\u001b[43m \u001b[49m\u001b[43maxis\u001b[49m\u001b[38;5;241;43m=\u001b[39;49m\u001b[38;5;241;43m1\u001b[39;49m\u001b[43m)\u001b[49m\n",
      "File \u001b[1;32m<__array_function__ internals>:180\u001b[0m, in \u001b[0;36mconcatenate\u001b[1;34m(*args, **kwargs)\u001b[0m\n",
      "\u001b[1;31mValueError\u001b[0m: all the input arrays must have same number of dimensions, but the array at index 0 has 3 dimension(s) and the array at index 1 has 2 dimension(s)"
     ]
    }
   ],
   "source": [
    "from numpy import concatenate\n",
    "\n",
    "Bitcoin_pred = concatenate((predicted_BTC_price, X_test[:,:]), axis=1)"
   ]
  },
  {
   "cell_type": "code",
   "execution_count": null,
   "metadata": {},
   "outputs": [],
   "source": [
    "Bitcoin_pred = scaler.inverse_transform(Bitcoin_pred)\n",
    "Bitcoin_pred = Bitcoin_pred[:,0]\n",
    "Bitcoin_pred"
   ]
  },
  {
   "cell_type": "code",
   "execution_count": null,
   "metadata": {
    "scrolled": true
   },
   "outputs": [],
   "source": [
    "data_test=pd.DataFrame(scaler.inverse_transform(data_test), columns=data.columns, index=test.index)\n",
    "data_test.head()"
   ]
  },
  {
   "cell_type": "code",
   "execution_count": null,
   "metadata": {
    "scrolled": true
   },
   "outputs": [],
   "source": [
    "data_train=pd.DataFrame(scaler.inverse_transform(data_train), columns=data.columns, index=train.index)\n",
    "data_train.head()"
   ]
  },
  {
   "cell_type": "code",
   "execution_count": null,
   "metadata": {},
   "outputs": [],
   "source": [
    "data_test['M_LSTM_Pred'] = Bitcoin_pred\n",
    "mixed_data = pd.concat([data_test, data_train], sort=False)\n",
    "mixed_data.head()"
   ]
  },
  {
   "cell_type": "code",
   "execution_count": null,
   "metadata": {},
   "outputs": [],
   "source": [
    "#saving the predicted values in a common data frame for future comparison\n",
    "final_data = mixed_data\n",
    "final_data = final_data.reset_index()\n",
    "final_data = final_data.rename(columns={'M_LSTM_Pred': 'LSTM prediction'})\n",
    "final_data = final_data[['Timestamp','Weighted_Price','LSTM prediction']]"
   ]
  },
  {
   "cell_type": "code",
   "execution_count": null,
   "metadata": {},
   "outputs": [],
   "source": [
    "final_data"
   ]
  },
  {
   "cell_type": "code",
   "execution_count": null,
   "metadata": {},
   "outputs": [],
   "source": [
    "mixed_data[['Weighted_Price','M_LSTM_Pred']].plot(figsize=(15, 5),title=('Weighted Price vs Weighted Price M_LSTM'))"
   ]
  },
  {
   "cell_type": "code",
   "execution_count": null,
   "metadata": {},
   "outputs": [],
   "source": [
    "#calculate MSE and MAE\n",
    "from sklearn.metrics import mean_squared_error, mean_absolute_error\n",
    "import math \n",
    "from sklearn.metrics import mean_absolute_error"
   ]
  },
  {
   "cell_type": "code",
   "execution_count": null,
   "metadata": {},
   "outputs": [],
   "source": [
    "rmse=math.sqrt(mean_squared_error(y_true=data_test['Weighted_Price'],\n",
    "                   y_pred=data_test['M_LSTM_Pred']))\n",
    "print('RMSE:',rmse)"
   ]
  },
  {
   "cell_type": "code",
   "execution_count": null,
   "metadata": {
    "scrolled": true
   },
   "outputs": [],
   "source": [
    "mean_absolute_error(y_true=data_test['Weighted_Price'],\n",
    "                   y_pred=data_test['M_LSTM_Pred'])"
   ]
  },
  {
   "cell_type": "code",
   "execution_count": null,
   "metadata": {},
   "outputs": [],
   "source": [
    "r2_score(data_test['Weighted_Price'], data_test['M_LSTM_Pred'])"
   ]
  },
  {
   "cell_type": "markdown",
   "metadata": {},
   "source": [
    "# -------------------------------------------------------------------------------------"
   ]
  },
  {
   "cell_type": "markdown",
   "metadata": {},
   "source": [
    "## <font color= blue >7.2 Univariate Time Series with LSTM </font> <a class=\"anchor\" id=\"fifth-bullet\"></a>"
   ]
  },
  {
   "cell_type": "markdown",
   "metadata": {},
   "source": [
    "Preparing the data to train and validate the the Univariate Time Series Model"
   ]
  },
  {
   "cell_type": "code",
   "execution_count": null,
   "metadata": {},
   "outputs": [],
   "source": [
    "only_train=train.to_numpy()\n",
    "only_test=test.to_numpy()"
   ]
  },
  {
   "cell_type": "code",
   "execution_count": null,
   "metadata": {},
   "outputs": [],
   "source": [
    "only_train1=only_train[0:len(only_train)-1]\n",
    "only_test1=only_test[0:len(only_test)-1]\n",
    "\n",
    "only_y_train=only_train[1:len(only_train)]\n",
    "only_y_test=only_test[1:len(only_test)]"
   ]
  },
  {
   "cell_type": "code",
   "execution_count": null,
   "metadata": {},
   "outputs": [],
   "source": [
    "len(only_train1)"
   ]
  },
  {
   "cell_type": "code",
   "execution_count": null,
   "metadata": {},
   "outputs": [],
   "source": [
    "print(only_train1.shape, only_y_train.shape, only_test1.shape, only_y_test.shape)"
   ]
  },
  {
   "cell_type": "code",
   "execution_count": null,
   "metadata": {},
   "outputs": [],
   "source": [
    "len(only_train[1:len(only_train)])"
   ]
  },
  {
   "cell_type": "code",
   "execution_count": null,
   "metadata": {},
   "outputs": [],
   "source": [
    "only_train1 = only_train1.reshape((only_train1.shape[0], 1, only_train1.shape[1]))\n",
    "only_test1 = only_test1.reshape((only_test1.shape[0], 1, only_test1.shape[1]))\n",
    "print(only_train1.shape, only_y_train.shape, only_test1.shape, only_y_test.shape)"
   ]
  },
  {
   "cell_type": "code",
   "execution_count": null,
   "metadata": {},
   "outputs": [],
   "source": [
    "only_train.shape"
   ]
  },
  {
   "cell_type": "code",
   "execution_count": null,
   "metadata": {
    "scrolled": true
   },
   "outputs": [],
   "source": [
    "only_y_train=only_y_train.reshape((only_y_train.shape[0],only_y_train.shape[1]))"
   ]
  },
  {
   "cell_type": "code",
   "execution_count": null,
   "metadata": {},
   "outputs": [],
   "source": [
    "only_y_test = only_y_test.reshape((only_y_test.shape[0], only_y_test.shape[1]))"
   ]
  },
  {
   "cell_type": "code",
   "execution_count": null,
   "metadata": {},
   "outputs": [],
   "source": [
    "print(only_train1.shape, only_y_train.shape)"
   ]
  },
  {
   "cell_type": "code",
   "execution_count": null,
   "metadata": {
    "scrolled": true
   },
   "outputs": [],
   "source": [
    "from keras.models import Sequential\n",
    "from keras.layers import Dense\n",
    "from keras.layers import LSTM\n",
    "from keras.layers import Dropout\n",
    "from keras.layers import Activation\n",
    "\n",
    "\n",
    "uni_model = Sequential()\n",
    "uni_model.add(LSTM(120,activation=\"sigmoid\",input_shape=(1,1)))\n",
    "uni_model.add(Dropout(0.2))\n",
    "uni_model.add(Dense(1))\n",
    "uni_model.compile(loss='mean_squared_error', optimizer='adam')  \n",
    "history1=uni_model.fit(only_train1, only_y_train, epochs=100, batch_size=50, verbose=2, validation_data=(only_test1, only_y_test), shuffle=False)#"
   ]
  },
  {
   "cell_type": "code",
   "execution_count": null,
   "metadata": {},
   "outputs": [],
   "source": [
    "import matplotlib.pyplot as pyplot \n",
    "pyplot.plot(history1.history['loss'], label='train')\n",
    "pyplot.plot(history1.history['val_loss'], label='test')\n",
    "pyplot.legend()\n",
    "pyplot.title('Mean Squared Error between Train and Test Sets')\n",
    "pyplot.show()"
   ]
  },
  {
   "cell_type": "code",
   "execution_count": null,
   "metadata": {
    "scrolled": true
   },
   "outputs": [],
   "source": [
    "uni_predicted_BTC_price = uni_model.predict(only_test.reshape(only_test.shape[0],1,1))\n",
    "uni_predicted_BTC_price"
   ]
  },
  {
   "cell_type": "code",
   "execution_count": null,
   "metadata": {},
   "outputs": [],
   "source": [
    "X_test.shape"
   ]
  },
  {
   "cell_type": "code",
   "execution_count": null,
   "metadata": {},
   "outputs": [],
   "source": [
    "data_test['M_LSTM_Pred'] = Bitcoin_pred\n",
    "mixed_data = pd.concat([data_test, data_train], sort=False)"
   ]
  },
  {
   "cell_type": "code",
   "execution_count": null,
   "metadata": {},
   "outputs": [],
   "source": [
    "Bitcoin_pred_uni = concatenate((uni_predicted_BTC_price, X_test), axis=1)\n",
    "Bitcoin_pred_uni = scaler.inverse_transform(Bitcoin_pred_uni)\n",
    "Bitcoin_pred_uni[:,0]"
   ]
  },
  {
   "cell_type": "code",
   "execution_count": null,
   "metadata": {
    "scrolled": true
   },
   "outputs": [],
   "source": [
    "data_test['Uni_LSTM_Pred']=Bitcoin_pred_uni[:,0]\n",
    "data_test.head()"
   ]
  },
  {
   "cell_type": "code",
   "execution_count": null,
   "metadata": {},
   "outputs": [],
   "source": [
    "mixed_data2 = pd.concat([data_test, data_train], sort=False)\n",
    "mixed_data2.head()"
   ]
  },
  {
   "cell_type": "code",
   "execution_count": null,
   "metadata": {},
   "outputs": [],
   "source": [
    "mixed_data2[['Weighted_Price','Uni_LSTM_Pred']].plot(figsize=(15, 5),title=('Actual Weighted Price vs Weighted Price U_LSTM'))"
   ]
  },
  {
   "cell_type": "code",
   "execution_count": null,
   "metadata": {},
   "outputs": [],
   "source": [
    "mixed_data2=mixed_data2.reset_index()"
   ]
  },
  {
   "cell_type": "code",
   "execution_count": null,
   "metadata": {
    "scrolled": true
   },
   "outputs": [],
   "source": [
    "final_data['Uni_LSTM_Pred']=mixed_data2['Uni_LSTM_Pred']\n",
    "final_data"
   ]
  },
  {
   "cell_type": "code",
   "execution_count": null,
   "metadata": {},
   "outputs": [],
   "source": [
    "rmse=math.sqrt(mean_squared_error(y_true=data_test['Weighted_Price'],\n",
    "                   y_pred=data_test['Uni_LSTM_Pred']))\n",
    "print('RMSE:',rmse)"
   ]
  },
  {
   "cell_type": "code",
   "execution_count": null,
   "metadata": {
    "scrolled": true
   },
   "outputs": [],
   "source": [
    "mean_absolute_error(y_true=data_test['Weighted_Price'],\n",
    "                   y_pred=data_test['Uni_LSTM_Pred'])"
   ]
  },
  {
   "cell_type": "code",
   "execution_count": null,
   "metadata": {
    "scrolled": true
   },
   "outputs": [],
   "source": [
    "r2_score(data_test['Weighted_Price'], data_test['Uni_LSTM_Pred'])"
   ]
  },
  {
   "cell_type": "markdown",
   "metadata": {},
   "source": [
    "# -------------------------------------------------------------------------------------"
   ]
  },
  {
   "cell_type": "markdown",
   "metadata": {},
   "source": [
    "## <font color= blue >7.3 Time Series Forecasting with FacebookProphet </font> <a class=\"anchor\" id=\"fifth-bullet\"></a>"
   ]
  },
  {
   "cell_type": "markdown",
   "metadata": {},
   "source": [
    "__Prophet__ is a procedure for forecasting time series data based on an additive model where non-linear trends are fit with yearly, weekly, and daily seasonality, plus holiday effects. <br>\n",
    "\n",
    "It works best with time series that have strong seasonal effects and several seasons of historical data. Prophet is robust to missing data and shifts in the trend, and typically handles outliers well. <br>\n",
    "\n",
    "\n",
    "__Data does not need to be normalized, Prophet will actually internally scale y before fitting the model__<br>"
   ]
  },
  {
   "cell_type": "code",
   "execution_count": null,
   "metadata": {},
   "outputs": [],
   "source": [
    "# In anaconda prompt\n",
    "# conda install libpython m2w64-toolchain -c msys2\n",
    "# pip install pystan\n",
    "# pip install fbprophet"
   ]
  },
  {
   "cell_type": "code",
   "execution_count": null,
   "metadata": {},
   "outputs": [],
   "source": [
    "df_day.head()"
   ]
  },
  {
   "cell_type": "code",
   "execution_count": null,
   "metadata": {},
   "outputs": [],
   "source": [
    "#Facebook Prophet packages:\n",
    "from prophet import Prophet\n",
    "from prophet.diagnostics import cross_validation, performance_metrics\n",
    "from prophet.plot import add_changepoints_to_plot, plot_cross_validation_metric\n",
    "\n",
    "\n",
    "from sklearn.metrics import accuracy_score\n",
    "from sklearn.metrics import r2_score\n",
    "# Warnings\n",
    "import warnings\n",
    "warnings.filterwarnings('ignore')"
   ]
  },
  {
   "cell_type": "code",
   "execution_count": null,
   "metadata": {},
   "outputs": [],
   "source": [
    "# Renaming the column names accroding to Prophet's requirements\n",
    "prophet_df = df_day.reset_index()[['Timestamp','Weighted_Price']]\n",
    "prophet_df.rename(columns={'Timestamp':'ds','Weighted_Price':'y'},inplace=True)"
   ]
  },
  {
   "cell_type": "code",
   "execution_count": null,
   "metadata": {},
   "outputs": [],
   "source": [
    "# Basic model \n",
    "prophet_basic = Prophet()\n",
    "prophet_basic.fit(prophet_df[['ds','y']])"
   ]
  },
  {
   "cell_type": "code",
   "execution_count": null,
   "metadata": {},
   "outputs": [],
   "source": [
    "# Making predictions for 1 year, until 2022-01-01\n",
    "future= prophet_basic.make_future_dataframe(periods=365)#Making predictions for one year\n",
    "future.tail(1)"
   ]
  },
  {
   "cell_type": "code",
   "execution_count": null,
   "metadata": {},
   "outputs": [],
   "source": [
    "forecast = prophet_basic.predict(future)"
   ]
  },
  {
   "cell_type": "code",
   "execution_count": null,
   "metadata": {},
   "outputs": [],
   "source": [
    "fig = prophet_basic.plot(forecast)"
   ]
  },
  {
   "cell_type": "markdown",
   "metadata": {},
   "source": [
    "__Adding ChangePoints to Prophet__<br>\n",
    "Changepoints are the datetime points where the time series have abrupt changes in the trajectory.<br>\n",
    "By default, Prophet adds 25 changepoints to the initial 80% of the data-set."
   ]
  },
  {
   "cell_type": "code",
   "execution_count": null,
   "metadata": {},
   "outputs": [],
   "source": [
    "fig_1 = prophet_basic.plot(forecast)\n",
    "a = add_changepoints_to_plot(fig_1.gca(), prophet_basic, forecast)\n",
    "\n",
    "print('Change points: ','{prophet_basic.changepoints}\\n')"
   ]
  },
  {
   "cell_type": "code",
   "execution_count": null,
   "metadata": {},
   "outputs": [],
   "source": [
    "print('Change points:\\n\\n',prophet_basic.changepoints)"
   ]
  },
  {
   "cell_type": "markdown",
   "metadata": {},
   "source": [
    "__Adding Multiple Regressors__ <br>\n",
    "Additional regressors can be added to the Prophet model. This is done by using add_regressor. <br>\n",
    "Additional regressor column value needs to be present in both the fitting as well as prediction dataframes.\n"
   ]
  },
  {
   "cell_type": "code",
   "execution_count": null,
   "metadata": {},
   "outputs": [],
   "source": [
    "prophet_df['Open'] = df_day.reset_index()['Open']\n",
    "prophet_df['High'] = df_day.reset_index()['High']\n",
    "prophet_df['Low'] = df_day.reset_index()['Low']\n",
    "prophet_df['Vol(BTC)'] = df_day.reset_index()['Volume_(BTC)']\n",
    "prophet_df['Vol(curr)'] = df_day.reset_index()['Volume_(Currency)']"
   ]
  },
  {
   "cell_type": "code",
   "execution_count": null,
   "metadata": {},
   "outputs": [],
   "source": [
    "prophet_df.head()"
   ]
  },
  {
   "cell_type": "code",
   "execution_count": null,
   "metadata": {},
   "outputs": [],
   "source": [
    "pro_regressor= Prophet()\n",
    "pro_regressor.add_regressor('Open')\n",
    "pro_regressor.add_regressor('High')\n",
    "pro_regressor.add_regressor('Low')\n",
    "pro_regressor.add_regressor('Vol(BTC)')\n",
    "pro_regressor.add_regressor('Vol(curr)')\n",
    "\n",
    "splitter= '2019-01-01'\n",
    "train_X = prophet_df.loc[prophet_df.ds <= splitter]\n",
    "test_X = prophet_df.loc[prophet_df.ds > splitter]"
   ]
  },
  {
   "cell_type": "code",
   "execution_count": null,
   "metadata": {},
   "outputs": [],
   "source": [
    "#Fitting the data\n",
    "pro_regressor.fit(train_X)\n",
    "future_data = pro_regressor.make_future_dataframe(periods=365)"
   ]
  },
  {
   "cell_type": "code",
   "execution_count": null,
   "metadata": {},
   "outputs": [],
   "source": [
    "#Forecast the data for Test  data\n",
    "forecast_data = pro_regressor.predict(test_X)\n",
    "pro_regressor.plot(forecast_data);"
   ]
  },
  {
   "cell_type": "code",
   "execution_count": null,
   "metadata": {},
   "outputs": [],
   "source": [
    "df_cv = cross_validation(pro_regressor, initial='100 days', period='180 days', horizon = '365 days')\n",
    "pm = performance_metrics(df_cv, rolling_window=0.1)\n",
    "display(pm.head(),pm.tail())"
   ]
  },
  {
   "cell_type": "code",
   "execution_count": null,
   "metadata": {},
   "outputs": [],
   "source": [
    "# Plot the forecast with the actuals\n",
    "f, ax = plt.subplots(1)\n",
    "f.set_figheight(5)\n",
    "f.set_figwidth(15)\n",
    "ax.scatter(test_X.ds, test_X.y, color='r')\n",
    "fig = pro_regressor.plot(forecast_data, ax=ax)"
   ]
  },
  {
   "cell_type": "code",
   "execution_count": null,
   "metadata": {},
   "outputs": [],
   "source": [
    " from prophet.utilities import regressor_coefficients"
   ]
  },
  {
   "cell_type": "code",
   "execution_count": null,
   "metadata": {},
   "outputs": [],
   "source": [
    "regressor_coefficients(pro_regressor)"
   ]
  },
  {
   "cell_type": "code",
   "execution_count": null,
   "metadata": {},
   "outputs": [],
   "source": [
    "#for comparision of predictions\n",
    "forecast_data = forecast_data.rename(columns={'ds': 'Timestamp'})\n",
    "forecast_data = forecast_data.rename(columns={'yhat': 'prophet'})\n",
    "test_X = test_X.rename(columns={'ds': 'Timestamp'})\n",
    "test_X = test_X.rename(columns={'y': 'Weighted_Price'})\n",
    "\n",
    "data_compare = pd.merge(test_X, forecast_data, on='Timestamp')\n",
    "data_compare = data_compare[['Timestamp','Weighted_Price','prophet']]\n",
    "data_compare = data_compare.set_index('Timestamp')\n",
    "data_compare.head()"
   ]
  },
  {
   "cell_type": "code",
   "execution_count": null,
   "metadata": {},
   "outputs": [],
   "source": [
    "data_compare.tail()"
   ]
  },
  {
   "cell_type": "code",
   "execution_count": null,
   "metadata": {},
   "outputs": [],
   "source": [
    "rmse=math.sqrt(mean_squared_error(y_true=data_compare['Weighted_Price'],\n",
    "                   y_pred=data_compare['prophet']))\n",
    "print('RMSE:',rmse)"
   ]
  },
  {
   "cell_type": "code",
   "execution_count": null,
   "metadata": {
    "scrolled": true
   },
   "outputs": [],
   "source": [
    "mean_absolute_error(y_true=data_compare['Weighted_Price'],\n",
    "                   y_pred=data_compare['prophet'])"
   ]
  },
  {
   "cell_type": "code",
   "execution_count": null,
   "metadata": {},
   "outputs": [],
   "source": [
    "r2_score(data_compare['Weighted_Price'], data_compare['prophet'])"
   ]
  },
  {
   "cell_type": "markdown",
   "metadata": {},
   "source": [
    "# -------------------------------------------------------------------------------------"
   ]
  },
  {
   "cell_type": "markdown",
   "metadata": {},
   "source": [
    "## <font color= blue >7.4 Time Series Forecasting with ARIMAX </font> <a class=\"anchor\" id=\"fifth-bullet\"></a>"
   ]
  },
  {
   "cell_type": "markdown",
   "metadata": {},
   "source": [
    "__pmdarima package: project description__ https://pypi.org/project/pmdarima/#description"
   ]
  },
  {
   "cell_type": "markdown",
   "metadata": {},
   "source": [
    "For this model we will be using Auto ARIMA functionality in python using the pmdarima package. <br>\n",
    "\n",
    "In Auto ARIMA function itself operates a bit like a grid search. The model itself will generate the optimal p, d, and q parameters which would be best suitable for the data set to provide better forecasting."
   ]
  },
  {
   "cell_type": "code",
   "execution_count": null,
   "metadata": {},
   "outputs": [],
   "source": [
    "import pmdarima as pm"
   ]
  },
  {
   "cell_type": "code",
   "execution_count": null,
   "metadata": {},
   "outputs": [],
   "source": [
    "df_1 = df_day.copy()"
   ]
  },
  {
   "cell_type": "code",
   "execution_count": null,
   "metadata": {},
   "outputs": [],
   "source": [
    "# basically creating a range that includes all data\n",
    "start = '2012-01-01'\n",
    "end = '2021-01-01'\n",
    "\n",
    "# find rows between start and end time \n",
    "df_1 = df_1[(df_1.index >= start) & (df_1.index <= end)]\n",
    "df_1.tail()"
   ]
  },
  {
   "cell_type": "code",
   "execution_count": null,
   "metadata": {},
   "outputs": [],
   "source": [
    "df_1.info()"
   ]
  },
  {
   "cell_type": "code",
   "execution_count": null,
   "metadata": {},
   "outputs": [],
   "source": [
    "exogenous_features = ['Open','High','Low','Close','Volume_(BTC)','Volume_(Currency)']"
   ]
  },
  {
   "cell_type": "code",
   "execution_count": null,
   "metadata": {},
   "outputs": [],
   "source": [
    "model = pm.auto_arima(data_train.Weighted_Price, exogenous=data_train[exogenous_features], trace=True, error_action=\"ignore\", suppress_warnings=True)\n",
    "model.fit(data_train.Weighted_Price, exogenous=data_train[exogenous_features])\n",
    "\n",
    "forecast = model.predict(n_periods=len(data_test), exogenous=data_test[exogenous_features])\n",
    "data_test[\"ARIMAX_Pred\"] = forecast"
   ]
  },
  {
   "cell_type": "code",
   "execution_count": null,
   "metadata": {},
   "outputs": [],
   "source": [
    "model.summary()"
   ]
  },
  {
   "cell_type": "code",
   "execution_count": null,
   "metadata": {},
   "outputs": [],
   "source": [
    "mixed_data3 = pd.concat([data_test, data_train], sort=False)\n",
    "mixed_data3.head()"
   ]
  },
  {
   "cell_type": "code",
   "execution_count": null,
   "metadata": {},
   "outputs": [],
   "source": [
    "mixed_data3[['Weighted_Price','ARIMAX_Pred']].plot(figsize=(15, 5),title=('Actual Weighted Price vs ARIMAX Price Prediction'))"
   ]
  },
  {
   "cell_type": "code",
   "execution_count": null,
   "metadata": {},
   "outputs": [],
   "source": [
    "# For Monthly Frequency ACF and PACF\n",
    "\n",
    "fig, (ax1, ax2) = plt.subplots(1,2, figsize=(20,6))\n",
    "\n",
    "data_test[[\"Weighted_Price\"]].plot(figsize=(14, 7), ax=ax1)\n",
    "\n",
    "data_test[[\"ARIMAX_Pred\"]].plot(figsize=(14, 7), ax=ax2)\n",
    "plt.title(\"Weighted Price vs Arimax Prediction\", size=20)\n"
   ]
  },
  {
   "cell_type": "code",
   "execution_count": null,
   "metadata": {},
   "outputs": [],
   "source": [
    "rmse=math.sqrt(mean_squared_error(y_true=data_test['Weighted_Price'],\n",
    "                   y_pred=data_test['ARIMAX_Pred']))\n",
    "print('RMSE:',rmse)"
   ]
  },
  {
   "cell_type": "code",
   "execution_count": null,
   "metadata": {},
   "outputs": [],
   "source": [
    "\n",
    "mean_absolute_error(y_true=data_test['Weighted_Price'],\n",
    "                   y_pred=data_test['ARIMAX_Pred'])"
   ]
  },
  {
   "cell_type": "code",
   "execution_count": null,
   "metadata": {},
   "outputs": [],
   "source": [
    "r2_score(data_test['Weighted_Price'], data_test['ARIMAX_Pred'])"
   ]
  },
  {
   "cell_type": "markdown",
   "metadata": {},
   "source": [
    "# -------------------------------------------------------------------------------------"
   ]
  },
  {
   "cell_type": "markdown",
   "metadata": {},
   "source": [
    "## <font color= blue >8. Results comparison </font> <a class=\"anchor\" id=\"fifth-bullet\"></a>"
   ]
  },
  {
   "cell_type": "code",
   "execution_count": null,
   "metadata": {},
   "outputs": [],
   "source": [
    "mixed_data3['Prophet_Pred'] = data_compare['prophet']\n",
    "final_comp = mixed_data3.copy()\n",
    "display(final_comp.head())"
   ]
  },
  {
   "cell_type": "code",
   "execution_count": null,
   "metadata": {},
   "outputs": [],
   "source": [
    "fig = go.Figure()\n",
    "fig.add_trace(go.Scatter(x=final_comp.index, y=final_comp.Weighted_Price, name='Weighted_Price',\n",
    "                         line=dict(color='chartreuse', width=4)))\n",
    "fig.add_trace(go.Scatter(x=final_comp.index, y=final_comp.M_LSTM_Pred, name = 'M_LSTM_Pred',\n",
    "                         line=dict(color='coral', width=4, dash='dot')))\n",
    "fig.add_trace(go.Scatter(x=final_comp.index, y=final_comp.Uni_LSTM_Pred, name='Uni_LSTM_Pred',\n",
    "                         line=dict(color='crimson', width=4, dash='dot')))\n",
    "fig.add_trace(go.Scatter(x=final_comp.index, y=final_comp.ARIMAX_Pred, name='ARIMAX_Pred',\n",
    "                         line = dict(color='cyan', width=4, dash='dot')))\n",
    "fig.add_trace(go.Scatter(x=final_comp.index, y=final_comp.Prophet_Pred, name='Prophet_Pred',\n",
    "                         line=dict(color='darkblue', width=4, dash='dot')))\n",
    "fig.update_layout(title='Models Comparison',\n",
    "                   xaxis_title='Years',\n",
    "                   yaxis_title='USD (thousands)')\n",
    "fig.show()"
   ]
  },
  {
   "cell_type": "code",
   "execution_count": null,
   "metadata": {},
   "outputs": [],
   "source": [
    "# split data into train and test sets\n",
    "splitter= '2019-01-01'\n",
    "df_results = final_comp[['Weighted_Price','M_LSTM_Pred','Uni_LSTM_Pred','ARIMAX_Pred','Prophet_Pred']]\n",
    "df_results = df_results.loc[df_results.index > splitter]\n",
    "\n",
    "display(df_results.head())\n",
    "\n",
    "\n",
    "# Plot \n",
    "\n",
    "fig = go.Figure()\n",
    "fig.add_trace(go.Scatter(x=df_results.index, y=df_results.Weighted_Price, name='Weighted_Price',\n",
    "                         line=dict(color='chartreuse', width=4)))\n",
    "fig.add_trace(go.Scatter(x=df_results.index, y=df_results.M_LSTM_Pred, name = 'M_LSTM_Pred',\n",
    "                         line=dict(color='coral', width=4, dash='dot')))\n",
    "fig.add_trace(go.Scatter(x=df_results.index, y=df_results.Uni_LSTM_Pred, name='Uni_LSTM_Pred',\n",
    "                         line=dict(color='crimson', width=4, dash='dot')))\n",
    "fig.add_trace(go.Scatter(x=df_results.index, y=df_results.ARIMAX_Pred, name='ARIMAX_Pred',\n",
    "                         line = dict(color='yellow', width=4, dash='dot')))\n",
    "fig.add_trace(go.Scatter(x=df_results.index, y=df_results.Prophet_Pred, name='Prophet_Pred',\n",
    "                         line=dict(color='darkblue', width=4, dash='dot')))\n",
    "fig.update_layout(title='Models Comparison',\n",
    "                   xaxis_title='Years',\n",
    "                   yaxis_title='USD (thousands)')\n",
    "fig.show()"
   ]
  },
  {
   "cell_type": "code",
   "execution_count": null,
   "metadata": {},
   "outputs": [],
   "source": [
    "# PLOTS\n",
    "fig = plt.figure(figsize=[35, 15])\n",
    "plt.suptitle('Bitcoin exchanges, mean USD', fontsize=22)\n",
    "\n",
    "plt.subplot(221)\n",
    "plt.plot(df_results.Weighted_Price, '-', label='Real')\n",
    "plt.legend()\n",
    "plt.subplot(221)\n",
    "plt.plot(df_results.M_LSTM_Pred, '-', label='M_LSTM_Pred')\n",
    "plt.legend()\n",
    "plt.subplot(221)\n",
    "plt.plot(df_results.Uni_LSTM_Pred, '-', label='UNI_LSTM')\n",
    "plt.legend()\n",
    "plt.subplot(221)\n",
    "plt.plot(df_results.ARIMAX_Pred, '-', label='Arimax')\n",
    "plt.legend()\n",
    "plt.subplot(221)\n",
    "plt.plot(df_results.Prophet_Pred, '-', label='Prophet')\n",
    "plt.legend()\n",
    "plt.show()"
   ]
  },
  {
   "cell_type": "code",
   "execution_count": null,
   "metadata": {},
   "outputs": [],
   "source": [
    "df_results"
   ]
  },
  {
   "cell_type": "code",
   "execution_count": null,
   "metadata": {},
   "outputs": [],
   "source": [
    "print('RMSE:',math.sqrt(mean_squared_error(y_true=df_results['Weighted_Price'],y_pred=df_results['M_LSTM_Pred'])))\n",
    "print('MAE:', mean_absolute_error(y_true=df_results['Weighted_Price'],y_pred=df_results['M_LSTM_Pred']))\n",
    "print('R2_score:', r2_score(df_results['Weighted_Price'], df_results['M_LSTM_Pred']))"
   ]
  },
  {
   "cell_type": "code",
   "execution_count": null,
   "metadata": {},
   "outputs": [],
   "source": [
    "print('RMSE:',math.sqrt(mean_squared_error(y_true=df_results['Weighted_Price'],y_pred=df_results['Uni_LSTM_Pred'])))\n",
    "print('MAE:', mean_absolute_error(y_true=df_results['Weighted_Price'],y_pred=df_results['Uni_LSTM_Pred']))\n",
    "print('R2_score:', r2_score(df_results['Weighted_Price'], df_results['Uni_LSTM_Pred']))"
   ]
  },
  {
   "cell_type": "code",
   "execution_count": null,
   "metadata": {},
   "outputs": [],
   "source": [
    "print('RMSE:',math.sqrt(mean_squared_error(y_true=df_results['Weighted_Price'],y_pred=df_results['ARIMAX_Pred'])))\n",
    "print('MAE:', mean_absolute_error(y_true=df_results['Weighted_Price'],y_pred=df_results['ARIMAX_Pred']))\n",
    "print('R2_score:', r2_score(df_results['Weighted_Price'], df_results['ARIMAX_Pred']))"
   ]
  },
  {
   "cell_type": "code",
   "execution_count": null,
   "metadata": {},
   "outputs": [],
   "source": [
    "print('RMSE:',math.sqrt(mean_squared_error(y_true=df_results['Weighted_Price'],y_pred=df_results['Prophet_Pred'])))\n",
    "print('MAE:', mean_absolute_error(y_true=df_results['Weighted_Price'],y_pred=df_results['Prophet_Pred']))\n",
    "print('R2_score:', r2_score(df_results['Weighted_Price'], df_results['Prophet_Pred']))"
   ]
  },
  {
   "cell_type": "code",
   "execution_count": null,
   "metadata": {},
   "outputs": [],
   "source": []
  },
  {
   "cell_type": "code",
   "execution_count": null,
   "metadata": {},
   "outputs": [],
   "source": []
  }
 ],
 "metadata": {
  "kernelspec": {
   "display_name": "Python 3 (ipykernel)",
   "language": "python",
   "name": "python3"
  },
  "language_info": {
   "codemirror_mode": {
    "name": "ipython",
    "version": 3
   },
   "file_extension": ".py",
   "mimetype": "text/x-python",
   "name": "python",
   "nbconvert_exporter": "python",
   "pygments_lexer": "ipython3",
   "version": "3.9.13"
  }
 },
 "nbformat": 4,
 "nbformat_minor": 2
}
